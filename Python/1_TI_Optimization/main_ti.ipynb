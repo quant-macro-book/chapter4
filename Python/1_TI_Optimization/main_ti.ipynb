{
 "cells": [
  {
   "cell_type": "markdown",
   "id": "a20074d9",
   "metadata": {},
   "source": [
    "### 新古典派成長モデルの時間反復法による数値解法\n",
    "代表的個人の問題は以下のように書ける\n",
    "\\begin{align*}\n",
    " && \\underset{{c_{t},k_{t+1}}}{\\max} \\sum_{t=0}^{\\infty} \\beta^t u(c_t) \\\\\n",
    " \\text{subject to} && c_t + k_{t+1} = f(k_t), \\\\\n",
    " && k_0 \\text{ is given.}\n",
    "\\end{align*}\n",
    "ここで、$u(c)=\\frac{c^{1-\\sigma}}{1-\\sigma}, f(k)=k^{\\alpha}+(1-\\delta)k$"
   ]
  },
  {
   "cell_type": "code",
   "execution_count": 3,
   "id": "3b938941",
   "metadata": {},
   "outputs": [],
   "source": [
    "#必要な関数・モジュールを呼び出す\n",
    "import numpy as np\n",
    "from scipy.interpolate import interp1d\n",
    "import matplotlib.pyplot as plt\n",
    "import japanize_matplotlib\n",
    "from CRRA import CRRA, mu_CRRA\n",
    "from EulerEq import EulerEq\n",
    "from nti import nti\n",
    "import time"
   ]
  },
  {
   "cell_type": "code",
   "execution_count": 4,
   "id": "282b3e95",
   "metadata": {},
   "outputs": [],
   "source": [
    "#カリブレーション\n",
    "class Model():\n",
    "    \"\"\"\n",
    "    モデルを解くためのパラメータを含む class を定義する。\n",
    "    \"\"\"\n",
    "    def __init__(self,\n",
    "        beta = 0.96,    # 割引因子\n",
    "        gamma = 1.0,    # 相対的リスク回避度(異時点間の代替弾力性の逆数)\n",
    "        alpha = 0.4,    # 資本分配率 \n",
    "        delta = 1.0,    # 固定資本減耗\n",
    "        nk = 21,        # 資本のグリッド数\n",
    "        kmax = 0.5,     # 資本グリッドの最大値\n",
    "        kmin = 0.05,    # 資本グリッドの最小値\n",
    "        maxiter = 1000, # 繰り返し計算の最大値\n",
    "        tol = 1e-5,     # 許容誤差(STEP2)\n",
    "        ): \n",
    "        \n",
    "        self.beta, self.gamma, self.alpha = beta, gamma, alpha \n",
    "        self.delta, self.nk = delta, nk \n",
    "        self.kmax, self.kmin = kmax, kmin \n",
    "        self.kgrid = np.linspace(kmin,kmax,nk) # 資本のグリッド\n",
    "        self.maxiter, self.tol = maxiter, tol"
   ]
  },
  {
   "cell_type": "markdown",
   "id": "3af8ddf6",
   "metadata": {},
   "source": [
    "### オイラー方程式\n",
    "オイラー方程式は以下で与えられる\n",
    "\\begin{equation*}\n",
    "u^{\\prime}(c_{t}) = \\beta u^{\\prime}(c_{t+1})f^{\\prime}(k_{t+1})\n",
    "\\end{equation*}\n",
    "\n",
    "ここで、$u^{\\prime}(c)=c^{-\\sigma}, f^{\\prime}(k)=\\alpha k^{\\alpha-1}+(1-\\delta)$"
   ]
  },
  {
   "cell_type": "markdown",
   "id": "ce23df73",
   "metadata": {},
   "source": [
    "### アルゴリズム\n",
    "#### 1. グリッド生成\n",
    "a. 状態空間を有限個のグリッド$\\{k_1,k_2,\\dots,k_N\\}$に区切る\n",
    "\n",
    "b. グリッド上の政策関数の初期値$c=h(k_i)$を当て推量する\n",
    "\n",
    "#### 2. 収束の基準\n",
    "収束の基準になるパラメータ$\\varepsilon$を与える\n",
    "\n",
    "#### 3. 近似・評価\n",
    "グリッドの点$k_i$上にない政策関数の値については、線形近似やスプライン近似を使って補間する\n",
    "\n",
    "$h(k,\\mathbf{b})$をパラメータのベクトル$\\mathbf{b}$（ここでは関数\\texttt{Spline1D}によって暗黙に与えられる）を使って近似したときの、$k$上での政策関数の値とする\n",
    "\n",
    "#### 4. 最適化\n",
    "古い政策関数$h^{(n-1)}(k)$を所与として、各$k_i$について、\n",
    "\\begin{equation*}\n",
    "u^{\\prime}(c) = \\beta u^{\\prime} \\left( h^{(n-1)}(f(k_i)-c;\\mathbf{b}) \\right) f^{\\prime}(f(k_i)-c)\n",
    "\\end{equation*}\n",
    "を$c$について解く\n",
    "\n",
    "このステップで、新しい政策関数$c=h^{(n)}(k)$を得る\n",
    "\n",
    "#### 5. 収束の確認\n",
    "全ての$k_i$について、$\\| h^{(n)}(k_i)-h^{(n-1)}(k_i) \\| < \\varepsilon$であればストップ\n",
    "\n",
    "そうでなければ、$h^{(n)}(k)$を$h^{(n-1)}(k)$に代入して、ステップ3とステップ4を繰り返す"
   ]
  },
  {
   "cell_type": "code",
   "execution_count": 5,
   "id": "16c48f4d",
   "metadata": {},
   "outputs": [
    {
     "name": "stdout",
     "output_type": "stream",
     "text": [
      "\n",
      "-+- Solve a neoclassical growth model with time iteration -+-\n",
      "\n",
      "iteration index: 1\n",
      "policy function iteration error: 0.09823124494179641\n",
      "iteration index: 2\n",
      "policy function iteration error: 0.03169528051254489\n",
      "iteration index: 3\n",
      "policy function iteration error: 0.011352015515084635\n",
      "iteration index: 4\n",
      "policy function iteration error: 0.005531451510248142\n",
      "iteration index: 5\n",
      "policy function iteration error: 0.0023286829951926213\n",
      "iteration index: 6\n",
      "policy function iteration error: 0.0009272273840633671\n",
      "iteration index: 7\n",
      "policy function iteration error: 0.0003611997016131352\n",
      "iteration index: 8\n",
      "policy function iteration error: 0.00013949230638043986\n",
      "iteration index: 9\n",
      "policy function iteration error: 5.368651380616152e-05\n",
      "iteration index: 10\n",
      "policy function iteration error: 2.0634279521758447e-05\n",
      "iteration index: 11\n",
      "policy function iteration error: 7.926445888928324e-06\n",
      "\n",
      "running time is 0.13589\n",
      "\n"
     ]
    }
   ],
   "source": [
    "start = time.time()\n",
    "\n",
    "print(\"\")\n",
    "print(\"-+- Solve a neoclassical growth model with time iteration -+-\")\n",
    "print(\"\")\n",
    "\n",
    "m = Model()\n",
    "mu_CRRA_vec = np.vectorize(mu_CRRA)\n",
    "\n",
    "#時間反復法を実施\n",
    "cfcn0 = nti(m)\n",
    "\n",
    "end = time.time() - start\n",
    "\n",
    "#最終的な政策関数が得られてから貯蓄関数を計算\n",
    "pfcn0 =  (m.kgrid ** m.alpha) + (1-m.delta)*m.kgrid - cfcn0 \n",
    "\n",
    "print(\"\")\n",
    "print(f\"running time is {end:.5f}\")\n",
    "print(\"\")"
   ]
  },
  {
   "cell_type": "markdown",
   "id": "87b8f53e",
   "metadata": {},
   "source": [
    "### 解析解との比較、計算誤差\n",
    "$\\delta=1$のとき、政策関数には解析解が存在する\n",
    "\\begin{equation*}\n",
    "k^{\\prime}=\\alpha\\beta k^{\\alpha}, c=(1-\\alpha\\beta) k^{\\alpha}\n",
    "\\end{equation*}"
   ]
  },
  {
   "cell_type": "code",
   "execution_count": 6,
   "id": "0ce3591e",
   "metadata": {},
   "outputs": [],
   "source": [
    "#解析的解(for k'=g(k))\n",
    "p_true = m.beta * m.alpha * (m.kgrid ** m.alpha)"
   ]
  },
  {
   "cell_type": "code",
   "execution_count": 7,
   "id": "7322eb38",
   "metadata": {},
   "outputs": [
    {
     "data": {
      "image/png": "[encoded data removed]",
      "text/plain": [
       "<Figure size 432x288 with 1 Axes>"
      ]
     },
     "metadata": {
      "needs_background": "light"
     },
     "output_type": "display_data"
    }
   ],
   "source": [
    "fig, ax = plt.subplots()\n",
    "ax.plot(m.kgrid,pfcn0,label=\"近似解\")\n",
    "ax.plot(m.kgrid,p_true,ls=\"--\",label=\"解析的解\")\n",
    "ax.plot(m.kgrid,m.kgrid,label=\"45度線\")\n",
    "ax.set(xlabel=r\"今期の資本保有量: $k$\",ylabel=r\"次期の資本保有量: $k'$\",title=r\"(a):政策関数:$g(x)=f(x)-h(x)$\",\n",
    "xlim=(m.kmin,m.kmax),xticks=[0.05,0.1,0.2,0.3,0.4,0.5])\n",
    "ax.legend(loc=\"upper left\")\n",
    "ax.grid()\n",
    "plt.show()"
   ]
  },
  {
   "cell_type": "markdown",
   "id": "787cec07",
   "metadata": {},
   "source": [
    "数値解により得られた政策関数$c=h(k;\\mathbf{b})$をオイラー方程式に代入して、誤差\n",
    "\\begin{equation*}\n",
    "\\frac{\\beta u^{\\prime} \\left( h(\\underbrace{f(k)-h(k;\\mathbf{b})}_{k^{\\prime}};\\mathbf{b}) \\right) f^{\\prime}(\\underbrace{f(k)-h(k;\\mathbf{b})}_{k^{\\prime}})\n",
    "}{u^{\\prime}(h(k;\\mathbf{b}))}-1\n",
    "\\end{equation*}\n",
    "を計算できる。近似に用いたグリッド上では計算誤差はほぼゼロに等しい"
   ]
  },
  {
   "cell_type": "code",
   "execution_count": 8,
   "id": "39c5dcce",
   "metadata": {},
   "outputs": [],
   "source": [
    "#オイラー方程式から誤差を測定\n",
    "kgrid_err = np.linspace(m.kmin,m.kmax,(m.nk-1)*10+1)\n",
    "cons_interp = interp1d(m.kgrid,cfcn0,kind=\"linear\",fill_value=\"extrapolate\")\n",
    "cons = cons_interp(kgrid_err)\n",
    "LHS = mu_CRRA_vec(m,cons)\n",
    "\n",
    "kp = (kgrid_err ** m.alpha) + (1-m.delta)*kgrid_err - cons\n",
    "cnext = cons_interp(kp)\n",
    "rent = m.alpha*(kp ** (m.alpha-1)) - m.delta\n",
    "RHS = m.beta * (1+rent) * mu_CRRA_vec(m,cnext)\n",
    "\n",
    "err = (RHS/LHS) - 1"
   ]
  },
  {
   "cell_type": "code",
   "execution_count": 9,
   "id": "8d719957",
   "metadata": {},
   "outputs": [
    {
     "data": {
      "image/png": "[encoded data removed]",
      "text/plain": [
       "<Figure size 432x288 with 1 Axes>"
      ]
     },
     "metadata": {
      "needs_background": "light"
     },
     "output_type": "display_data"
    }
   ],
   "source": [
    "f = open(\"err_ndp.csv\",encoding='utf-8-sig')\n",
    "err2 = np.loadtxt(f) #VFIでのオイラー方程式誤差\n",
    "\n",
    "fig, ax = plt.subplots()\n",
    "ax.plot(kgrid_err,np.abs(err),label=\"TI\")\n",
    "ax.plot(kgrid_err,np.abs(err2),ls=\"--\",label=\"VFI\")\n",
    "ax.set(xlabel=r\"資本保有量: $k$\",ylabel=\"オイラー方程式誤差(絶対値)\",title=\"(b):オイラー方程式に代入した際の誤差\",\n",
    "xlim=(m.kmin,m.kmax),xticks=[0.05,0.1,0.2,0.3,0.4,0.5])\n",
    "ax.legend(loc=\"upper right\")\n",
    "ax.grid()\n",
    "plt.show()"
   ]
  },
  {
   "cell_type": "code",
   "execution_count": 10,
   "id": "399f55b5",
   "metadata": {},
   "outputs": [
    {
     "name": "stdout",
     "output_type": "stream",
     "text": [
      "\n",
      "method [log10(L_{1}), log10(L_{∞})]\n",
      "TI [-3.0664319129009847, -2.0113294390251317]\n",
      "VFI [-3.2518661088444745, -2.229575131902665]\n",
      "\n"
     ]
    }
   ],
   "source": [
    "#TIとVFIでのオイラー方程式誤差を比較する\n",
    "L1_TI = np.log10(np.mean(np.abs(err)))\n",
    "Lmax_TI = np.log10(np.max(np.abs(err)))\n",
    "\n",
    "L1_VFI = np.log10(np.mean(np.abs(err2)))\n",
    "Lmax_VFI = np.log10(np.max(np.abs(err2)))\n",
    "\n",
    "print(\"\")\n",
    "print(\"method\", \"[log10(L_{1}), log10(L_{∞})]\")\n",
    "print(\"TI\", [L1_TI, Lmax_TI])\n",
    "print(\"VFI\", [L1_VFI, Lmax_VFI])\n",
    "print(\"\")"
   ]
  }
 ],
 "metadata": {
  "kernelspec": {
   "display_name": "Python 3.10.5 64-bit (windows store)",
   "language": "python",
   "name": "python3"
  },
  "language_info": {
   "codemirror_mode": {
    "name": "ipython",
    "version": 3
   },
   "file_extension": ".py",
   "mimetype": "text/x-python",
   "name": "python",
   "nbconvert_exporter": "python",
   "pygments_lexer": "ipython3",
   "version": "3.10.5"
  },
  "vscode": {
   "interpreter": {
    "hash": "8c6898038bf0d33ed7a025b08fa525581dc388d7226b0a2bb1e5e50f2e913213"
   }
  }
 },
 "nbformat": 4,
 "nbformat_minor": 5
}
