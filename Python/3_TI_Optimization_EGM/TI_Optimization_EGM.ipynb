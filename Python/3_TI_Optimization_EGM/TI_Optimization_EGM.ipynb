{
 "cells": [
  {
   "cell_type": "code",
   "execution_count": 1,
   "metadata": {},
   "outputs": [],
   "source": [
    "# 必要なパッケージを呼び出す\n",
    "import numpy as np\n",
    "import matplotlib.pyplot as plt\n",
    "import japanize_matplotlib\n",
    "from scipy.optimize import fsolve\n",
    "from scipy.interpolate import interp1d \n",
    "import time"
   ]
  },
  {
   "cell_type": "code",
   "execution_count": 2,
   "metadata": {},
   "outputs": [],
   "source": [
    "# MATLABではグローバル変数を使って関数への変数受け渡しを行う\n",
    "# Julia/Pythonではコンストラクタを用いる\n",
    "\n",
    "# ギリシャ文字の使用は不可とする\n",
    "class Model:\n",
    "\n",
    "    def __init__(self,beta,gamma,alpha,delta,ykss,kss,yss,css,kmax,kmin,nk,kpgrid,wpgrid,maxiter,tol):\n",
    "\n",
    "        # カリブレーション\n",
    "        self.beta = beta       # 割引因子\n",
    "        self.gamma = gamma     # 相対的危険回避度(異時点間の代替弾力性の逆数)\n",
    "        self.alpha = alpha     # 資本分配率 \n",
    "        self.delta = delta     # 固定資本減耗(delta=1.0のときは解析解が存在) \n",
    "\n",
    "        # 定常状態の値\n",
    "        self.ykss = ykss\n",
    "        self.kss = kss\n",
    "        self.yss = yss\n",
    "        self.css = css\n",
    "\n",
    "        # グリッドに関するパラメータ\n",
    "        self.kmax = kmax       # 資本グリッドの最大値\n",
    "        self.kmin = kmin       # 資本グリッドの最小値\n",
    "        self.nk = nk           # グリッドの数\n",
    "        self.kpgrid = kpgrid   # 資本グリッド(kではなく、k'についてグリッドをとる)\n",
    "        self.wpgrid = wpgrid   # 富のグリッド(Carrol(2006)の手法)\n",
    "\n",
    "        # 時間反復法に関するパラメータ\n",
    "        self.maxiter = maxiter # 繰り返し計算の最大値\n",
    "        self.tol = tol         # 許容誤差"
   ]
  },
  {
   "cell_type": "code",
   "execution_count": 3,
   "metadata": {},
   "outputs": [],
   "source": [
    "def mu_CRRA(cons, gamma):\n",
    "        \"\"\"\n",
    "        --------------------------------------\n",
    "        === CRRA Marginal Utility Function ===\n",
    "        --------------------------------------\n",
    "        <inputs>\n",
    "        ・m: パラメータ等を格納したコンストラクタ\n",
    "        ・cons: 消費量\n",
    "        <output>\n",
    "        ・consとgamma の下での限界効用水準\n",
    "        \"\"\"\n",
    "        \n",
    "        mu = cons ** (-gamma)\n",
    "        return mu\n"
   ]
  },
  {
   "cell_type": "code",
   "execution_count": 4,
   "metadata": {},
   "outputs": [],
   "source": [
    "def f(m,capital,wealth):\n",
    "    \"\"\"\n",
    "    -------------------------------------------------------------\n",
    "    === 予算制約式の残差を求める関数(=0になるようなcapitalを選ぶ) ===\n",
    "    -------------------------------------------------------------\n",
    "    <input>\n",
    "    ・m: パラメータ等を含む構造体\n",
    "    ・capital: 今期の資本保有量\n",
    "    ・wealth: 今期の資産保有量\n",
    "    <output>\n",
    "    ・res: \n",
    "    \"\"\"\n",
    "    res = (capital**m.alpha) + (1-m.delta)*capital - wealth\n",
    "    return res"
   ]
  },
  {
   "cell_type": "code",
   "execution_count": 5,
   "metadata": {},
   "outputs": [],
   "source": [
    "# メインファイル\n",
    "\n",
    "# カリブレーション\n",
    "beta = 0.96  # 割引因子\n",
    "gamma = 1.0  # 相対的リスク回避度(異時点間の代替の弾力性の逆数)\n",
    "alpha = 0.40 # 資本分配率\n",
    "delta = 1.0  # 固定資本減耗(delta=1.0のときは解析解が存在)\n",
    "\n",
    "# 定常状態の値\n",
    "ykss = (1.0/beta-1.0+delta)/alpha\n",
    "kss = ykss**(1.0/(alpha-1.0))\n",
    "yss = ykss*kss\n",
    "css = yss-delta*kss\n",
    "\n",
    "# EGM\n",
    "kmax = 2.0*kss;   # 資本グリッドの最大値\n",
    "kmin = 0.1*kss;  # 資本グリッドの最小値(0にすると生産が出来なくなる)\n",
    "\n",
    "# STEP 1(a): グリッド生成 \n",
    "nk = 101;      # グリッドの数\n",
    "kpgrid = np.linspace(kmin,kmax,nk)\n",
    "\n",
    "# Carrol's (2005) change of variables\n",
    "# cを求めた後、資源制約式をkについて解く必要がない\n",
    "wpgrid = kpgrid**alpha + (1-delta)*kpgrid\n",
    "\n",
    "# 時間反復法に関するパラメータ\n",
    "maxiter = 1000 # 繰り返し計算の最大値\n",
    "tol = 1e-8     # 許容誤差(STEP 2)"
   ]
  },
  {
   "cell_type": "markdown",
   "metadata": {},
   "source": [
    "### EGMによる時間反復法 \n",
    "(MATLAB の main_ti_egm.m に対応)"
   ]
  },
  {
   "cell_type": "code",
   "execution_count": 6,
   "metadata": {},
   "outputs": [
    {
     "name": "stdout",
     "output_type": "stream",
     "text": [
      "-+- Solve a neoclassical growth model with time iteration -+-\n",
      " \n",
      "iteration index: 1\n",
      "policy function iteration error: 0.098209\n",
      "iteration index: 2\n",
      "policy function iteration error: 0.031734\n",
      "iteration index: 3\n",
      "policy function iteration error: 0.011348\n",
      "iteration index: 4\n",
      "policy function iteration error: 0.005250\n",
      "iteration index: 5\n",
      "policy function iteration error: 0.002167\n",
      "iteration index: 6\n",
      "policy function iteration error: 0.000863\n",
      "iteration index: 7\n",
      "policy function iteration error: 0.000335\n",
      "iteration index: 8\n",
      "policy function iteration error: 0.000129\n",
      "iteration index: 9\n",
      "policy function iteration error: 0.000050\n",
      "iteration index: 10\n",
      "policy function iteration error: 0.000019\n",
      "iteration index: 11\n",
      "policy function iteration error: 0.000007\n",
      "iteration index: 12\n",
      "policy function iteration error: 0.000003\n",
      "iteration index: 13\n",
      "policy function iteration error: 0.000001\n",
      "iteration index: 14\n",
      "policy function iteration error: 0.000000\n",
      "iteration index: 15\n",
      "policy function iteration error: 0.000000\n",
      "iteration index: 16\n",
      "policy function iteration error: 0.000000\n",
      "iteration index: 17\n",
      "policy function iteration error: 0.000000\n",
      "iteration index: 18\n",
      "policy function iteration error: 0.000000\n",
      "0.079023 seconds\n"
     ]
    }
   ],
   "source": [
    "# 収束の基準に関するパラメータ\n",
    "it = 1         # ループ・カウンター\n",
    "dif2 = 1.0     # 政策関数の繰り返し誤差\n",
    "tolfun = 1e-10 # 最適化の許容誤差\n",
    "\n",
    "# 構造体にパラメータを格納\n",
    "m = Model(beta,gamma,alpha,delta,ykss,kss,yss,css,kmax,kmin,nk,kpgrid,wpgrid,maxiter,tol)\n",
    "\n",
    "print(\"-+- Solve a neoclassical growth model with time iteration -+-\")\n",
    "print(\" \")\n",
    "\n",
    "# STEP 1(b): 政策関数の初期値を当て推量\n",
    "# ここでの政策関数はc'=htilde(w')となる\n",
    "cfcn0 = np.copy(m.kpgrid)\n",
    "cfcn1 = np.zeros(m.nk)\n",
    "\n",
    "# 繰り返し誤差を保存する変数を設定 \n",
    "dif = np.zeros((2,m.maxiter))\n",
    "\n",
    "# 計算されたc,kを保存\n",
    "cgrid = np.zeros(m.nk)\n",
    "kgrid = np.zeros(m.nk)\n",
    "\n",
    "# STEP 4: 政策関数を繰り返し計算\n",
    "start = time.time()\n",
    "while (it < m.maxiter) & (dif2 > tol):\n",
    "\n",
    "    for i in range(m.nk):\n",
    "\n",
    "        kprime = m.kpgrid[i]\n",
    "        cnext = cfcn0[i] # c'=h(k'): kprimeにおけるcnextの値\n",
    "        uc = m.beta*mu_CRRA(cnext,m.gamma)*(m.alpha*kprime**(m.alpha-1)+(1-m.delta));\n",
    "        cons = uc**(-1/m.gamma) # mu_CRRAの逆関数\n",
    "\n",
    "        # c + k' = k^alpha + (1-delta)*kをkについて解く\n",
    "        capital = fsolve(lambda x: f(m,x,kprime+cons),[(cons+kprime)**(1/m.alpha)],xtol=tolfun)\n",
    "\n",
    "        # 計算されたc,kを保存\n",
    "        cgrid[i] = cons\n",
    "        kgrid[i] = capital\n",
    "    \n",
    "    # 計算されたc,kから、c'=h(k')をアップデートする\n",
    "    interp_c = interp1d(kgrid,cgrid,kind=\"linear\",fill_value=\"extrapolate\")\n",
    "    cfcn1 = interp_c(m.kpgrid)\n",
    "\n",
    "    # 繰り返し計算誤差を確認\n",
    "    dif2 = np.max(np.abs(cfcn1-cfcn0))\n",
    "\n",
    "    # 収束途中の繰り返し計算誤差を保存\n",
    "    dif[1,it] = np.copy(dif2)\n",
    "    \n",
    "    # 政策関数をアップデート\n",
    "    cfcn0 = np.copy(cfcn1)\n",
    "\n",
    "    print(f\"iteration index: {it:1d}\")\n",
    "    print(f\"policy function iteration error: {dif2:6f}\") \n",
    "\n",
    "    it += 1\n",
    "\n",
    "end = time.time()\n",
    "print(f\"{end-start:.6f} seconds\")"
   ]
  },
  {
   "cell_type": "code",
   "execution_count": 7,
   "metadata": {},
   "outputs": [],
   "source": [
    "kgrid = np.copy(kpgrid) # c'=h(k') は c=h(k)と同じ\n",
    "\n",
    "# 最終的な政策関数が得られてから貯蓄関数を計算\n",
    "pfcn0 = kgrid**m.alpha + (1-m.delta)*kgrid - cfcn0"
   ]
  },
  {
   "cell_type": "code",
   "execution_count": 8,
   "metadata": {},
   "outputs": [],
   "source": [
    "# 解析的解\n",
    "p_true = m.beta*m.alpha*(kgrid**m.alpha)"
   ]
  },
  {
   "cell_type": "code",
   "execution_count": 9,
   "metadata": {},
   "outputs": [
    {
     "data": {
      "image/png": "[encoded data removed]",
      "text/plain": [
       "<Figure size 576x432 with 1 Axes>"
      ]
     },
     "metadata": {
      "needs_background": "light"
     },
     "output_type": "display_data"
    }
   ],
   "source": [
    "fig, ax = plt.subplots(figsize=(8,6))\n",
    "ax.plot(kgrid,pfcn0,c=\"b\",lw=3,label=\"近似解\")\n",
    "ax.plot(kgrid,p_true,c=\"r\",lw=3,ls=\"--\",label=\"解析的解\")\n",
    "ax.plot(kgrid,kgrid,c=\"k\",lw=2,ls=\":\",label=\"45度線\")\n",
    "ax.set(xlabel=\"今期の資本保有量: k\",ylabel=\"次期の資本保有量: k'\",xlim=(m.kmin,m.kmax),xticks=[0.05,0.1,0.2,0.3,0.4])\n",
    "ax.legend(loc=\"upper left\")\n",
    "ax.grid(ls=\"--\")\n",
    "plt.show()"
   ]
  },
  {
   "cell_type": "markdown",
   "metadata": {},
   "source": [
    "### Carroll(2006)のEGMによる時間反復法\n",
    " (MATLAB の main_ti_eg_cov_.m に対応)"
   ]
  },
  {
   "cell_type": "code",
   "execution_count": 10,
   "metadata": {},
   "outputs": [
    {
     "name": "stdout",
     "output_type": "stream",
     "text": [
      "-+- Solve a neoclassical growth model with time iteration -+-\n",
      " \n",
      "iteration index: 1\n",
      "policy function iteration error: 0.098226\n",
      "iteration index: 2\n",
      "policy function iteration error: 0.031738\n",
      "iteration index: 3\n",
      "policy function iteration error: 0.011346\n",
      "iteration index: 4\n",
      "policy function iteration error: 0.005241\n",
      "iteration index: 5\n",
      "policy function iteration error: 0.002166\n",
      "iteration index: 6\n",
      "policy function iteration error: 0.000857\n",
      "iteration index: 7\n",
      "policy function iteration error: 0.000333\n",
      "iteration index: 8\n",
      "policy function iteration error: 0.000128\n",
      "iteration index: 9\n",
      "policy function iteration error: 0.000049\n",
      "iteration index: 10\n",
      "policy function iteration error: 0.000019\n",
      "iteration index: 11\n",
      "policy function iteration error: 0.000007\n",
      "iteration index: 12\n",
      "policy function iteration error: 0.000003\n",
      "iteration index: 13\n",
      "policy function iteration error: 0.000001\n",
      "iteration index: 14\n",
      "policy function iteration error: 0.000000\n",
      "iteration index: 15\n",
      "policy function iteration error: 0.000000\n",
      "iteration index: 16\n",
      "policy function iteration error: 0.000000\n",
      "iteration index: 17\n",
      "policy function iteration error: 0.000000\n",
      "iteration index: 18\n",
      "policy function iteration error: 0.000000\n",
      "0.010003 seconds\n"
     ]
    }
   ],
   "source": [
    "# 収束の基準に関するパラメータ\n",
    "it = 1         # ループ・カウンター\n",
    "dif2 = 1.0     # 政策関数の繰り返し誤差\n",
    "tolfun = 1e-10 # 最適化の許容誤差\n",
    "\n",
    "# 構造体にパラメータを格納\n",
    "m = Model(beta,gamma,alpha,delta,ykss,kss,yss,css,kmax,kmin,nk,kpgrid,wpgrid,maxiter,tol)\n",
    "\n",
    "print(\"-+- Solve a neoclassical growth model with time iteration -+-\")\n",
    "print(\" \")\n",
    "\n",
    "# STEP 1(b): 政策関数の初期値を当て推量\n",
    "# ここでの政策関数はc'=htilde(w')となる\n",
    "cfcn0 = np.copy(m.kpgrid)\n",
    "cfcn1 = np.zeros(m.nk)\n",
    "\n",
    "# 繰り返し誤差を保存する変数を設定 \n",
    "dif = np.zeros((2,m.maxiter))\n",
    "\n",
    "# 計算されたc,kを保存\n",
    "cgrid = np.zeros(m.nk)\n",
    "wgrid = np.zeros(m.nk)\n",
    "\n",
    "# STEP 4: 政策関数を繰り返し計算\n",
    "start = time.time()\n",
    "while (it < m.maxiter) & (dif2 > tol):\n",
    "\n",
    "    for i in range(m.nk):\n",
    "\n",
    "        kprime = m.kpgrid[i]\n",
    "        wprime = m.wpgrid[i]\n",
    "        cnext = cfcn0[i]  # c'=h(w'): wprimeにおけるcnextの値\n",
    "        uc = m.beta*mu_CRRA(cnext,m.gamma)*(m.alpha*kprime**(m.alpha-1)+(1-m.delta))\n",
    "        cons = uc**(-1/m.gamma) # mu_CRRAの逆関数\n",
    "\n",
    "        # w = c+k' (非線形方程式を解く必要がない)\n",
    "        wealth = cons + kprime\n",
    "\n",
    "        # 計算されたc,wを保存\n",
    "        cgrid[i] = cons\n",
    "        wgrid[i] = wealth\n",
    "    \n",
    "    # 計算されたc,wから、c'=htilde(w')をアップデートする\n",
    "    interp_c = interp1d(wgrid,cgrid,kind=\"linear\",fill_value=\"extrapolate\");\n",
    "    cfcn1 = interp_c(m.wpgrid)\n",
    "\n",
    "    # 繰り返し計算誤差を確認\n",
    "    dif2 = np.max(np.abs(cfcn1-cfcn0))\n",
    "\n",
    "    # 収束途中の繰り返し計算誤差を保存\n",
    "    dif[1,it] = np.copy(dif2);\n",
    "    \n",
    "    # 政策関数をアップデート\n",
    "    cfcn0 = np.copy(cfcn1)\n",
    "\n",
    "    print(f\"iteration index: {it:1d}\")\n",
    "    print(f\"policy function iteration error: {dif2:6f}\") \n",
    "\n",
    "    it += 1\n",
    "\n",
    "end = time.time()\n",
    "print(f\"{end-start:.6f} seconds\")"
   ]
  },
  {
   "cell_type": "code",
   "execution_count": 11,
   "metadata": {},
   "outputs": [],
   "source": [
    "# c'=h(k') は c=h(k)と同じ\n",
    "kgrid = np.copy(kpgrid) \n",
    "\n",
    "# 最終的な政策関数が得られてから貯蓄関数を計算\n",
    "pfcn0 = kgrid**alpha + (1-delta)*kgrid - cfcn0"
   ]
  },
  {
   "cell_type": "code",
   "execution_count": 12,
   "metadata": {},
   "outputs": [],
   "source": [
    "# 解析的解\n",
    "p_true = beta*alpha*(kgrid**alpha)"
   ]
  },
  {
   "cell_type": "code",
   "execution_count": 13,
   "metadata": {},
   "outputs": [
    {
     "data": {
      "image/png": "[encoded data removed]",
      "text/plain": [
       "<Figure size 576x432 with 1 Axes>"
      ]
     },
     "metadata": {
      "needs_background": "light"
     },
     "output_type": "display_data"
    }
   ],
   "source": [
    "fig, ax = plt.subplots(figsize=(8,6))\n",
    "ax.plot(kgrid,pfcn0,c=\"b\",lw=3,label=\"近似解\")\n",
    "ax.plot(kgrid,p_true,c=\"r\",lw=3,ls=\"--\",label=\"解析的解\")\n",
    "ax.plot(kgrid,kgrid,c=\"k\",lw=2,ls=\":\",label=\"45度線\")\n",
    "ax.set(xlabel=\"今期の資本保有量: k\",ylabel=\"次期の資本保有量: k'\",xlim=(m.kmin,m.kmax),xticks=[0.05,0.1,0.2,0.3,0.4])\n",
    "ax.legend(loc=\"upper left\")\n",
    "ax.grid(ls=\"--\")\n",
    "plt.show()"
   ]
  }
 ],
 "metadata": {
  "kernelspec": {
   "display_name": "Python 3.9.7 ('base')",
   "language": "python",
   "name": "python3"
  },
  "language_info": {
   "codemirror_mode": {
    "name": "ipython",
    "version": 3
   },
   "file_extension": ".py",
   "mimetype": "text/x-python",
   "name": "python",
   "nbconvert_exporter": "python",
   "pygments_lexer": "ipython3",
   "version": "3.9.7"
  },
  "orig_nbformat": 4,
  "vscode": {
   "interpreter": {
    "hash": "7bb8b97343929f803e969248a4ea9d8a665f3630b12b4182d56fcc3c46c8f647"
   }
  }
 },
 "nbformat": 4,
 "nbformat_minor": 2
}
