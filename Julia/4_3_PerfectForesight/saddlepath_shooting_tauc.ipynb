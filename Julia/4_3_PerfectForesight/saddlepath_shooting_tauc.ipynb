{
 "cells": [
  {
   "cell_type": "code",
   "execution_count": 1,
   "metadata": {},
   "outputs": [],
   "source": [
    "# 必要なパッケージを呼び出す\n",
    "using NLsolve\n",
    "using Plots\n",
    "using Roots\n",
    "using LaTeXStrings"
   ]
  },
  {
   "cell_type": "code",
   "execution_count": 2,
   "metadata": {},
   "outputs": [],
   "source": [
    "# MATLABではグローバル変数を使って関数への変数受け渡しを行う\n",
    "# Julia/Pythonではコンストラクタを用いる\n",
    "\n",
    "# ギリシャ文字の使用は不可とする\n",
    "struct Model{TI<:Integer, TF<:AbstractFloat}\n",
    "\n",
    "    # カリブレーション\n",
    "    alpha::TF \n",
    "    beta::TF           \n",
    "    delta::TF \n",
    "    gamma::TF\n",
    "    Abar::TF\n",
    "    gbar::TF\n",
    "\n",
    "    # 定常状態の値\n",
    "    kss::TF\n",
    "    css::TF\n",
    "    Rss::TF    \n",
    "    \n",
    "    # 移行過程に関する変数\n",
    "    T::TI\n",
    "\n",
    "end"
   ]
  },
  {
   "cell_type": "code",
   "execution_count": 3,
   "metadata": {},
   "outputs": [
    {
     "data": {
      "text/plain": [
       "shooting_tauc (generic function with 1 method)"
      ]
     },
     "execution_count": 3,
     "metadata": {},
     "output_type": "execute_result"
    }
   ],
   "source": [
    "function shooting_tauc(m,x,k0,tauc)\n",
    "    \"\"\"\n",
    "    ------------------------------------------------------\n",
    "    === ためし打ち法において、消費と資本の流列を求める関数 ===\n",
    "    ------------------------------------------------------\n",
    "    <input>\n",
    "    ・m: パラメータ等を含む構造体\n",
    "    ・x: 消費の初期値(求根問題の為にベクトル表記している)\n",
    "    ・k0: 資本の初期値\n",
    "    ・tauc: 消費税の流列\n",
    "    <output>\n",
    "    ・k: 資本の流列\n",
    "    ・c: 消費の流列\n",
    "    ・R: 金利\n",
    "    \"\"\"\n",
    "    \n",
    "    c0 = x[1];\n",
    "    k = zeros(m.T+1);\n",
    "    c = zeros(m.T+1);\n",
    "    R = zeros(m.T+1);\n",
    "\n",
    "    k[1] = k0;\n",
    "    c[1] = c0;\n",
    "    R[1] = 1/m.beta\n",
    "\n",
    "    for t in 1:T\n",
    "\n",
    "        k[t+1] = max(m.Abar*(k[t]^m.alpha) + (1-m.delta)*k[t] - m.gbar - c[t], 1e-4); # k>0\n",
    "        R[t+1] = ((1+tauc[t])/(1+tauc[t+1])) * (1-m.delta + m.alpha*m.Abar*k[t+1]^(m.alpha-1));\n",
    "        RHS = m.beta*R[t+1]*(c[t]^m.gamma);\n",
    "        c[t+1] = RHS^(1/m.gamma);\n",
    "\n",
    "    end\n",
    "\n",
    "    #r .= m.alpha .* m.Abar .* k.^(m.alpha-1);\n",
    "\n",
    "    return k, c, R\n",
    "end"
   ]
  },
  {
   "cell_type": "code",
   "execution_count": 4,
   "metadata": {},
   "outputs": [],
   "source": [
    "# カリブレーション\n",
    "alpha = 0.33; \n",
    "beta = 0.95;\n",
    "delta = 0.2; \n",
    "gamma = 2.0;\n",
    "Abar = 1.0;\n",
    "gbar = 0.2;\n",
    "\n",
    "# 定常状態の値\n",
    "kss = (alpha*beta*Abar/(1-beta*(1-delta)))^(1/(1-alpha));\n",
    "css = kss^alpha - delta*kss - gbar;\n",
    "Rss = 1 - delta + alpha*Abar*kss^(alpha-1);\n",
    "\n",
    "# 移行過程に関する変数\n",
    "T = 100; \n",
    "\n",
    "# k の初期値\n",
    "k0 = kss; "
   ]
  },
  {
   "cell_type": "markdown",
   "metadata": {},
   "source": [
    "#### 将来の消費増税の影響 (saddlepath_shooting_tauc.m に対応)"
   ]
  },
  {
   "cell_type": "code",
   "execution_count": 7,
   "metadata": {},
   "outputs": [
    {
     "name": "stdout",
     "output_type": "stream",
     "text": [
      "[1.5005 -1.4898564934347787]\n",
      "[0.7507499999999999 -1.4898564934347787]\n",
      "[0.37587499999999996 8.024645949947123]\n",
      "[0.5633124999999999 8.022098337586485]\n",
      "[0.65703125 -1.4898564934347787]\n",
      "[0.6101718749999999 8.019842556613659]\n",
      "[0.6336015625 8.016247929691442]\n",
      "[0.64531640625 8.007505202291272]\n",
      "[0.6511738281249999 -1.4898564934347787]\n",
      "[0.6482451171874999 7.992222632998656]\n",
      "[0.6497094726562499 -1.4898564934347787]\n",
      "[0.6489772949218748 7.967881440923513]\n",
      "[0.6493433837890623 -1.4898564934347787]\n",
      "[0.6491603393554686 7.938736775954789]\n",
      "[0.6492518615722654 7.861942892778295]\n",
      "[0.6492976226806639 -1.4898564934347787]\n",
      "[0.6492747421264646 7.680770605480939]\n",
      "[0.6492861824035643 -1.4898564934347787]\n",
      "[0.6492804622650145 -1.4898564934347787]\n",
      "[0.6492776021957396 7.523336819581951]\n",
      "[0.649279032230377 7.168842095454403]\n",
      "[0.6492797472476957 -1.4898564934347787]\n",
      "[0.6492793897390363 6.692464414617675]\n",
      "[0.649279568493366 -1.4898564934347787]\n",
      "[0.6492794791162011 6.267278243636953]\n",
      "[0.6492795238047835 5.696822850757895]\n",
      "[0.6492795461490748 4.880881161627768]\n",
      "[0.6492795573212204 3.440760953701946]\n",
      "[0.6492795629072932 -1.4898564934347787]\n",
      "[0.6492795601142568 2.150977232394849]\n",
      "[0.6492795615107749 -0.17015711257048238]\n",
      "[0.6492795608125159 1.4255183052106415]\n",
      "[0.6492795611616454 0.8415709845498878]\n",
      "[0.6492795613362101 0.42441707987985167]\n",
      "[0.6492795614234925 0.1584353912278702]\n",
      "[0.6492795614671337 0.0038274214374927062]\n",
      "[0.6492795614889544 -0.0804286416151947]\n",
      "[0.649279561478044 -0.03766015242682963]\n",
      "[0.6492795614725888 -0.016761084110568536]\n",
      "[0.6492795614698612 -0.006428292004558633]\n",
      "[0.6492795614684974 -0.0012903166609863348]\n",
      "[0.6492795614678155 0.0012714303120526793]\n",
      "[0.6492795614681565 -9.13242703326489e-6]\n",
      "[0.649279561467986 0.0006307178681490555]\n",
      "[0.6492795614680713 0.00031115479328658324]\n",
      "[0.6492795614681139 0.00015030764345658199]\n",
      "[0.6492795614681353 7.05984317295183e-5]\n",
      "[0.6492795614681459 3.052135854186844e-5]\n",
      "[0.6492795614681512 1.0453182004876993e-5]\n",
      "[0.6492795614681539 1.1279195260005537e-6]\n",
      "[0.6492795614681552 -4.2792590622120485e-6]\n",
      "[0.6492795614681546 -1.958267200841135e-6]\n"
     ]
    }
   ],
   "source": [
    "m = Model(alpha,beta,delta,gamma,Abar,gbar,kss,css,Rss,T);\n",
    "tauc = zeros(m.T+1);\n",
    "tauc[11:m.T+1] .= 0.2;\n",
    "\n",
    "# プロット用に先に変数を定義しておく\n",
    "k = 0.0;\n",
    "c = 0.0;\n",
    "#r = 0.0;\n",
    "R = 0.0;\n",
    "\n",
    "# bisection\n",
    "cL = 0.001;\n",
    "cH = 3.0;\n",
    "diff = 1e+4;\n",
    "\n",
    "while diff > 1e-15\n",
    "\n",
    "    c0 = (cL+cH)/2;\n",
    "    k,c,R = shooting_tauc(m,[c0],k0,tauc);\n",
    "    err = k[m.T] - m.kss;\n",
    "    \n",
    "    println([c0 err])\n",
    "    flush(stdout)\n",
    "\n",
    "    if err > 0\n",
    "        cL = copy(c0);\n",
    "    else\n",
    "        cH = copy(c0);\n",
    "    end\n",
    "\n",
    "    diff = abs(cH-cL);\n",
    "\n",
    "end"
   ]
  },
  {
   "cell_type": "code",
   "execution_count": 8,
   "metadata": {},
   "outputs": [
    {
     "data": {
      "image/svg+xml": "<?xml version=\"1.0\" encoding=\"utf-8\"?>\n<svg xmlns=\"http://www.w3.org/2000/svg\" xmlns:xlink=\"http://www.w3.org/1999/xlink\" width=\"600\" height=\"400\" viewBox=\"0 0 2400 1600\">\n<defs>\n  <clipPath id=\"clip8600\">\n    <rect x=\"0\" y=\"0\" width=\"2400\" height=\"1600\"/>\n  </clipPath>\n</defs>\n<path clip-path=\"url(#clip8600)\" d=\"\nM0 1600 L2400 1600 L2400 0 L0 0  Z\n  \" fill=\"#ffffff\" fill-rule=\"evenodd\" fill-opacity=\"1\"/>\n<defs>\n  <clipPath id=\"clip8601\">\n    <rect x=\"480\" y=\"0\" width=\"1681\" height=\"1600\"/>\n  </clipPath>\n</defs>\n<path clip-path=\"url(#clip8600)\" d=\"\nM180.66 1487.47 L552.756 1487.47 L552.756 113.292 L180.66 113.292  Z\n  \" fill=\"#ffffff\" fill-rule=\"evenodd\" fill-opacity=\"1\"/>\n<defs>\n  <clipPath id=\"clip8602\">\n    <rect x=\"180\" y=\"113\" width=\"373\" height=\"1375\"/>\n  </clipPath>\n</defs>\n<polyline clip-path=\"url(#clip8602)\" style=\"stroke:#000000; stroke-width:2; stroke-opacity:0.1; fill:none\" points=\"\n  266.529,1487.47 266.529,113.292 \n  \"/>\n<polyline clip-path=\"url(#clip8602)\" style=\"stroke:#000000; stroke-width:2; stroke-opacity:0.1; fill:none\" points=\"\n  361.938,1487.47 361.938,113.292 \n  \"/>\n<polyline clip-path=\"url(#clip8602)\" style=\"stroke:#000000; stroke-width:2; stroke-opacity:0.1; fill:none\" points=\"\n  457.347,1487.47 457.347,113.292 \n  \"/>\n<polyline clip-path=\"url(#clip8602)\" style=\"stroke:#000000; stroke-width:2; stroke-opacity:0.1; fill:none\" points=\"\n  552.756,1487.47 552.756,113.292 \n  \"/>\n<polyline clip-path=\"url(#clip8602)\" style=\"stroke:#000000; stroke-width:2; stroke-opacity:0.1; fill:none\" points=\"\n  180.66,1029.41 552.756,1029.41 \n  \"/>\n<polyline clip-path=\"url(#clip8602)\" style=\"stroke:#000000; stroke-width:2; stroke-opacity:0.1; fill:none\" points=\"\n  180.66,1029.41 552.756,1029.41 \n  \"/>\n<polyline clip-path=\"url(#clip8602)\" style=\"stroke:#000000; stroke-width:2; stroke-opacity:0.1; fill:none\" points=\"\n  180.66,571.353 552.756,571.353 \n  \"/>\n<polyline clip-path=\"url(#clip8602)\" style=\"stroke:#000000; stroke-width:2; stroke-opacity:0.1; fill:none\" points=\"\n  180.66,113.292 552.756,113.292 \n  \"/>\n<polyline clip-path=\"url(#clip8600)\" style=\"stroke:#000000; stroke-width:4; stroke-opacity:1; fill:none\" points=\"\n  180.66,1487.47 552.756,1487.47 \n  \"/>\n<polyline clip-path=\"url(#clip8600)\" style=\"stroke:#000000; stroke-width:4; stroke-opacity:1; fill:none\" points=\"\n  180.66,1487.47 180.66,113.292 \n  \"/>\n<polyline clip-path=\"url(#clip8600)\" style=\"stroke:#000000; stroke-width:4; stroke-opacity:1; fill:none\" points=\"\n  266.529,1487.47 266.529,1466.86 \n  \"/>\n<polyline clip-path=\"url(#clip8600)\" style=\"stroke:#000000; stroke-width:4; stroke-opacity:1; fill:none\" points=\"\n  361.938,1487.47 361.938,1466.86 \n  \"/>\n<polyline clip-path=\"url(#clip8600)\" style=\"stroke:#000000; stroke-width:4; stroke-opacity:1; fill:none\" points=\"\n  457.347,1487.47 457.347,1466.86 \n  \"/>\n<polyline clip-path=\"url(#clip8600)\" style=\"stroke:#000000; stroke-width:4; stroke-opacity:1; fill:none\" points=\"\n  552.756,1487.47 552.756,1466.86 \n  \"/>\n<polyline clip-path=\"url(#clip8600)\" style=\"stroke:#000000; stroke-width:4; stroke-opacity:1; fill:none\" points=\"\n  180.66,1029.41 186.242,1029.41 \n  \"/>\n<polyline clip-path=\"url(#clip8600)\" style=\"stroke:#000000; stroke-width:4; stroke-opacity:1; fill:none\" points=\"\n  180.66,1029.41 186.242,1029.41 \n  \"/>\n<polyline clip-path=\"url(#clip8600)\" style=\"stroke:#000000; stroke-width:4; stroke-opacity:1; fill:none\" points=\"\n  180.66,571.353 186.242,571.353 \n  \"/>\n<polyline clip-path=\"url(#clip8600)\" style=\"stroke:#000000; stroke-width:4; stroke-opacity:1; fill:none\" points=\"\n  180.66,113.292 186.242,113.292 \n  \"/>\n<g clip-path=\"url(#clip8600)\">\n<text style=\"fill:#000000; fill-opacity:1; font-family:Arial,Helvetica Neue,Helvetica,sans-serif; font-size:48px; text-anchor:middle;\" transform=\"rotate(0, 266.529, 1541.47)\" x=\"266.529\" y=\"1541.47\">10</text>\n</g>\n<g clip-path=\"url(#clip8600)\">\n<text style=\"fill:#000000; fill-opacity:1; font-family:Arial,Helvetica Neue,Helvetica,sans-serif; font-size:48px; text-anchor:middle;\" transform=\"rotate(0, 361.938, 1541.47)\" x=\"361.938\" y=\"1541.47\">20</text>\n</g>\n<g clip-path=\"url(#clip8600)\">\n<text style=\"fill:#000000; fill-opacity:1; font-family:Arial,Helvetica Neue,Helvetica,sans-serif; font-size:48px; text-anchor:middle;\" transform=\"rotate(0, 457.347, 1541.47)\" x=\"457.347\" y=\"1541.47\">30</text>\n</g>\n<g clip-path=\"url(#clip8600)\">\n<text style=\"fill:#000000; fill-opacity:1; font-family:Arial,Helvetica Neue,Helvetica,sans-serif; font-size:48px; text-anchor:middle;\" transform=\"rotate(0, 552.756, 1541.47)\" x=\"552.756\" y=\"1541.47\">40</text>\n</g>\n<g clip-path=\"url(#clip8600)\">\n<text style=\"fill:#000000; fill-opacity:1; font-family:Arial,Helvetica Neue,Helvetica,sans-serif; font-size:48px; text-anchor:end;\" transform=\"rotate(0, 156.66, 1046.91)\" x=\"156.66\" y=\"1046.91\">1.40</text>\n</g>\n<g clip-path=\"url(#clip8600)\">\n<text style=\"fill:#000000; fill-opacity:1; font-family:Arial,Helvetica Neue,Helvetica,sans-serif; font-size:48px; text-anchor:end;\" transform=\"rotate(0, 156.66, 1046.91)\" x=\"156.66\" y=\"1046.91\">1.40</text>\n</g>\n<g clip-path=\"url(#clip8600)\">\n<text style=\"fill:#000000; fill-opacity:1; font-family:Arial,Helvetica Neue,Helvetica,sans-serif; font-size:48px; text-anchor:end;\" transform=\"rotate(0, 156.66, 588.853)\" x=\"156.66\" y=\"588.853\">1.45</text>\n</g>\n<g clip-path=\"url(#clip8600)\">\n<text style=\"fill:#000000; fill-opacity:1; font-family:Arial,Helvetica Neue,Helvetica,sans-serif; font-size:48px; text-anchor:end;\" transform=\"rotate(0, 156.66, 130.792)\" x=\"156.66\" y=\"130.792\">1.50</text>\n</g>\n<g clip-path=\"url(#clip8600)\">\n<text style=\"fill:#000000; fill-opacity:1; font-family:Arial,Helvetica Neue,Helvetica,sans-serif; font-size:71px; text-anchor:middle;\" transform=\"rotate(0, 366.708, 62.4)\" x=\"366.708\" y=\"62.4\">k</text>\n</g>\n<polyline clip-path=\"url(#clip8602)\" style=\"stroke:#009af9; stroke-width:8; stroke-opacity:1; fill:none\" points=\"\n  180.66,205.303 190.201,266.081 199.742,332.218 209.283,406.395 218.824,491.765 228.365,592.121 237.906,712.108 247.447,857.508 256.988,1035.63 266.529,1255.82 \n  276.069,1530.28 285.61,1339.22 295.151,1175.12 304.692,1034.35 314.233,913.702 323.774,810.39 333.315,721.983 342.856,646.377 352.397,581.75 361.938,526.531 \n  371.479,479.367 381.019,439.096 390.56,404.719 400.101,375.379 409.642,350.344 419.183,328.986 428.724,310.766 438.265,295.225 447.806,281.971 457.347,270.668 \n  466.888,261.029 476.429,252.811 485.97,245.804 495.51,239.829 505.051,234.735 514.592,230.393 524.133,226.691 533.674,223.535 543.215,220.844 552.756,218.551 \n  562.297,216.595 571.838,214.929 581.379,213.508 590.92,212.297 600.46,211.265 610.001,210.385 619.542,209.634 629.083,208.995 638.624,208.45 648.165,207.985 \n  657.706,207.589 667.247,207.252 676.788,206.964 686.329,206.719 695.87,206.51 705.411,206.332 714.951,206.18 724.492,206.05 734.033,205.94 743.574,205.846 \n  753.115,205.766 762.656,205.697 772.197,205.639 781.738,205.589 791.279,205.547 800.82,205.511 810.361,205.48 819.901,205.454 829.442,205.432 838.983,205.413 \n  848.524,205.396 858.065,205.383 867.606,205.371 877.147,205.361 886.688,205.352 896.229,205.345 905.77,205.339 915.311,205.333 924.851,205.329 934.392,205.325 \n  943.933,205.322 953.474,205.319 963.015,205.317 972.556,205.315 982.097,205.313 991.638,205.312 1001.18,205.311 1010.72,205.31 1020.26,205.31 1029.8,205.309 \n  1039.34,205.309 1048.88,205.309 1058.42,205.309 1067.97,205.31 1077.51,205.311 1087.05,205.312 1096.59,205.313 1106.13,205.315 1115.67,205.317 1125.21,205.321 \n  1134.75,205.324 \n  \"/>\n<path clip-path=\"url(#clip8600)\" d=\"\nM780.66 1487.47 L1152.76 1487.47 L1152.76 113.292 L780.66 113.292  Z\n  \" fill=\"#ffffff\" fill-rule=\"evenodd\" fill-opacity=\"1\"/>\n<defs>\n  <clipPath id=\"clip8603\">\n    <rect x=\"780\" y=\"113\" width=\"373\" height=\"1375\"/>\n  </clipPath>\n</defs>\n<polyline clip-path=\"url(#clip8603)\" style=\"stroke:#000000; stroke-width:2; stroke-opacity:0.1; fill:none\" points=\"\n  866.529,1487.47 866.529,113.292 \n  \"/>\n<polyline clip-path=\"url(#clip8603)\" style=\"stroke:#000000; stroke-width:2; stroke-opacity:0.1; fill:none\" points=\"\n  961.938,1487.47 961.938,113.292 \n  \"/>\n<polyline clip-path=\"url(#clip8603)\" style=\"stroke:#000000; stroke-width:2; stroke-opacity:0.1; fill:none\" points=\"\n  1057.35,1487.47 1057.35,113.292 \n  \"/>\n<polyline clip-path=\"url(#clip8603)\" style=\"stroke:#000000; stroke-width:2; stroke-opacity:0.1; fill:none\" points=\"\n  1152.76,1487.47 1152.76,113.292 \n  \"/>\n<polyline clip-path=\"url(#clip8603)\" style=\"stroke:#000000; stroke-width:2; stroke-opacity:0.1; fill:none\" points=\"\n  780.66,1487.47 1152.76,1487.47 \n  \"/>\n<polyline clip-path=\"url(#clip8603)\" style=\"stroke:#000000; stroke-width:2; stroke-opacity:0.1; fill:none\" points=\"\n  780.66,1258.44 1152.76,1258.44 \n  \"/>\n<polyline clip-path=\"url(#clip8603)\" style=\"stroke:#000000; stroke-width:2; stroke-opacity:0.1; fill:none\" points=\"\n  780.66,1029.41 1152.76,1029.41 \n  \"/>\n<polyline clip-path=\"url(#clip8603)\" style=\"stroke:#000000; stroke-width:2; stroke-opacity:0.1; fill:none\" points=\"\n  780.66,800.383 1152.76,800.383 \n  \"/>\n<polyline clip-path=\"url(#clip8603)\" style=\"stroke:#000000; stroke-width:2; stroke-opacity:0.1; fill:none\" points=\"\n  780.66,571.353 1152.76,571.353 \n  \"/>\n<polyline clip-path=\"url(#clip8603)\" style=\"stroke:#000000; stroke-width:2; stroke-opacity:0.1; fill:none\" points=\"\n  780.66,342.322 1152.76,342.322 \n  \"/>\n<polyline clip-path=\"url(#clip8603)\" style=\"stroke:#000000; stroke-width:2; stroke-opacity:0.1; fill:none\" points=\"\n  780.66,113.292 1152.76,113.292 \n  \"/>\n<polyline clip-path=\"url(#clip8600)\" style=\"stroke:#000000; stroke-width:4; stroke-opacity:1; fill:none\" points=\"\n  780.66,1487.47 1152.76,1487.47 \n  \"/>\n<polyline clip-path=\"url(#clip8600)\" style=\"stroke:#000000; stroke-width:4; stroke-opacity:1; fill:none\" points=\"\n  780.66,1487.47 780.66,113.292 \n  \"/>\n<polyline clip-path=\"url(#clip8600)\" style=\"stroke:#000000; stroke-width:4; stroke-opacity:1; fill:none\" points=\"\n  866.529,1487.47 866.529,1466.86 \n  \"/>\n<polyline clip-path=\"url(#clip8600)\" style=\"stroke:#000000; stroke-width:4; stroke-opacity:1; fill:none\" points=\"\n  961.938,1487.47 961.938,1466.86 \n  \"/>\n<polyline clip-path=\"url(#clip8600)\" style=\"stroke:#000000; stroke-width:4; stroke-opacity:1; fill:none\" points=\"\n  1057.35,1487.47 1057.35,1466.86 \n  \"/>\n<polyline clip-path=\"url(#clip8600)\" style=\"stroke:#000000; stroke-width:4; stroke-opacity:1; fill:none\" points=\"\n  1152.76,1487.47 1152.76,1466.86 \n  \"/>\n<polyline clip-path=\"url(#clip8600)\" style=\"stroke:#000000; stroke-width:4; stroke-opacity:1; fill:none\" points=\"\n  780.66,1487.47 786.242,1487.47 \n  \"/>\n<polyline clip-path=\"url(#clip8600)\" style=\"stroke:#000000; stroke-width:4; stroke-opacity:1; fill:none\" points=\"\n  780.66,1258.44 786.242,1258.44 \n  \"/>\n<polyline clip-path=\"url(#clip8600)\" style=\"stroke:#000000; stroke-width:4; stroke-opacity:1; fill:none\" points=\"\n  780.66,1029.41 786.242,1029.41 \n  \"/>\n<polyline clip-path=\"url(#clip8600)\" style=\"stroke:#000000; stroke-width:4; stroke-opacity:1; fill:none\" points=\"\n  780.66,800.383 786.242,800.383 \n  \"/>\n<polyline clip-path=\"url(#clip8600)\" style=\"stroke:#000000; stroke-width:4; stroke-opacity:1; fill:none\" points=\"\n  780.66,571.353 786.242,571.353 \n  \"/>\n<polyline clip-path=\"url(#clip8600)\" style=\"stroke:#000000; stroke-width:4; stroke-opacity:1; fill:none\" points=\"\n  780.66,342.322 786.242,342.322 \n  \"/>\n<polyline clip-path=\"url(#clip8600)\" style=\"stroke:#000000; stroke-width:4; stroke-opacity:1; fill:none\" points=\"\n  780.66,113.292 786.242,113.292 \n  \"/>\n<g clip-path=\"url(#clip8600)\">\n<text style=\"fill:#000000; fill-opacity:1; font-family:Arial,Helvetica Neue,Helvetica,sans-serif; font-size:48px; text-anchor:middle;\" transform=\"rotate(0, 866.529, 1541.47)\" x=\"866.529\" y=\"1541.47\">10</text>\n</g>\n<g clip-path=\"url(#clip8600)\">\n<text style=\"fill:#000000; fill-opacity:1; font-family:Arial,Helvetica Neue,Helvetica,sans-serif; font-size:48px; text-anchor:middle;\" transform=\"rotate(0, 961.938, 1541.47)\" x=\"961.938\" y=\"1541.47\">20</text>\n</g>\n<g clip-path=\"url(#clip8600)\">\n<text style=\"fill:#000000; fill-opacity:1; font-family:Arial,Helvetica Neue,Helvetica,sans-serif; font-size:48px; text-anchor:middle;\" transform=\"rotate(0, 1057.35, 1541.47)\" x=\"1057.35\" y=\"1541.47\">30</text>\n</g>\n<g clip-path=\"url(#clip8600)\">\n<text style=\"fill:#000000; fill-opacity:1; font-family:Arial,Helvetica Neue,Helvetica,sans-serif; font-size:48px; text-anchor:middle;\" transform=\"rotate(0, 1152.76, 1541.47)\" x=\"1152.76\" y=\"1541.47\">40</text>\n</g>\n<g clip-path=\"url(#clip8600)\">\n<text style=\"fill:#000000; fill-opacity:1; font-family:Arial,Helvetica Neue,Helvetica,sans-serif; font-size:48px; text-anchor:end;\" transform=\"rotate(0, 756.66, 1504.97)\" x=\"756.66\" y=\"1504.97\">0.61</text>\n</g>\n<g clip-path=\"url(#clip8600)\">\n<text style=\"fill:#000000; fill-opacity:1; font-family:Arial,Helvetica Neue,Helvetica,sans-serif; font-size:48px; text-anchor:end;\" transform=\"rotate(0, 756.66, 1275.94)\" x=\"756.66\" y=\"1275.94\">0.62</text>\n</g>\n<g clip-path=\"url(#clip8600)\">\n<text style=\"fill:#000000; fill-opacity:1; font-family:Arial,Helvetica Neue,Helvetica,sans-serif; font-size:48px; text-anchor:end;\" transform=\"rotate(0, 756.66, 1046.91)\" x=\"756.66\" y=\"1046.91\">0.63</text>\n</g>\n<g clip-path=\"url(#clip8600)\">\n<text style=\"fill:#000000; fill-opacity:1; font-family:Arial,Helvetica Neue,Helvetica,sans-serif; font-size:48px; text-anchor:end;\" transform=\"rotate(0, 756.66, 817.883)\" x=\"756.66\" y=\"817.883\">0.64</text>\n</g>\n<g clip-path=\"url(#clip8600)\">\n<text style=\"fill:#000000; fill-opacity:1; font-family:Arial,Helvetica Neue,Helvetica,sans-serif; font-size:48px; text-anchor:end;\" transform=\"rotate(0, 756.66, 588.853)\" x=\"756.66\" y=\"588.853\">0.65</text>\n</g>\n<g clip-path=\"url(#clip8600)\">\n<text style=\"fill:#000000; fill-opacity:1; font-family:Arial,Helvetica Neue,Helvetica,sans-serif; font-size:48px; text-anchor:end;\" transform=\"rotate(0, 756.66, 359.822)\" x=\"756.66\" y=\"359.822\">0.66</text>\n</g>\n<g clip-path=\"url(#clip8600)\">\n<text style=\"fill:#000000; fill-opacity:1; font-family:Arial,Helvetica Neue,Helvetica,sans-serif; font-size:48px; text-anchor:end;\" transform=\"rotate(0, 756.66, 130.792)\" x=\"756.66\" y=\"130.792\">0.67</text>\n</g>\n<g clip-path=\"url(#clip8600)\">\n<text style=\"fill:#000000; fill-opacity:1; font-family:Arial,Helvetica Neue,Helvetica,sans-serif; font-size:71px; text-anchor:middle;\" transform=\"rotate(0, 966.708, 62.4)\" x=\"966.708\" y=\"62.4\">c</text>\n</g>\n<polyline clip-path=\"url(#clip8603)\" style=\"stroke:#009af9; stroke-width:8; stroke-opacity:1; fill:none\" points=\"\n  780.66,587.853 790.201,582.511 799.742,571.307 809.283,553.465 818.824,527.888 828.365,493.085 837.906,447.05 847.447,387.099 856.988,309.629 866.529,209.754 \n  876.069,1420.57 885.61,1320.15 895.151,1234.53 904.692,1161.53 914.233,1099.3 923.774,1046.25 933.315,1001.03 942.856,962.474 952.397,929.61 961.938,901.596 \n  971.479,877.715 981.019,857.359 990.56,840.007 1000.1,825.216 1009.64,812.608 1019.18,801.861 1028.72,792.701 1038.26,784.892 1047.81,778.236 1057.35,772.562 \n  1066.89,767.726 1076.43,763.604 1085.97,760.09 1095.51,757.095 1105.05,754.542 1114.59,752.365 1124.13,750.51 1133.67,748.929 1143.21,747.582 1152.76,746.433 \n  1162.3,745.453 1171.84,744.619 1181.38,743.907 1190.92,743.301 1200.46,742.784 1210,742.343 1219.54,741.968 1229.08,741.648 1238.62,741.375 1248.17,741.142 \n  1257.71,740.944 1267.25,740.775 1276.79,740.631 1286.33,740.508 1295.87,740.403 1305.41,740.314 1314.95,740.238 1324.49,740.173 1334.03,740.118 1343.57,740.071 \n  1353.12,740.031 1362.66,739.997 1372.2,739.967 1381.74,739.943 1391.28,739.921 1400.82,739.903 1410.36,739.888 1419.9,739.875 1429.44,739.864 1438.98,739.854 \n  1448.52,739.846 1458.07,739.839 1467.61,739.833 1477.15,739.828 1486.69,739.824 1496.23,739.82 1505.77,739.817 1515.31,739.814 1524.85,739.812 1534.39,739.81 \n  1543.93,739.808 1553.47,739.807 1563.02,739.806 1572.56,739.805 1582.1,739.804 1591.64,739.803 1601.18,739.802 1610.72,739.801 1620.26,739.801 1629.8,739.8 \n  1639.34,739.8 1648.88,739.799 1658.42,739.799 1667.97,739.798 1677.51,739.797 1687.05,739.796 1696.59,739.796 1706.13,739.795 1715.67,739.793 1725.21,739.792 \n  1734.75,739.79 \n  \"/>\n<path clip-path=\"url(#clip8600)\" d=\"\nM1380.66 1487.47 L1752.76 1487.47 L1752.76 113.292 L1380.66 113.292  Z\n  \" fill=\"#ffffff\" fill-rule=\"evenodd\" fill-opacity=\"1\"/>\n<defs>\n  <clipPath id=\"clip8604\">\n    <rect x=\"1380\" y=\"113\" width=\"373\" height=\"1375\"/>\n  </clipPath>\n</defs>\n<polyline clip-path=\"url(#clip8604)\" style=\"stroke:#000000; stroke-width:2; stroke-opacity:0.1; fill:none\" points=\"\n  1466.53,1487.47 1466.53,113.292 \n  \"/>\n<polyline clip-path=\"url(#clip8604)\" style=\"stroke:#000000; stroke-width:2; stroke-opacity:0.1; fill:none\" points=\"\n  1561.94,1487.47 1561.94,113.292 \n  \"/>\n<polyline clip-path=\"url(#clip8604)\" style=\"stroke:#000000; stroke-width:2; stroke-opacity:0.1; fill:none\" points=\"\n  1657.35,1487.47 1657.35,113.292 \n  \"/>\n<polyline clip-path=\"url(#clip8604)\" style=\"stroke:#000000; stroke-width:2; stroke-opacity:0.1; fill:none\" points=\"\n  1752.76,1487.47 1752.76,113.292 \n  \"/>\n<polyline clip-path=\"url(#clip8604)\" style=\"stroke:#000000; stroke-width:2; stroke-opacity:0.1; fill:none\" points=\"\n  1380.66,1487.47 1752.76,1487.47 \n  \"/>\n<polyline clip-path=\"url(#clip8604)\" style=\"stroke:#000000; stroke-width:2; stroke-opacity:0.1; fill:none\" points=\"\n  1380.66,1212.64 1752.76,1212.64 \n  \"/>\n<polyline clip-path=\"url(#clip8604)\" style=\"stroke:#000000; stroke-width:2; stroke-opacity:0.1; fill:none\" points=\"\n  1380.66,937.802 1752.76,937.802 \n  \"/>\n<polyline clip-path=\"url(#clip8604)\" style=\"stroke:#000000; stroke-width:2; stroke-opacity:0.1; fill:none\" points=\"\n  1380.66,662.965 1752.76,662.965 \n  \"/>\n<polyline clip-path=\"url(#clip8604)\" style=\"stroke:#000000; stroke-width:2; stroke-opacity:0.1; fill:none\" points=\"\n  1380.66,388.128 1752.76,388.128 \n  \"/>\n<polyline clip-path=\"url(#clip8604)\" style=\"stroke:#000000; stroke-width:2; stroke-opacity:0.1; fill:none\" points=\"\n  1380.66,113.292 1752.76,113.292 \n  \"/>\n<polyline clip-path=\"url(#clip8600)\" style=\"stroke:#000000; stroke-width:4; stroke-opacity:1; fill:none\" points=\"\n  1380.66,1487.47 1752.76,1487.47 \n  \"/>\n<polyline clip-path=\"url(#clip8600)\" style=\"stroke:#000000; stroke-width:4; stroke-opacity:1; fill:none\" points=\"\n  1380.66,1487.47 1380.66,113.292 \n  \"/>\n<polyline clip-path=\"url(#clip8600)\" style=\"stroke:#000000; stroke-width:4; stroke-opacity:1; fill:none\" points=\"\n  1466.53,1487.47 1466.53,1466.86 \n  \"/>\n<polyline clip-path=\"url(#clip8600)\" style=\"stroke:#000000; stroke-width:4; stroke-opacity:1; fill:none\" points=\"\n  1561.94,1487.47 1561.94,1466.86 \n  \"/>\n<polyline clip-path=\"url(#clip8600)\" style=\"stroke:#000000; stroke-width:4; stroke-opacity:1; fill:none\" points=\"\n  1657.35,1487.47 1657.35,1466.86 \n  \"/>\n<polyline clip-path=\"url(#clip8600)\" style=\"stroke:#000000; stroke-width:4; stroke-opacity:1; fill:none\" points=\"\n  1752.76,1487.47 1752.76,1466.86 \n  \"/>\n<polyline clip-path=\"url(#clip8600)\" style=\"stroke:#000000; stroke-width:4; stroke-opacity:1; fill:none\" points=\"\n  1380.66,1487.47 1386.24,1487.47 \n  \"/>\n<polyline clip-path=\"url(#clip8600)\" style=\"stroke:#000000; stroke-width:4; stroke-opacity:1; fill:none\" points=\"\n  1380.66,1212.64 1386.24,1212.64 \n  \"/>\n<polyline clip-path=\"url(#clip8600)\" style=\"stroke:#000000; stroke-width:4; stroke-opacity:1; fill:none\" points=\"\n  1380.66,937.802 1386.24,937.802 \n  \"/>\n<polyline clip-path=\"url(#clip8600)\" style=\"stroke:#000000; stroke-width:4; stroke-opacity:1; fill:none\" points=\"\n  1380.66,662.965 1386.24,662.965 \n  \"/>\n<polyline clip-path=\"url(#clip8600)\" style=\"stroke:#000000; stroke-width:4; stroke-opacity:1; fill:none\" points=\"\n  1380.66,388.128 1386.24,388.128 \n  \"/>\n<polyline clip-path=\"url(#clip8600)\" style=\"stroke:#000000; stroke-width:4; stroke-opacity:1; fill:none\" points=\"\n  1380.66,113.292 1386.24,113.292 \n  \"/>\n<g clip-path=\"url(#clip8600)\">\n<text style=\"fill:#000000; fill-opacity:1; font-family:Arial,Helvetica Neue,Helvetica,sans-serif; font-size:48px; text-anchor:middle;\" transform=\"rotate(0, 1466.53, 1541.47)\" x=\"1466.53\" y=\"1541.47\">10</text>\n</g>\n<g clip-path=\"url(#clip8600)\">\n<text style=\"fill:#000000; fill-opacity:1; font-family:Arial,Helvetica Neue,Helvetica,sans-serif; font-size:48px; text-anchor:middle;\" transform=\"rotate(0, 1561.94, 1541.47)\" x=\"1561.94\" y=\"1541.47\">20</text>\n</g>\n<g clip-path=\"url(#clip8600)\">\n<text style=\"fill:#000000; fill-opacity:1; font-family:Arial,Helvetica Neue,Helvetica,sans-serif; font-size:48px; text-anchor:middle;\" transform=\"rotate(0, 1657.35, 1541.47)\" x=\"1657.35\" y=\"1541.47\">30</text>\n</g>\n<g clip-path=\"url(#clip8600)\">\n<text style=\"fill:#000000; fill-opacity:1; font-family:Arial,Helvetica Neue,Helvetica,sans-serif; font-size:48px; text-anchor:middle;\" transform=\"rotate(0, 1752.76, 1541.47)\" x=\"1752.76\" y=\"1541.47\">40</text>\n</g>\n<g clip-path=\"url(#clip8600)\">\n<text style=\"fill:#000000; fill-opacity:1; font-family:Arial,Helvetica Neue,Helvetica,sans-serif; font-size:48px; text-anchor:end;\" transform=\"rotate(0, 1356.66, 1504.97)\" x=\"1356.66\" y=\"1504.97\">0.85</text>\n</g>\n<g clip-path=\"url(#clip8600)\">\n<text style=\"fill:#000000; fill-opacity:1; font-family:Arial,Helvetica Neue,Helvetica,sans-serif; font-size:48px; text-anchor:end;\" transform=\"rotate(0, 1356.66, 1230.14)\" x=\"1356.66\" y=\"1230.14\">0.90</text>\n</g>\n<g clip-path=\"url(#clip8600)\">\n<text style=\"fill:#000000; fill-opacity:1; font-family:Arial,Helvetica Neue,Helvetica,sans-serif; font-size:48px; text-anchor:end;\" transform=\"rotate(0, 1356.66, 955.302)\" x=\"1356.66\" y=\"955.302\">0.95</text>\n</g>\n<g clip-path=\"url(#clip8600)\">\n<text style=\"fill:#000000; fill-opacity:1; font-family:Arial,Helvetica Neue,Helvetica,sans-serif; font-size:48px; text-anchor:end;\" transform=\"rotate(0, 1356.66, 680.465)\" x=\"1356.66\" y=\"680.465\">1.00</text>\n</g>\n<g clip-path=\"url(#clip8600)\">\n<text style=\"fill:#000000; fill-opacity:1; font-family:Arial,Helvetica Neue,Helvetica,sans-serif; font-size:48px; text-anchor:end;\" transform=\"rotate(0, 1356.66, 405.628)\" x=\"1356.66\" y=\"405.628\">1.05</text>\n</g>\n<g clip-path=\"url(#clip8600)\">\n<text style=\"fill:#000000; fill-opacity:1; font-family:Arial,Helvetica Neue,Helvetica,sans-serif; font-size:48px; text-anchor:end;\" transform=\"rotate(0, 1356.66, 130.792)\" x=\"1356.66\" y=\"130.792\">1.10</text>\n</g>\n<g clip-path=\"url(#clip8600)\">\n<text style=\"fill:#000000; fill-opacity:1; font-family:Arial,Helvetica Neue,Helvetica,sans-serif; font-size:71px; text-anchor:middle;\" transform=\"rotate(0, 1566.71, 62.4)\" x=\"1566.71\" y=\"62.4\">R</text>\n</g>\n<polyline clip-path=\"url(#clip8604)\" style=\"stroke:#009af9; stroke-width:8; stroke-opacity:1; fill:none\" points=\"\n  1380.66,373.663 1390.2,369.505 1399.74,364.945 1409.28,359.786 1418.82,353.789 1428.36,346.657 1437.91,338.011 1447.45,327.355 1456.99,314.028 1466.53,297.118 \n  1476.07,1256.06 1485.61,290.583 1495.15,303.372 1504.69,314.124 1514.23,323.184 1523.77,330.83 1533.31,337.294 1542.86,342.764 1552.4,347.398 1561.94,351.328 \n  1571.48,354.664 1581.02,357.496 1590.56,359.903 1600.1,361.949 1609.64,363.688 1619.18,365.169 1628.72,366.428 1638.26,367.5 1647.81,368.413 1657.35,369.19 \n  1666.89,369.852 1676.43,370.416 1685.97,370.896 1695.51,371.305 1705.05,371.654 1714.59,371.951 1724.13,372.204 1733.67,372.419 1743.21,372.603 1752.76,372.76 \n  1762.3,372.893 1771.84,373.007 1781.38,373.104 1790.92,373.186 1800.46,373.257 1810,373.317 1819.54,373.368 1829.08,373.412 1838.62,373.449 1848.17,373.48 \n  1857.71,373.507 1867.25,373.53 1876.79,373.55 1886.33,373.567 1895.87,373.581 1905.41,373.593 1914.95,373.604 1924.49,373.612 1934.03,373.62 1943.57,373.626 \n  1953.12,373.632 1962.66,373.636 1972.2,373.64 1981.74,373.644 1991.28,373.647 2000.82,373.649 2010.36,373.651 2019.9,373.653 2029.44,373.655 2038.98,373.656 \n  2048.52,373.657 2058.07,373.658 2067.61,373.659 2077.15,373.659 2086.69,373.66 2096.23,373.66 2105.77,373.661 2115.31,373.661 2124.85,373.662 2134.39,373.662 \n  2143.93,373.662 2153.47,373.662 2163.02,373.662 2172.56,373.662 2182.1,373.663 2191.64,373.663 2201.18,373.663 2210.72,373.663 2220.26,373.663 2229.8,373.663 \n  2239.34,373.663 2248.88,373.663 2258.42,373.663 2267.97,373.663 2277.51,373.663 2287.05,373.663 2296.59,373.663 2306.13,373.662 2315.67,373.662 2325.21,373.662 \n  2334.75,373.662 \n  \"/>\n<path clip-path=\"url(#clip8600)\" d=\"\nM1980.66 1487.47 L2352.76 1487.47 L2352.76 113.292 L1980.66 113.292  Z\n  \" fill=\"#ffffff\" fill-rule=\"evenodd\" fill-opacity=\"1\"/>\n<defs>\n  <clipPath id=\"clip8605\">\n    <rect x=\"1980\" y=\"113\" width=\"373\" height=\"1375\"/>\n  </clipPath>\n</defs>\n<polyline clip-path=\"url(#clip8605)\" style=\"stroke:#000000; stroke-width:2; stroke-opacity:0.1; fill:none\" points=\"\n  2066.53,1487.47 2066.53,113.292 \n  \"/>\n<polyline clip-path=\"url(#clip8605)\" style=\"stroke:#000000; stroke-width:2; stroke-opacity:0.1; fill:none\" points=\"\n  2161.94,1487.47 2161.94,113.292 \n  \"/>\n<polyline clip-path=\"url(#clip8605)\" style=\"stroke:#000000; stroke-width:2; stroke-opacity:0.1; fill:none\" points=\"\n  2257.35,1487.47 2257.35,113.292 \n  \"/>\n<polyline clip-path=\"url(#clip8605)\" style=\"stroke:#000000; stroke-width:2; stroke-opacity:0.1; fill:none\" points=\"\n  2352.76,1487.47 2352.76,113.292 \n  \"/>\n<polyline clip-path=\"url(#clip8605)\" style=\"stroke:#000000; stroke-width:2; stroke-opacity:0.1; fill:none\" points=\"\n  1980.66,1487.47 2352.76,1487.47 \n  \"/>\n<polyline clip-path=\"url(#clip8605)\" style=\"stroke:#000000; stroke-width:2; stroke-opacity:0.1; fill:none\" points=\"\n  1980.66,1143.93 2352.76,1143.93 \n  \"/>\n<polyline clip-path=\"url(#clip8605)\" style=\"stroke:#000000; stroke-width:2; stroke-opacity:0.1; fill:none\" points=\"\n  1980.66,800.383 2352.76,800.383 \n  \"/>\n<polyline clip-path=\"url(#clip8605)\" style=\"stroke:#000000; stroke-width:2; stroke-opacity:0.1; fill:none\" points=\"\n  1980.66,456.838 2352.76,456.838 \n  \"/>\n<polyline clip-path=\"url(#clip8605)\" style=\"stroke:#000000; stroke-width:2; stroke-opacity:0.1; fill:none\" points=\"\n  1980.66,113.292 2352.76,113.292 \n  \"/>\n<polyline clip-path=\"url(#clip8600)\" style=\"stroke:#000000; stroke-width:4; stroke-opacity:1; fill:none\" points=\"\n  1980.66,1487.47 2352.76,1487.47 \n  \"/>\n<polyline clip-path=\"url(#clip8600)\" style=\"stroke:#000000; stroke-width:4; stroke-opacity:1; fill:none\" points=\"\n  1980.66,1487.47 1980.66,113.292 \n  \"/>\n<polyline clip-path=\"url(#clip8600)\" style=\"stroke:#000000; stroke-width:4; stroke-opacity:1; fill:none\" points=\"\n  2066.53,1487.47 2066.53,1466.86 \n  \"/>\n<polyline clip-path=\"url(#clip8600)\" style=\"stroke:#000000; stroke-width:4; stroke-opacity:1; fill:none\" points=\"\n  2161.94,1487.47 2161.94,1466.86 \n  \"/>\n<polyline clip-path=\"url(#clip8600)\" style=\"stroke:#000000; stroke-width:4; stroke-opacity:1; fill:none\" points=\"\n  2257.35,1487.47 2257.35,1466.86 \n  \"/>\n<polyline clip-path=\"url(#clip8600)\" style=\"stroke:#000000; stroke-width:4; stroke-opacity:1; fill:none\" points=\"\n  2352.76,1487.47 2352.76,1466.86 \n  \"/>\n<polyline clip-path=\"url(#clip8600)\" style=\"stroke:#000000; stroke-width:4; stroke-opacity:1; fill:none\" points=\"\n  1980.66,1487.47 1986.24,1487.47 \n  \"/>\n<polyline clip-path=\"url(#clip8600)\" style=\"stroke:#000000; stroke-width:4; stroke-opacity:1; fill:none\" points=\"\n  1980.66,1143.93 1986.24,1143.93 \n  \"/>\n<polyline clip-path=\"url(#clip8600)\" style=\"stroke:#000000; stroke-width:4; stroke-opacity:1; fill:none\" points=\"\n  1980.66,800.383 1986.24,800.383 \n  \"/>\n<polyline clip-path=\"url(#clip8600)\" style=\"stroke:#000000; stroke-width:4; stroke-opacity:1; fill:none\" points=\"\n  1980.66,456.838 1986.24,456.838 \n  \"/>\n<polyline clip-path=\"url(#clip8600)\" style=\"stroke:#000000; stroke-width:4; stroke-opacity:1; fill:none\" points=\"\n  1980.66,113.292 1986.24,113.292 \n  \"/>\n<g clip-path=\"url(#clip8600)\">\n<text style=\"fill:#000000; fill-opacity:1; font-family:Arial,Helvetica Neue,Helvetica,sans-serif; font-size:48px; text-anchor:middle;\" transform=\"rotate(0, 2066.53, 1541.47)\" x=\"2066.53\" y=\"1541.47\">10</text>\n</g>\n<g clip-path=\"url(#clip8600)\">\n<text style=\"fill:#000000; fill-opacity:1; font-family:Arial,Helvetica Neue,Helvetica,sans-serif; font-size:48px; text-anchor:middle;\" transform=\"rotate(0, 2161.94, 1541.47)\" x=\"2161.94\" y=\"1541.47\">20</text>\n</g>\n<g clip-path=\"url(#clip8600)\">\n<text style=\"fill:#000000; fill-opacity:1; font-family:Arial,Helvetica Neue,Helvetica,sans-serif; font-size:48px; text-anchor:middle;\" transform=\"rotate(0, 2257.35, 1541.47)\" x=\"2257.35\" y=\"1541.47\">30</text>\n</g>\n<g clip-path=\"url(#clip8600)\">\n<text style=\"fill:#000000; fill-opacity:1; font-family:Arial,Helvetica Neue,Helvetica,sans-serif; font-size:48px; text-anchor:middle;\" transform=\"rotate(0, 2352.76, 1541.47)\" x=\"2352.76\" y=\"1541.47\">40</text>\n</g>\n<g clip-path=\"url(#clip8600)\">\n<text style=\"fill:#000000; fill-opacity:1; font-family:Arial,Helvetica Neue,Helvetica,sans-serif; font-size:48px; text-anchor:end;\" transform=\"rotate(0, 1956.66, 1504.97)\" x=\"1956.66\" y=\"1504.97\">0.00</text>\n</g>\n<g clip-path=\"url(#clip8600)\">\n<text style=\"fill:#000000; fill-opacity:1; font-family:Arial,Helvetica Neue,Helvetica,sans-serif; font-size:48px; text-anchor:end;\" transform=\"rotate(0, 1956.66, 1161.43)\" x=\"1956.66\" y=\"1161.43\">0.05</text>\n</g>\n<g clip-path=\"url(#clip8600)\">\n<text style=\"fill:#000000; fill-opacity:1; font-family:Arial,Helvetica Neue,Helvetica,sans-serif; font-size:48px; text-anchor:end;\" transform=\"rotate(0, 1956.66, 817.883)\" x=\"1956.66\" y=\"817.883\">0.10</text>\n</g>\n<g clip-path=\"url(#clip8600)\">\n<text style=\"fill:#000000; fill-opacity:1; font-family:Arial,Helvetica Neue,Helvetica,sans-serif; font-size:48px; text-anchor:end;\" transform=\"rotate(0, 1956.66, 474.338)\" x=\"1956.66\" y=\"474.338\">0.15</text>\n</g>\n<g clip-path=\"url(#clip8600)\">\n<text style=\"fill:#000000; fill-opacity:1; font-family:Arial,Helvetica Neue,Helvetica,sans-serif; font-size:48px; text-anchor:end;\" transform=\"rotate(0, 1956.66, 130.792)\" x=\"1956.66\" y=\"130.792\">0.20</text>\n</g>\n<g clip-path=\"url(#clip8600)\">\n<image width=\"55\" height=\"41\" xlink:href=\"data:image/png;base64,\niVBORw0KGgoAAAANSUhEUgAAADcAAAApCAYAAACRB7GtAAADBUlEQVRogd1Z7W3rIBQ9feoAJCN4\nBJoRyAbMYHUCsoLVCayMQDuBs4LjCdyOQLrBfT/6jHjkCzAkUa90JUcxhgOXwz0XEBEu+TiOpJQi\nzjkBKOJVVVHTNHRtLLF+8c+6rosB8p0xdhtwxhiqqupmwAAQ57w8uHsB6/s+O7hneCaEwNfXl/0t\npYQQAkIILJdL/3UAQNM0eHt7g5QS2+325DvnbLFYPEU1iLFze0xKScaYoNmcyKYEKWQJy67rLLC2\nbYMHaYyx7UqE1mxwxhhijEUDIyK0bWvB3RvMSXBTONZ1HT1AKaU9q+4N5iQ4zKBid4/eG4zvzwDQ\n9z2qqoomo91uR9PzarVKZ7VC9gwALy8vSXT88fFhnznnmYaUz57+hVaSLRYL+v7+BgAQUbnzKtH+\npDbc7/cWWEpI38KSwWmt7fMjhiQwA5y73x6RTIBEcJ+fn+Tmn79q5dxVAx535ZIOR1eV3zIz0VqT\nlJI45zZdZIwR55yapjlK9KM7cBNl3CgzUUod9amUorZtSSlFQgj7n9bajie6IzdRRmGZo7W2KwSA\nlFJnZdg4jlZkd11HSeDcWXI/lNtdbckYuyqn3PeFEGngXGAAggXtnAm8BswP20kERHXqCtppRkuu\nWGhk+DWfSbrN6jg3mfj7eQqv2JUexzEenLu5c5OJWw0IDUd/YvzjILjzvu+PSnI5ycSPitBVu+TB\nL/qbNjeZ+N+OreXMAuffFeQkE611kYkLzi0n7TZZXdehTa+aK5+An0Q8S7E2dBa6riPGGDHGkqpk\nMVGR6/tH5fRztl6vnw6Hw+zJPGWufALySahksVrScpUtHgKcf8Hyq8AJIf777ZNXrG02GzocDvlI\nYY77OauryVLJqeu6+wOb3E1+U3JWY4y9t09KnEu6n95NyW+Iu6JWKWXb3R2U664qCBGoWmu7Woyx\no3CeVU4vYbvdjl5fX+3ZJ4QA59wy6DAM6PsewzAA+GHWuq6x2WyOMpqHAzfZ+/s7aa0xDIMFyhjD\ncrlEVVX2nv7SJc5fXDuKMYz47/4AAAAASUVORK5CYII=\n\" transform=\"translate(2139, -1)\"/>\n</g>\n<polyline clip-path=\"url(#clip8605)\" style=\"stroke:#ff0000; stroke-width:8; stroke-opacity:1; fill:none\" points=\"\n  1980.66,1487.47 1990.2,1487.47 1999.74,1487.47 2009.28,1487.47 2018.82,1487.47 2028.36,1487.47 2037.91,1487.47 2047.45,1487.47 2056.99,1487.47 2066.53,1487.47 \n  2076.07,113.292 2085.61,113.292 2095.15,113.292 2104.69,113.292 2114.23,113.292 2123.77,113.292 2133.31,113.292 2142.86,113.292 2152.4,113.292 2161.94,113.292 \n  2171.48,113.292 2181.02,113.292 2190.56,113.292 2200.1,113.292 2209.64,113.292 2219.18,113.292 2228.72,113.292 2238.26,113.292 2247.81,113.292 2257.35,113.292 \n  2266.89,113.292 2276.43,113.292 2285.97,113.292 2295.51,113.292 2305.05,113.292 2314.59,113.292 2324.13,113.292 2333.67,113.292 2343.21,113.292 2352.76,113.292 \n  2362.3,113.292 2371.84,113.292 2381.38,113.292 2390.92,113.292 2400.46,113.292 2410,113.292 2419.54,113.292 2429.08,113.292 2438.62,113.292 2448.17,113.292 \n  2457.71,113.292 2467.25,113.292 2476.79,113.292 2486.33,113.292 2495.87,113.292 2505.41,113.292 2514.95,113.292 2524.49,113.292 2534.03,113.292 2543.57,113.292 \n  2553.12,113.292 2562.66,113.292 2572.2,113.292 2581.74,113.292 2591.28,113.292 2600.82,113.292 2610.36,113.292 2619.9,113.292 2629.44,113.292 2638.98,113.292 \n  2648.52,113.292 2658.07,113.292 2667.61,113.292 2677.15,113.292 2686.69,113.292 2696.23,113.292 2705.77,113.292 2715.31,113.292 2724.85,113.292 2734.39,113.292 \n  2743.93,113.292 2753.47,113.292 2763.02,113.292 2772.56,113.292 2782.1,113.292 2791.64,113.292 2801.18,113.292 2810.72,113.292 2820.26,113.292 2829.8,113.292 \n  2839.34,113.292 2848.88,113.292 2858.42,113.292 2867.97,113.292 2877.51,113.292 2887.05,113.292 2896.59,113.292 2906.13,113.292 2915.67,113.292 2925.21,113.292 \n  2934.75,113.292 \n  \"/>\n</svg>\n"
     },
     "execution_count": 8,
     "metadata": {},
     "output_type": "execute_result"
    }
   ],
   "source": [
    "p1 = plot(k,title=\"k\",ylims=(1.35,1.5),lw=2,legend=false);\n",
    "p2 = plot(c,title=\"c\",ylims=(0.61,0.67),lw=2,legend=false);\n",
    "#p3 = plot(r.+1 .-m.delta,title=\"r\",ylims=(1.05,1.07),lw=2,legend=false);\n",
    "p3 = plot(R,title=\"R\",ylims=(0.85,1.1),lw=2,legend=false);\n",
    "p4 = plot(tauc,title=L\"\\tau_{c}\",ylims=(0,0.2),c=:red,lw=2,legend=false);\n",
    "\n",
    "plot(p1,p2,p3,p4,xlims=(1,40),layout=(1,4),titlefontsize=12)"
   ]
  }
 ],
 "metadata": {
  "kernelspec": {
   "display_name": "Julia 1.7.2",
   "language": "julia",
   "name": "julia-1.7"
  },
  "language_info": {
   "file_extension": ".jl",
   "mimetype": "application/julia",
   "name": "julia",
   "version": "1.7.2"
  },
  "orig_nbformat": 4,
  "vscode": {
   "interpreter": {
    "hash": "118d60771441099b56b467b851d37c7b4e7834dcd040d98bc56db739d7ee75f3"
   }
  }
 },
 "nbformat": 4,
 "nbformat_minor": 2
}
