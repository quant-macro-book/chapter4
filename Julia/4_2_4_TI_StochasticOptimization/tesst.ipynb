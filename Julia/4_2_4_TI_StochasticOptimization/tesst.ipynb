{
 "cells": [
  {
   "cell_type": "code",
   "execution_count": 206,
   "metadata": {},
   "outputs": [],
   "source": [
    "# 必要なパッケージを呼び出す\n",
    "using Printf\n",
    "using NLsolve\n",
    "using Interpolations\n",
    "using Plots\n",
    "using Random\n",
    "using Distributions\n",
    "using LaTeXStrings"
   ]
  },
  {
   "cell_type": "code",
   "execution_count": 207,
   "metadata": {},
   "outputs": [],
   "source": [
    "# MATLABではグローバル変数を使って関数への変数受け渡しを行う\n",
    "# Julia/Pythonではコンストラクタを用いる\n",
    "\n",
    "# ギリシャ文字の使用は不可とする\n",
    "struct Model{TI<:Integer, TF<:AbstractFloat}\n",
    "\n",
    "    # カリブレーション\n",
    "    alpha::TF \n",
    "    beta::TF           \n",
    "    delta::TF \n",
    "    Abar::TF\n",
    "\n",
    "    # 定常状態の値\n",
    "    kss::TF\n",
    "    css::TF    \n",
    "    \n",
    "    # 移行過程に関する変数\n",
    "    T::TI\n",
    "\n",
    "end"
   ]
  },
  {
   "cell_type": "code",
   "execution_count": 208,
   "metadata": {},
   "outputs": [
    {
     "data": {
      "text/plain": [
       "shooting (generic function with 1 method)"
      ]
     },
     "metadata": {},
     "output_type": "display_data"
    }
   ],
   "source": [
    "function shooting(m,x,k0)\n",
    "    \"\"\"\n",
    "    ------------------------------------------------------\n",
    "    === ためし打ち法において、消費と資本の流列を求める関数 ===\n",
    "    ------------------------------------------------------\n",
    "    <input>\n",
    "    ・m: パラメータ等を含む構造体\n",
    "    ・c0: 消費の初期値\n",
    "    ・k0: 資本の初期値\n",
    "    <output>\n",
    "    ・k: 資本の流列\n",
    "    ・c: 消費の流列\n",
    "    \"\"\"\n",
    "    \n",
    "    c0 = x[1];\n",
    "    k = zeros(m.T+1);\n",
    "    c = zeros(m.T+1);\n",
    "\n",
    "    k[1] = k0;\n",
    "    c[1] = c0;\n",
    "\n",
    "    for t in 1:T\n",
    "\n",
    "        k[t+1] = max(m.Abar*k[t]^m.alpha + (1-m.delta)*k[t] - c[t], 0.0); # k>0\n",
    "        #k[t+1] = m.Abar*(k[t]^m.alpha) + (1-m.delta)*k[t] - c[t];\n",
    "\n",
    "        #if k[t+1] <0\n",
    "        #    k[m.T+1] = m.kss - 10.0\n",
    "        #    break\n",
    "        #end\n",
    "\n",
    "        c[t+1] = m.beta*c[t]*(1 + m.Abar*m.alpha*k[t+1]^(m.alpha-1) - m.delta);\n",
    "\n",
    "    end\n",
    "\n",
    "    return k, c\n",
    "end"
   ]
  },
  {
   "cell_type": "code",
   "execution_count": 209,
   "metadata": {},
   "outputs": [
    {
     "data": {
      "text/plain": [
       "shooting_err (generic function with 1 method)"
      ]
     },
     "metadata": {},
     "output_type": "display_data"
    }
   ],
   "source": [
    "function shooting_err(m,x,k0)\n",
    "    \"\"\"\n",
    "    --------------------------------------------------------------\n",
    "    === ためし打ち法において、資本の定常状態とk_{T}の差を求める関数 ===\n",
    "    --------------------------------------------------------------\n",
    "    <input>\n",
    "    ・m: パラメータ等を含む構造体\n",
    "    ・c0: 消費の初期値\n",
    "    ・k0: 資本の初期値\n",
    "    <output>\n",
    "    ・err: 資本の定常状態とk_{T}の差\n",
    "    \"\"\"\n",
    "\n",
    "    k, c = shooting(m,x,k0);\n",
    "    err = k[m.T+1] - m.kss;\n",
    "\n",
    "    return err\n",
    "end"
   ]
  },
  {
   "cell_type": "markdown",
   "metadata": {},
   "source": [
    "### ためし打ち法で移行過程を求める\n",
    "(saddlepath_shooting.m に対応)"
   ]
  },
  {
   "cell_type": "code",
   "execution_count": 210,
   "metadata": {},
   "outputs": [],
   "source": [
    "# カリブレーション\n",
    "alpha = 0.4; \n",
    "beta = 0.96;\n",
    "delta = 1.0; \n",
    "Abar = 1.0;\n",
    "\n",
    "# 定常状態の値\n",
    "kss = (alpha*beta*Abar/(1-beta*(1-delta)))^(1/(1-alpha));\n",
    "css = kss^alpha - delta*kss;\n",
    "\n",
    "# 移行過程に関する変数\n",
    "T = 30; \n",
    "\n",
    "# k の初期値\n",
    "k0 = 0.1; "
   ]
  },
  {
   "cell_type": "code",
   "execution_count": 211,
   "metadata": {},
   "outputs": [
    {
     "data": {
      "text/plain": [
       "31-element Vector{Float64}:\n",
       "   0.1\n",
       " NaN\n",
       " NaN\n",
       " NaN\n",
       " NaN\n",
       " NaN\n",
       " NaN\n",
       " NaN\n",
       " NaN\n",
       " NaN\n",
       "   ⋮\n",
       " NaN\n",
       " NaN\n",
       " NaN\n",
       " NaN\n",
       " NaN\n",
       " NaN\n",
       " NaN\n",
       " NaN\n",
       " NaN"
      ]
     },
     "metadata": {},
     "output_type": "display_data"
    }
   ],
   "source": [
    "m = Model(alpha,beta,delta,Abar,kss,css,T);\n",
    "c0 = 0.129139420765888;\n",
    "\n",
    "# 1. using nlsolve\n",
    "c0 = nlsolve(x->shooting_err(m,x,k0),[c0],ftol=1e-16).zero;\n",
    "k,c = shooting(m,c0,k0);\n",
    "\n",
    "k"
   ]
  },
  {
   "cell_type": "code",
   "execution_count": 212,
   "metadata": {},
   "outputs": [
    {
     "data": {
      "image/png": "[encoded data removed]",
      "image/svg+xml": "<?xml version=\"1.0\" encoding=\"utf-8\"?>\n<svg xmlns=\"http://www.w3.org/2000/svg\" xmlns:xlink=\"http://www.w3.org/1999/xlink\" width=\"600\" height=\"400\" viewBox=\"0 0 2400 1600\">\n<defs>\n  <clipPath id=\"clip4100\">\n    <rect x=\"0\" y=\"0\" width=\"2400\" height=\"1600\"/>\n  </clipPath>\n</defs>\n<path clip-path=\"url(#clip4100)\" d=\"\nM0 1600 L2400 1600 L2400 0 L0 0  Z\n  \" fill=\"#ffffff\" fill-rule=\"evenodd\" fill-opacity=\"1\"/>\n<defs>\n  <clipPath id=\"clip4101\">\n    <rect x=\"480\" y=\"0\" width=\"1681\" height=\"1600\"/>\n  </clipPath>\n</defs>\n<path clip-path=\"url(#clip4100)\" d=\"\nM180.66 1487.47 L2352.76 1487.47 L2352.76 47.2441 L180.66 47.2441  Z\n  \" fill=\"#ffffff\" fill-rule=\"evenodd\" fill-opacity=\"1\"/>\n<defs>\n  <clipPath id=\"clip4102\">\n    <rect x=\"180\" y=\"47\" width=\"2173\" height=\"1441\"/>\n  </clipPath>\n</defs>\n<polyline clip-path=\"url(#clip4102)\" style=\"stroke:#000000; stroke-width:2; stroke-opacity:0.1; fill:none\" points=\"\n  200.315,1487.47 200.315,47.2441 \n  \"/>\n<polyline clip-path=\"url(#clip4102)\" style=\"stroke:#000000; stroke-width:2; stroke-opacity:0.1; fill:none\" points=\"\n  618.509,1487.47 618.509,47.2441 \n  \"/>\n<polyline clip-path=\"url(#clip4102)\" style=\"stroke:#000000; stroke-width:2; stroke-opacity:0.1; fill:none\" points=\"\n  1036.7,1487.47 1036.7,47.2441 \n  \"/>\n<polyline clip-path=\"url(#clip4102)\" style=\"stroke:#000000; stroke-width:2; stroke-opacity:0.1; fill:none\" points=\"\n  1454.9,1487.47 1454.9,47.2441 \n  \"/>\n<polyline clip-path=\"url(#clip4102)\" style=\"stroke:#000000; stroke-width:2; stroke-opacity:0.1; fill:none\" points=\"\n  1873.09,1487.47 1873.09,47.2441 \n  \"/>\n<polyline clip-path=\"url(#clip4102)\" style=\"stroke:#000000; stroke-width:2; stroke-opacity:0.1; fill:none\" points=\"\n  2291.28,1487.47 2291.28,47.2441 \n  \"/>\n<polyline clip-path=\"url(#clip4102)\" style=\"stroke:#000000; stroke-width:2; stroke-opacity:0.1; fill:none\" points=\"\n  180.66,1171.07 2352.76,1171.07 \n  \"/>\n<polyline clip-path=\"url(#clip4102)\" style=\"stroke:#000000; stroke-width:2; stroke-opacity:0.1; fill:none\" points=\"\n  180.66,831.395 2352.76,831.395 \n  \"/>\n<polyline clip-path=\"url(#clip4102)\" style=\"stroke:#000000; stroke-width:2; stroke-opacity:0.1; fill:none\" points=\"\n  180.66,491.718 2352.76,491.718 \n  \"/>\n<polyline clip-path=\"url(#clip4102)\" style=\"stroke:#000000; stroke-width:2; stroke-opacity:0.1; fill:none\" points=\"\n  180.66,152.041 2352.76,152.041 \n  \"/>\n<polyline clip-path=\"url(#clip4100)\" style=\"stroke:#000000; stroke-width:4; stroke-opacity:1; fill:none\" points=\"\n  180.66,1487.47 2352.76,1487.47 \n  \"/>\n<polyline clip-path=\"url(#clip4100)\" style=\"stroke:#000000; stroke-width:4; stroke-opacity:1; fill:none\" points=\"\n  180.66,1487.47 180.66,47.2441 \n  \"/>\n<polyline clip-path=\"url(#clip4100)\" style=\"stroke:#000000; stroke-width:4; stroke-opacity:1; fill:none\" points=\"\n  200.315,1487.47 200.315,1465.87 \n  \"/>\n<polyline clip-path=\"url(#clip4100)\" style=\"stroke:#000000; stroke-width:4; stroke-opacity:1; fill:none\" points=\"\n  618.509,1487.47 618.509,1465.87 \n  \"/>\n<polyline clip-path=\"url(#clip4100)\" style=\"stroke:#000000; stroke-width:4; stroke-opacity:1; fill:none\" points=\"\n  1036.7,1487.47 1036.7,1465.87 \n  \"/>\n<polyline clip-path=\"url(#clip4100)\" style=\"stroke:#000000; stroke-width:4; stroke-opacity:1; fill:none\" points=\"\n  1454.9,1487.47 1454.9,1465.87 \n  \"/>\n<polyline clip-path=\"url(#clip4100)\" style=\"stroke:#000000; stroke-width:4; stroke-opacity:1; fill:none\" points=\"\n  1873.09,1487.47 1873.09,1465.87 \n  \"/>\n<polyline clip-path=\"url(#clip4100)\" style=\"stroke:#000000; stroke-width:4; stroke-opacity:1; fill:none\" points=\"\n  2291.28,1487.47 2291.28,1465.87 \n  \"/>\n<polyline clip-path=\"url(#clip4100)\" style=\"stroke:#000000; stroke-width:4; stroke-opacity:1; fill:none\" points=\"\n  180.66,1171.07 213.242,1171.07 \n  \"/>\n<polyline clip-path=\"url(#clip4100)\" style=\"stroke:#000000; stroke-width:4; stroke-opacity:1; fill:none\" points=\"\n  180.66,831.395 213.242,831.395 \n  \"/>\n<polyline clip-path=\"url(#clip4100)\" style=\"stroke:#000000; stroke-width:4; stroke-opacity:1; fill:none\" points=\"\n  180.66,491.718 213.242,491.718 \n  \"/>\n<polyline clip-path=\"url(#clip4100)\" style=\"stroke:#000000; stroke-width:4; stroke-opacity:1; fill:none\" points=\"\n  180.66,152.041 213.242,152.041 \n  \"/>\n<g clip-path=\"url(#clip4100)\">\n<text style=\"fill:#000000; fill-opacity:1; font-family:Arial,Helvetica Neue,Helvetica,sans-serif; font-size:48px; text-anchor:middle;\" transform=\"rotate(0, 200.315, 1541.47)\" x=\"200.315\" y=\"1541.47\">0.0</text>\n</g>\n<g clip-path=\"url(#clip4100)\">\n<text style=\"fill:#000000; fill-opacity:1; font-family:Arial,Helvetica Neue,Helvetica,sans-serif; font-size:48px; text-anchor:middle;\" transform=\"rotate(0, 618.509, 1541.47)\" x=\"618.509\" y=\"1541.47\">0.1</text>\n</g>\n<g clip-path=\"url(#clip4100)\">\n<text style=\"fill:#000000; fill-opacity:1; font-family:Arial,Helvetica Neue,Helvetica,sans-serif; font-size:48px; text-anchor:middle;\" transform=\"rotate(0, 1036.7, 1541.47)\" x=\"1036.7\" y=\"1541.47\">0.2</text>\n</g>\n<g clip-path=\"url(#clip4100)\">\n<text style=\"fill:#000000; fill-opacity:1; font-family:Arial,Helvetica Neue,Helvetica,sans-serif; font-size:48px; text-anchor:middle;\" transform=\"rotate(0, 1454.9, 1541.47)\" x=\"1454.9\" y=\"1541.47\">0.3</text>\n</g>\n<g clip-path=\"url(#clip4100)\">\n<text style=\"fill:#000000; fill-opacity:1; font-family:Arial,Helvetica Neue,Helvetica,sans-serif; font-size:48px; text-anchor:middle;\" transform=\"rotate(0, 1873.09, 1541.47)\" x=\"1873.09\" y=\"1541.47\">0.4</text>\n</g>\n<g clip-path=\"url(#clip4100)\">\n<text style=\"fill:#000000; fill-opacity:1; font-family:Arial,Helvetica Neue,Helvetica,sans-serif; font-size:48px; text-anchor:middle;\" transform=\"rotate(0, 2291.28, 1541.47)\" x=\"2291.28\" y=\"1541.47\">0.5</text>\n</g>\n<g clip-path=\"url(#clip4100)\">\n<text style=\"fill:#000000; fill-opacity:1; font-family:Arial,Helvetica Neue,Helvetica,sans-serif; font-size:48px; text-anchor:end;\" transform=\"rotate(0, 156.66, 1188.57)\" x=\"156.66\" y=\"1188.57\">0.00</text>\n</g>\n<g clip-path=\"url(#clip4100)\">\n<text style=\"fill:#000000; fill-opacity:1; font-family:Arial,Helvetica Neue,Helvetica,sans-serif; font-size:48px; text-anchor:end;\" transform=\"rotate(0, 156.66, 848.895)\" x=\"156.66\" y=\"848.895\">0.25</text>\n</g>\n<g clip-path=\"url(#clip4100)\">\n<text style=\"fill:#000000; fill-opacity:1; font-family:Arial,Helvetica Neue,Helvetica,sans-serif; font-size:48px; text-anchor:end;\" transform=\"rotate(0, 156.66, 509.218)\" x=\"156.66\" y=\"509.218\">0.50</text>\n</g>\n<g clip-path=\"url(#clip4100)\">\n<text style=\"fill:#000000; fill-opacity:1; font-family:Arial,Helvetica Neue,Helvetica,sans-serif; font-size:48px; text-anchor:end;\" transform=\"rotate(0, 156.66, 169.541)\" x=\"156.66\" y=\"169.541\">0.75</text>\n</g>\n<polyline clip-path=\"url(#clip4102)\" style=\"stroke:#009af9; stroke-width:4; stroke-opacity:1; fill:none\" points=\"\n  242.135,88.0053 262.833,88.0053 283.532,88.0053 304.23,88.0053 324.929,88.0053 345.627,88.0053 366.325,88.0053 387.024,88.0053 407.722,88.0053 428.421,88.0053 \n  449.119,88.0053 469.818,88.0053 490.516,88.0053 511.215,88.0053 531.913,88.0053 552.612,88.0053 573.31,88.0053 594.008,88.0053 614.707,88.0053 635.405,88.0053 \n  656.104,88.0053 676.802,88.0053 697.501,88.0053 718.199,88.0053 738.898,88.0053 759.596,88.0053 780.294,88.0053 800.993,88.0053 821.691,88.0053 842.39,88.0053 \n  863.088,88.0053 883.787,88.0053 904.485,88.0053 925.184,88.0053 945.882,88.0053 966.581,88.0053 987.279,88.0053 1007.98,88.0053 1028.68,88.0053 1049.37,88.0053 \n  1070.07,88.0053 1090.77,88.0053 1111.47,88.0053 1132.17,88.0053 1152.87,88.0053 1173.57,88.0053 1194.26,88.0053 1214.96,88.0053 1235.66,1446.71 1256.36,1446.71 \n  1277.06,1446.71 1297.76,1446.71 1318.45,1446.71 1339.15,1446.71 1359.85,1446.71 1380.55,1446.71 1401.25,1446.71 1421.95,1446.71 1442.64,1446.71 1463.34,1446.71 \n  1484.04,1446.71 1504.74,1446.71 1525.44,1446.71 1546.14,1446.71 1566.84,1446.71 1587.53,1446.71 1608.23,1446.71 1628.93,1446.71 1649.63,1446.71 1670.33,1446.71 \n  1691.03,1446.71 1711.72,1446.71 1732.42,1446.71 1753.12,1446.71 1773.82,1446.71 1794.52,1446.71 1815.22,1446.71 1835.92,1446.71 1856.61,1446.71 1877.31,1446.71 \n  1898.01,1446.71 1918.71,1446.71 1939.41,1446.71 1960.11,1446.71 1980.8,1446.71 2001.5,1446.71 2022.2,1446.71 2042.9,1446.71 2063.6,1446.71 2084.3,1446.71 \n  2105,1446.71 2125.69,1446.71 2146.39,1446.71 2167.09,1446.71 2187.79,1446.71 2208.49,1446.71 2229.19,1446.71 2249.88,1446.71 2270.58,1446.71 2291.28,1446.71 \n  \n  \"/>\n<polyline clip-path=\"url(#clip4102)\" style=\"stroke:#e26f46; stroke-width:4; stroke-opacity:1; fill:none\" points=\"\n  242.135,1171.07 262.833,1171.07 283.532,1171.07 304.23,1171.07 324.929,1171.07 345.627,1171.07 366.325,1171.07 387.024,1171.07 407.722,1171.07 428.421,1171.07 \n  449.119,1171.07 469.818,1171.07 490.516,1171.07 511.215,1171.07 531.913,1171.07 552.612,1171.07 573.31,1171.07 594.008,1171.07 614.707,1171.07 635.405,1171.07 \n  656.104,1171.07 676.802,1171.07 697.501,1171.07 718.199,1171.07 738.898,1171.07 759.596,1171.07 780.294,1171.07 800.993,1171.07 821.691,1171.07 842.39,1171.07 \n  863.088,1171.07 883.787,1171.07 904.485,1171.07 925.184,1171.07 945.882,1171.07 966.581,1171.07 987.279,1171.07 1007.98,1171.07 1028.68,1171.07 1049.37,1171.07 \n  1070.07,1171.07 1090.77,1171.07 1111.47,1171.07 1132.17,1171.07 1152.87,1171.07 1173.57,1171.07 1194.26,1171.07 1214.96,1171.07 1235.66,1171.07 1256.36,1171.07 \n  1277.06,1171.07 1297.76,1171.07 1318.45,1171.07 1339.15,1171.07 1359.85,1171.07 1380.55,1171.07 1401.25,1171.07 1421.95,1171.07 1442.64,1171.07 1463.34,1171.07 \n  1484.04,1171.07 1504.74,1171.07 1525.44,1171.07 1546.14,1171.07 1566.84,1171.07 1587.53,1171.07 1608.23,1171.07 1628.93,1171.07 1649.63,1171.07 1670.33,1171.07 \n  1691.03,1171.07 1711.72,1171.07 1732.42,1171.07 1753.12,1171.07 1773.82,1171.07 1794.52,1171.07 1815.22,1171.07 1835.92,1171.07 1856.61,1171.07 1877.31,1171.07 \n  1898.01,1171.07 1918.71,1171.07 1939.41,1171.07 1960.11,1171.07 1980.8,1171.07 2001.5,1171.07 2022.2,1171.07 2042.9,1171.07 2063.6,1171.07 2084.3,1171.07 \n  2105,1171.07 2125.69,1171.07 2146.39,1171.07 2167.09,1171.07 2187.79,1171.07 2208.49,1171.07 2229.19,1171.07 2249.88,1171.07 2270.58,1171.07 2291.28,1171.07 \n  \n  \"/>\n<path clip-path=\"url(#clip4100)\" d=\"\nM1989.93 312.204 L2280.76 312.204 L2280.76 130.764 L1989.93 130.764  Z\n  \" fill=\"#ffffff\" fill-rule=\"evenodd\" fill-opacity=\"1\"/>\n<polyline clip-path=\"url(#clip4100)\" style=\"stroke:#000000; stroke-width:4; stroke-opacity:1; fill:none\" points=\"\n  1989.93,312.204 2280.76,312.204 2280.76,130.764 1989.93,130.764 1989.93,312.204 \n  \"/>\n<polyline clip-path=\"url(#clip4100)\" style=\"stroke:#009af9; stroke-width:4; stroke-opacity:1; fill:none\" points=\"\n  2013.93,191.244 2157.93,191.244 \n  \"/>\n<g clip-path=\"url(#clip4100)\">\n<text style=\"fill:#000000; fill-opacity:1; font-family:Arial,Helvetica Neue,Helvetica,sans-serif; font-size:48px; text-anchor:start;\" transform=\"rotate(0, 2181.93, 208.744)\" x=\"2181.93\" y=\"208.744\">y1</text>\n</g>\n<polyline clip-path=\"url(#clip4100)\" style=\"stroke:#e26f46; stroke-width:4; stroke-opacity:1; fill:none\" points=\"\n  2013.93,251.724 2157.93,251.724 \n  \"/>\n<g clip-path=\"url(#clip4100)\">\n<text style=\"fill:#000000; fill-opacity:1; font-family:Arial,Helvetica Neue,Helvetica,sans-serif; font-size:48px; text-anchor:start;\" transform=\"rotate(0, 2181.93, 269.224)\" x=\"2181.93\" y=\"269.224\">y2</text>\n</g>\n</svg>\n",
      "text/html": [
       "<?xml version=\"1.0\" encoding=\"utf-8\"?>\n",
       "<svg xmlns=\"http://www.w3.org/2000/svg\" xmlns:xlink=\"http://www.w3.org/1999/xlink\" width=\"600\" height=\"400\" viewBox=\"0 0 2400 1600\">\n",
       "<defs>\n",
       "  <clipPath id=\"clip4400\">\n",
       "    <rect x=\"0\" y=\"0\" width=\"2400\" height=\"1600\"/>\n",
       "  </clipPath>\n",
       "</defs>\n",
       "<path clip-path=\"url(#clip4400)\" d=\"\n",
       "M0 1600 L2400 1600 L2400 0 L0 0  Z\n",
       "  \" fill=\"#ffffff\" fill-rule=\"evenodd\" fill-opacity=\"1\"/>\n",
       "<defs>\n",
       "  <clipPath id=\"clip4401\">\n",
       "    <rect x=\"480\" y=\"0\" width=\"1681\" height=\"1600\"/>\n",
       "  </clipPath>\n",
       "</defs>\n",
       "<path clip-path=\"url(#clip4400)\" d=\"\n",
       "M180.66 1487.47 L2352.76 1487.47 L2352.76 47.2441 L180.66 47.2441  Z\n",
       "  \" fill=\"#ffffff\" fill-rule=\"evenodd\" fill-opacity=\"1\"/>\n",
       "<defs>\n",
       "  <clipPath id=\"clip4402\">\n",
       "    <rect x=\"180\" y=\"47\" width=\"2173\" height=\"1441\"/>\n",
       "  </clipPath>\n",
       "</defs>\n",
       "<polyline clip-path=\"url(#clip4402)\" style=\"stroke:#000000; stroke-width:2; stroke-opacity:0.1; fill:none\" points=\"\n",
       "  200.315,1487.47 200.315,47.2441 \n",
       "  \"/>\n",
       "<polyline clip-path=\"url(#clip4402)\" style=\"stroke:#000000; stroke-width:2; stroke-opacity:0.1; fill:none\" points=\"\n",
       "  618.509,1487.47 618.509,47.2441 \n",
       "  \"/>\n",
       "<polyline clip-path=\"url(#clip4402)\" style=\"stroke:#000000; stroke-width:2; stroke-opacity:0.1; fill:none\" points=\"\n",
       "  1036.7,1487.47 1036.7,47.2441 \n",
       "  \"/>\n",
       "<polyline clip-path=\"url(#clip4402)\" style=\"stroke:#000000; stroke-width:2; stroke-opacity:0.1; fill:none\" points=\"\n",
       "  1454.9,1487.47 1454.9,47.2441 \n",
       "  \"/>\n",
       "<polyline clip-path=\"url(#clip4402)\" style=\"stroke:#000000; stroke-width:2; stroke-opacity:0.1; fill:none\" points=\"\n",
       "  1873.09,1487.47 1873.09,47.2441 \n",
       "  \"/>\n",
       "<polyline clip-path=\"url(#clip4402)\" style=\"stroke:#000000; stroke-width:2; stroke-opacity:0.1; fill:none\" points=\"\n",
       "  2291.28,1487.47 2291.28,47.2441 \n",
       "  \"/>\n",
       "<polyline clip-path=\"url(#clip4402)\" style=\"stroke:#000000; stroke-width:2; stroke-opacity:0.1; fill:none\" points=\"\n",
       "  180.66,1171.07 2352.76,1171.07 \n",
       "  \"/>\n",
       "<polyline clip-path=\"url(#clip4402)\" style=\"stroke:#000000; stroke-width:2; stroke-opacity:0.1; fill:none\" points=\"\n",
       "  180.66,831.395 2352.76,831.395 \n",
       "  \"/>\n",
       "<polyline clip-path=\"url(#clip4402)\" style=\"stroke:#000000; stroke-width:2; stroke-opacity:0.1; fill:none\" points=\"\n",
       "  180.66,491.718 2352.76,491.718 \n",
       "  \"/>\n",
       "<polyline clip-path=\"url(#clip4402)\" style=\"stroke:#000000; stroke-width:2; stroke-opacity:0.1; fill:none\" points=\"\n",
       "  180.66,152.041 2352.76,152.041 \n",
       "  \"/>\n",
       "<polyline clip-path=\"url(#clip4400)\" style=\"stroke:#000000; stroke-width:4; stroke-opacity:1; fill:none\" points=\"\n",
       "  180.66,1487.47 2352.76,1487.47 \n",
       "  \"/>\n",
       "<polyline clip-path=\"url(#clip4400)\" style=\"stroke:#000000; stroke-width:4; stroke-opacity:1; fill:none\" points=\"\n",
       "  180.66,1487.47 180.66,47.2441 \n",
       "  \"/>\n",
       "<polyline clip-path=\"url(#clip4400)\" style=\"stroke:#000000; stroke-width:4; stroke-opacity:1; fill:none\" points=\"\n",
       "  200.315,1487.47 200.315,1465.87 \n",
       "  \"/>\n",
       "<polyline clip-path=\"url(#clip4400)\" style=\"stroke:#000000; stroke-width:4; stroke-opacity:1; fill:none\" points=\"\n",
       "  618.509,1487.47 618.509,1465.87 \n",
       "  \"/>\n",
       "<polyline clip-path=\"url(#clip4400)\" style=\"stroke:#000000; stroke-width:4; stroke-opacity:1; fill:none\" points=\"\n",
       "  1036.7,1487.47 1036.7,1465.87 \n",
       "  \"/>\n",
       "<polyline clip-path=\"url(#clip4400)\" style=\"stroke:#000000; stroke-width:4; stroke-opacity:1; fill:none\" points=\"\n",
       "  1454.9,1487.47 1454.9,1465.87 \n",
       "  \"/>\n",
       "<polyline clip-path=\"url(#clip4400)\" style=\"stroke:#000000; stroke-width:4; stroke-opacity:1; fill:none\" points=\"\n",
       "  1873.09,1487.47 1873.09,1465.87 \n",
       "  \"/>\n",
       "<polyline clip-path=\"url(#clip4400)\" style=\"stroke:#000000; stroke-width:4; stroke-opacity:1; fill:none\" points=\"\n",
       "  2291.28,1487.47 2291.28,1465.87 \n",
       "  \"/>\n",
       "<polyline clip-path=\"url(#clip4400)\" style=\"stroke:#000000; stroke-width:4; stroke-opacity:1; fill:none\" points=\"\n",
       "  180.66,1171.07 213.242,1171.07 \n",
       "  \"/>\n",
       "<polyline clip-path=\"url(#clip4400)\" style=\"stroke:#000000; stroke-width:4; stroke-opacity:1; fill:none\" points=\"\n",
       "  180.66,831.395 213.242,831.395 \n",
       "  \"/>\n",
       "<polyline clip-path=\"url(#clip4400)\" style=\"stroke:#000000; stroke-width:4; stroke-opacity:1; fill:none\" points=\"\n",
       "  180.66,491.718 213.242,491.718 \n",
       "  \"/>\n",
       "<polyline clip-path=\"url(#clip4400)\" style=\"stroke:#000000; stroke-width:4; stroke-opacity:1; fill:none\" points=\"\n",
       "  180.66,152.041 213.242,152.041 \n",
       "  \"/>\n",
       "<g clip-path=\"url(#clip4400)\">\n",
       "<text style=\"fill:#000000; fill-opacity:1; font-family:Arial,Helvetica Neue,Helvetica,sans-serif; font-size:48px; text-anchor:middle;\" transform=\"rotate(0, 200.315, 1541.47)\" x=\"200.315\" y=\"1541.47\">0.0</text>\n",
       "</g>\n",
       "<g clip-path=\"url(#clip4400)\">\n",
       "<text style=\"fill:#000000; fill-opacity:1; font-family:Arial,Helvetica Neue,Helvetica,sans-serif; font-size:48px; text-anchor:middle;\" transform=\"rotate(0, 618.509, 1541.47)\" x=\"618.509\" y=\"1541.47\">0.1</text>\n",
       "</g>\n",
       "<g clip-path=\"url(#clip4400)\">\n",
       "<text style=\"fill:#000000; fill-opacity:1; font-family:Arial,Helvetica Neue,Helvetica,sans-serif; font-size:48px; text-anchor:middle;\" transform=\"rotate(0, 1036.7, 1541.47)\" x=\"1036.7\" y=\"1541.47\">0.2</text>\n",
       "</g>\n",
       "<g clip-path=\"url(#clip4400)\">\n",
       "<text style=\"fill:#000000; fill-opacity:1; font-family:Arial,Helvetica Neue,Helvetica,sans-serif; font-size:48px; text-anchor:middle;\" transform=\"rotate(0, 1454.9, 1541.47)\" x=\"1454.9\" y=\"1541.47\">0.3</text>\n",
       "</g>\n",
       "<g clip-path=\"url(#clip4400)\">\n",
       "<text style=\"fill:#000000; fill-opacity:1; font-family:Arial,Helvetica Neue,Helvetica,sans-serif; font-size:48px; text-anchor:middle;\" transform=\"rotate(0, 1873.09, 1541.47)\" x=\"1873.09\" y=\"1541.47\">0.4</text>\n",
       "</g>\n",
       "<g clip-path=\"url(#clip4400)\">\n",
       "<text style=\"fill:#000000; fill-opacity:1; font-family:Arial,Helvetica Neue,Helvetica,sans-serif; font-size:48px; text-anchor:middle;\" transform=\"rotate(0, 2291.28, 1541.47)\" x=\"2291.28\" y=\"1541.47\">0.5</text>\n",
       "</g>\n",
       "<g clip-path=\"url(#clip4400)\">\n",
       "<text style=\"fill:#000000; fill-opacity:1; font-family:Arial,Helvetica Neue,Helvetica,sans-serif; font-size:48px; text-anchor:end;\" transform=\"rotate(0, 156.66, 1188.57)\" x=\"156.66\" y=\"1188.57\">0.00</text>\n",
       "</g>\n",
       "<g clip-path=\"url(#clip4400)\">\n",
       "<text style=\"fill:#000000; fill-opacity:1; font-family:Arial,Helvetica Neue,Helvetica,sans-serif; font-size:48px; text-anchor:end;\" transform=\"rotate(0, 156.66, 848.895)\" x=\"156.66\" y=\"848.895\">0.25</text>\n",
       "</g>\n",
       "<g clip-path=\"url(#clip4400)\">\n",
       "<text style=\"fill:#000000; fill-opacity:1; font-family:Arial,Helvetica Neue,Helvetica,sans-serif; font-size:48px; text-anchor:end;\" transform=\"rotate(0, 156.66, 509.218)\" x=\"156.66\" y=\"509.218\">0.50</text>\n",
       "</g>\n",
       "<g clip-path=\"url(#clip4400)\">\n",
       "<text style=\"fill:#000000; fill-opacity:1; font-family:Arial,Helvetica Neue,Helvetica,sans-serif; font-size:48px; text-anchor:end;\" transform=\"rotate(0, 156.66, 169.541)\" x=\"156.66\" y=\"169.541\">0.75</text>\n",
       "</g>\n",
       "<polyline clip-path=\"url(#clip4402)\" style=\"stroke:#009af9; stroke-width:4; stroke-opacity:1; fill:none\" points=\"\n",
       "  242.135,88.0053 262.833,88.0053 283.532,88.0053 304.23,88.0053 324.929,88.0053 345.627,88.0053 366.325,88.0053 387.024,88.0053 407.722,88.0053 428.421,88.0053 \n",
       "  449.119,88.0053 469.818,88.0053 490.516,88.0053 511.215,88.0053 531.913,88.0053 552.612,88.0053 573.31,88.0053 594.008,88.0053 614.707,88.0053 635.405,88.0053 \n",
       "  656.104,88.0053 676.802,88.0053 697.501,88.0053 718.199,88.0053 738.898,88.0053 759.596,88.0053 780.294,88.0053 800.993,88.0053 821.691,88.0053 842.39,88.0053 \n",
       "  863.088,88.0053 883.787,88.0053 904.485,88.0053 925.184,88.0053 945.882,88.0053 966.581,88.0053 987.279,88.0053 1007.98,88.0053 1028.68,88.0053 1049.37,88.0053 \n",
       "  1070.07,88.0053 1090.77,88.0053 1111.47,88.0053 1132.17,88.0053 1152.87,88.0053 1173.57,88.0053 1194.26,88.0053 1214.96,88.0053 1235.66,1446.71 1256.36,1446.71 \n",
       "  1277.06,1446.71 1297.76,1446.71 1318.45,1446.71 1339.15,1446.71 1359.85,1446.71 1380.55,1446.71 1401.25,1446.71 1421.95,1446.71 1442.64,1446.71 1463.34,1446.71 \n",
       "  1484.04,1446.71 1504.74,1446.71 1525.44,1446.71 1546.14,1446.71 1566.84,1446.71 1587.53,1446.71 1608.23,1446.71 1628.93,1446.71 1649.63,1446.71 1670.33,1446.71 \n",
       "  1691.03,1446.71 1711.72,1446.71 1732.42,1446.71 1753.12,1446.71 1773.82,1446.71 1794.52,1446.71 1815.22,1446.71 1835.92,1446.71 1856.61,1446.71 1877.31,1446.71 \n",
       "  1898.01,1446.71 1918.71,1446.71 1939.41,1446.71 1960.11,1446.71 1980.8,1446.71 2001.5,1446.71 2022.2,1446.71 2042.9,1446.71 2063.6,1446.71 2084.3,1446.71 \n",
       "  2105,1446.71 2125.69,1446.71 2146.39,1446.71 2167.09,1446.71 2187.79,1446.71 2208.49,1446.71 2229.19,1446.71 2249.88,1446.71 2270.58,1446.71 2291.28,1446.71 \n",
       "  \n",
       "  \"/>\n",
       "<polyline clip-path=\"url(#clip4402)\" style=\"stroke:#e26f46; stroke-width:4; stroke-opacity:1; fill:none\" points=\"\n",
       "  242.135,1171.07 262.833,1171.07 283.532,1171.07 304.23,1171.07 324.929,1171.07 345.627,1171.07 366.325,1171.07 387.024,1171.07 407.722,1171.07 428.421,1171.07 \n",
       "  449.119,1171.07 469.818,1171.07 490.516,1171.07 511.215,1171.07 531.913,1171.07 552.612,1171.07 573.31,1171.07 594.008,1171.07 614.707,1171.07 635.405,1171.07 \n",
       "  656.104,1171.07 676.802,1171.07 697.501,1171.07 718.199,1171.07 738.898,1171.07 759.596,1171.07 780.294,1171.07 800.993,1171.07 821.691,1171.07 842.39,1171.07 \n",
       "  863.088,1171.07 883.787,1171.07 904.485,1171.07 925.184,1171.07 945.882,1171.07 966.581,1171.07 987.279,1171.07 1007.98,1171.07 1028.68,1171.07 1049.37,1171.07 \n",
       "  1070.07,1171.07 1090.77,1171.07 1111.47,1171.07 1132.17,1171.07 1152.87,1171.07 1173.57,1171.07 1194.26,1171.07 1214.96,1171.07 1235.66,1171.07 1256.36,1171.07 \n",
       "  1277.06,1171.07 1297.76,1171.07 1318.45,1171.07 1339.15,1171.07 1359.85,1171.07 1380.55,1171.07 1401.25,1171.07 1421.95,1171.07 1442.64,1171.07 1463.34,1171.07 \n",
       "  1484.04,1171.07 1504.74,1171.07 1525.44,1171.07 1546.14,1171.07 1566.84,1171.07 1587.53,1171.07 1608.23,1171.07 1628.93,1171.07 1649.63,1171.07 1670.33,1171.07 \n",
       "  1691.03,1171.07 1711.72,1171.07 1732.42,1171.07 1753.12,1171.07 1773.82,1171.07 1794.52,1171.07 1815.22,1171.07 1835.92,1171.07 1856.61,1171.07 1877.31,1171.07 \n",
       "  1898.01,1171.07 1918.71,1171.07 1939.41,1171.07 1960.11,1171.07 1980.8,1171.07 2001.5,1171.07 2022.2,1171.07 2042.9,1171.07 2063.6,1171.07 2084.3,1171.07 \n",
       "  2105,1171.07 2125.69,1171.07 2146.39,1171.07 2167.09,1171.07 2187.79,1171.07 2208.49,1171.07 2229.19,1171.07 2249.88,1171.07 2270.58,1171.07 2291.28,1171.07 \n",
       "  \n",
       "  \"/>\n",
       "<path clip-path=\"url(#clip4400)\" d=\"\n",
       "M1989.93 312.204 L2280.76 312.204 L2280.76 130.764 L1989.93 130.764  Z\n",
       "  \" fill=\"#ffffff\" fill-rule=\"evenodd\" fill-opacity=\"1\"/>\n",
       "<polyline clip-path=\"url(#clip4400)\" style=\"stroke:#000000; stroke-width:4; stroke-opacity:1; fill:none\" points=\"\n",
       "  1989.93,312.204 2280.76,312.204 2280.76,130.764 1989.93,130.764 1989.93,312.204 \n",
       "  \"/>\n",
       "<polyline clip-path=\"url(#clip4400)\" style=\"stroke:#009af9; stroke-width:4; stroke-opacity:1; fill:none\" points=\"\n",
       "  2013.93,191.244 2157.93,191.244 \n",
       "  \"/>\n",
       "<g clip-path=\"url(#clip4400)\">\n",
       "<text style=\"fill:#000000; fill-opacity:1; font-family:Arial,Helvetica Neue,Helvetica,sans-serif; font-size:48px; text-anchor:start;\" transform=\"rotate(0, 2181.93, 208.744)\" x=\"2181.93\" y=\"208.744\">y1</text>\n",
       "</g>\n",
       "<polyline clip-path=\"url(#clip4400)\" style=\"stroke:#e26f46; stroke-width:4; stroke-opacity:1; fill:none\" points=\"\n",
       "  2013.93,251.724 2157.93,251.724 \n",
       "  \"/>\n",
       "<g clip-path=\"url(#clip4400)\">\n",
       "<text style=\"fill:#000000; fill-opacity:1; font-family:Arial,Helvetica Neue,Helvetica,sans-serif; font-size:48px; text-anchor:start;\" transform=\"rotate(0, 2181.93, 269.224)\" x=\"2181.93\" y=\"269.224\">y2</text>\n",
       "</g>\n",
       "</svg>\n"
      ],
      "text/plain": [
       "Plot{Plots.GRBackend() n=2}"
      ]
     },
     "metadata": {},
     "output_type": "display_data"
    }
   ],
   "source": [
    "x = collect(range(0.01,0.5,length=100));\n",
    "res = zeros(100)\n",
    "\n",
    "for i in 1:100\n",
    "    res[i] = shooting_err(m,x[i],k0)\n",
    "end\n",
    "\n",
    "plot(x,res)\n",
    "plot!(x,zeros(100))"
   ]
  },
  {
   "cell_type": "code",
   "execution_count": 213,
   "metadata": {},
   "outputs": [
    {
     "name": "stdout",
     "output_type": "stream",
     "text": [
      "[1.0, -0.20287041017208585]\n"
     ]
    },
    {
     "name": "stdout",
     "output_type": "stream",
     "text": [
      "[2.0, 0.7971295895267118]\n"
     ]
    },
    {
     "name": "stdout",
     "output_type": "stream",
     "text": [
      "[3.0, 0.797129589049874]\n"
     ]
    },
    {
     "name": "stdout",
     "output_type": "stream",
     "text": [
      "[4.0, 0.7971295861049025]\n"
     ]
    },
    {
     "name": "stdout",
     "output_type": "stream",
     "text": [
      "[5.0, -0.20287041017208585]\n"
     ]
    },
    {
     "name": "stdout",
     "output_type": "stream",
     "text": [
      "[6.0, -0.20287041017208585]\n"
     ]
    },
    {
     "name": "stdout",
     "output_type": "stream",
     "text": [
      "[7.0, 0.7971295823333182]\n"
     ]
    },
    {
     "name": "stdout",
     "output_type": "stream",
     "text": [
      "[8.0, 0.7971295738533207]\n"
     ]
    },
    {
     "name": "stdout",
     "output_type": "stream",
     "text": [
      "[9.0, 0.7971295499936976]\n"
     ]
    },
    {
     "name": "stdout",
     "output_type": "stream",
     "text": [
      "[10.0, 0.7971293774063828]\n"
     ]
    },
    {
     "name": "stdout",
     "output_type": "stream",
     "text": [
      "[11.0, -0.20287041017208585]\n"
     ]
    },
    {
     "name": "stdout",
     "output_type": "stream",
     "text": [
      "[12.0, -0.20287041017208585]\n"
     ]
    },
    {
     "name": "stdout",
     "output_type": "stream",
     "text": [
      "[13.0, 0.7971290492693374]\n"
     ]
    },
    {
     "name": "stdout",
     "output_type": "stream",
     "text": [
      "[14.0, 0.7971259130890643]\n"
     ]
    },
    {
     "name": "stdout",
     "output_type": "stream",
     "text": [
      "[15.0, -0.20287041017208585]\n"
     ]
    },
    {
     "name": "stdout",
     "output_type": "stream",
     "text": [
      "[16.0, -0.20287041017208585]\n"
     ]
    },
    {
     "name": "stdout",
     "output_type": "stream",
     "text": [
      "[17.0, 0.7971034214907737]\n"
     ]
    },
    {
     "name": "stdout",
     "output_type": "stream",
     "text": [
      "[18.0, -0.20287041017208585]\n"
     ]
    },
    {
     "name": "stdout",
     "output_type": "stream",
     "text": [
      "[19.0, -0.20287041017208585]\n"
     ]
    },
    {
     "name": "stdout",
     "output_type": "stream",
     "text": [
      "[20.0, 0.7967054997135958]\n"
     ]
    },
    {
     "name": "stdout",
     "output_type": "stream",
     "text": [
      "[21.0, -0.20287041017208585]\n"
     ]
    },
    {
     "name": "stdout",
     "output_type": "stream",
     "text": [
      "[22.0, -0.20287041017208585]\n"
     ]
    },
    {
     "name": "stdout",
     "output_type": "stream",
     "text": [
      "[23.0, -0.20287041017208585]\n"
     ]
    },
    {
     "name": "stdout",
     "output_type": "stream",
     "text": [
      "[24.0, -0.20287041017208585]\n"
     ]
    },
    {
     "name": "stdout",
     "output_type": "stream",
     "text": [
      "[25.0, 0.7960086872899835]\n"
     ]
    },
    {
     "name": "stdout",
     "output_type": "stream",
     "text": [
      "[26.0, -0.20287041017208585]\n"
     ]
    },
    {
     "name": "stdout",
     "output_type": "stream",
     "text": [
      "[27.0, 0.7950641961578607]\n"
     ]
    },
    {
     "name": "stdout",
     "output_type": "stream",
     "text": [
      "[28.0, 0.7933178841145822]\n"
     ]
    },
    {
     "name": "stdout",
     "output_type": "stream",
     "text": [
      "[29.0, 0.7900364677073926]\n"
     ]
    },
    {
     "name": "stdout",
     "output_type": "stream",
     "text": [
      "[30.0, 0.783608202772546]\n"
     ]
    },
    {
     "data": {
      "text/plain": [
       "0.2452340169809759"
      ]
     },
     "metadata": {},
     "output_type": "display_data"
    }
   ],
   "source": [
    "# 2. bisection\n",
    "cL = 0.20;\n",
    "cH = 0.30;\n",
    "maxiter = 1000\n",
    "tol = 1e-10\n",
    "dif = 1.0\n",
    "it = 1\n",
    "\n",
    "while (it < maxiter) && (dif > tol)\n",
    "\n",
    "    c0 = (cL+cH)/2;\n",
    "    k,c = shooting(m,c0,k0);\n",
    "    err = k[m.T+1] - kss;\n",
    "    println([it,err])\n",
    "    flush(stdout)\n",
    "\n",
    "    if err > 0\n",
    "        cL = copy(c0);\n",
    "    else\n",
    "        cH = copy(c0);\n",
    "    end\n",
    "\n",
    "    dif = abs(cH-cL);\n",
    "    it += 1; \n",
    "\n",
    "end\n",
    "\n",
    "c0"
   ]
  }
 ],
 "metadata": {
  "kernelspec": {
   "display_name": "Julia 1.7.2",
   "language": "julia",
   "name": "julia-1.7"
  },
  "language_info": {
   "file_extension": ".jl",
   "mimetype": "application/julia",
   "name": "julia",
   "version": "1.7.2"
  },
  "orig_nbformat": 4
 },
 "nbformat": 4,
 "nbformat_minor": 2
}
