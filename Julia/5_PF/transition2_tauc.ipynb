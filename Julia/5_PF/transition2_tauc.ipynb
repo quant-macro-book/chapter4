{
 "cells": [
  {
   "cell_type": "code",
   "execution_count": 2,
   "metadata": {},
   "outputs": [],
   "source": [
    "# 必要なパッケージを呼び出す\n",
    "using Plots\n",
    "using LaTeXStrings"
   ]
  },
  {
   "cell_type": "code",
   "execution_count": 3,
   "metadata": {},
   "outputs": [],
   "source": [
    "# MATLABではグローバル変数を使って関数への変数受け渡しを行う\n",
    "# Julia/Pythonではコンストラクタを用いる\n",
    "\n",
    "# ギリシャ文字の使用は不可とする\n",
    "struct Model{TI<:Integer, TF<:AbstractFloat}\n",
    "\n",
    "    # カリブレーション\n",
    "    alpha::TF \n",
    "    beta::TF           \n",
    "    delta::TF \n",
    "    gamma::TF\n",
    "    Abar::TF\n",
    "    gbar::TF\n",
    "\n",
    "    # 定常状態の値\n",
    "    kss::TF\n",
    "    css::TF\n",
    "    Rss::TF    \n",
    "    \n",
    "    # 移行過程に関する変数\n",
    "    T::TI\n",
    "\n",
    "end"
   ]
  },
  {
   "cell_type": "code",
   "execution_count": 4,
   "metadata": {},
   "outputs": [],
   "source": [
    "# カリブレーション\n",
    "alpha = 0.33; \n",
    "beta = 0.95;\n",
    "delta = 0.2; \n",
    "gamma = 2.0;\n",
    "Abar = 1.0;\n",
    "gbar = 0.2;\n",
    "\n",
    "# 定常状態の値\n",
    "kss = (alpha*beta*Abar/(1-beta*(1-delta)))^(1/(1-alpha));\n",
    "css = kss^alpha - delta*kss - gbar;\n",
    "Rss = 1-delta+alpha*Abar*kss^(alpha-1);\n",
    "\n",
    "# 移行過程に関する変数\n",
    "T = 100; \n",
    "\n",
    "# k の初期値\n",
    "k0 = kss; "
   ]
  },
  {
   "cell_type": "markdown",
   "metadata": {},
   "source": [
    "#### 将来の消費増税の影響 (transition2_tauc.m に対応)"
   ]
  },
  {
   "cell_type": "code",
   "execution_count": 5,
   "metadata": {},
   "outputs": [
    {
     "name": "stdout",
     "output_type": "stream",
     "text": [
      "[1.0, 0.026552395087058756]\n"
     ]
    },
    {
     "name": "stdout",
     "output_type": "stream",
     "text": [
      "[2.0, 0.02295020416861604]\n"
     ]
    },
    {
     "name": "stdout",
     "output_type": "stream",
     "text": [
      "[3.0, 0.019645817883924277]\n"
     ]
    },
    {
     "name": "stdout",
     "output_type": "stream",
     "text": [
      "[4.0, 0.01664710543663328]\n"
     ]
    },
    {
     "name": "stdout",
     "output_type": "stream",
     "text": [
      "[5.0, 0.01395399825084831]\n"
     ]
    },
    {
     "name": "stdout",
     "output_type": "stream",
     "text": [
      "[6.0, 0.011559950984300515]\n"
     ]
    },
    {
     "name": "stdout",
     "output_type": "stream",
     "text": [
      "[7.0, 0.00945329008467155]\n"
     ]
    },
    {
     "name": "stdout",
     "output_type": "stream",
     "text": [
      "[8.0, 0.00761843956183883]\n"
     ]
    },
    {
     "name": "stdout",
     "output_type": "stream",
     "text": [
      "[9.0, 0.006037016521917904]\n"
     ]
    },
    {
     "name": "stdout",
     "output_type": "stream",
     "text": [
      "[10.0, 0.004688792382248952]\n"
     ]
    },
    {
     "name": "stdout",
     "output_type": "stream",
     "text": [
      "[11.0, 0.00355251925861233]\n"
     ]
    },
    {
     "name": "stdout",
     "output_type": "stream",
     "text": [
      "[12.0, 0.0026066244737463773]\n"
     ]
    },
    {
     "name": "stdout",
     "output_type": "stream",
     "text": [
      "[13.0, 0.0018579989923481754]\n"
     ]
    },
    {
     "name": "stdout",
     "output_type": "stream",
     "text": [
      "[14.0, 0.0019439688711178071]\n"
     ]
    },
    {
     "name": "stdout",
     "output_type": "stream",
     "text": [
      "[15.0, 0.001954611886738178]\n"
     ]
    },
    {
     "name": "stdout",
     "output_type": "stream",
     "text": [
      "[16.0, 0.0019321276480097627]\n"
     ]
    },
    {
     "name": "stdout",
     "output_type": "stream",
     "text": [
      "[17.0, 0.0018818422555335612]\n"
     ]
    },
    {
     "name": "stdout",
     "output_type": "stream",
     "text": [
      "[18.0, 0.001789316979506017]\n"
     ]
    },
    {
     "name": "stdout",
     "output_type": "stream",
     "text": [
      "[19.0, 0.0016675421063980789]"
     ]
    },
    {
     "name": "stdout",
     "output_type": "stream",
     "text": [
      "\n",
      "[20.0, 0.0015434517146064586]\n"
     ]
    },
    {
     "name": "stdout",
     "output_type": "stream",
     "text": [
      "[21.0, 0.001420492099510673]\n"
     ]
    },
    {
     "name": "stdout",
     "output_type": "stream",
     "text": [
      "[22.0, 0.0012874799735846931]\n"
     ]
    },
    {
     "name": "stdout",
     "output_type": "stream",
     "text": [
      "[23.0, 0.0011506433683974304]\n"
     ]
    },
    {
     "name": "stdout",
     "output_type": "stream",
     "text": [
      "[24.0, 0.0010148100057545406]\n"
     ]
    },
    {
     "name": "stdout",
     "output_type": "stream",
     "text": [
      "[25.0, 0.0008912568424652711]\n"
     ]
    },
    {
     "name": "stdout",
     "output_type": "stream",
     "text": [
      "[26.0, 0.0007819481310211707]\n"
     ]
    },
    {
     "name": "stdout",
     "output_type": "stream",
     "text": [
      "[27.0, 0.0006778409037149213]\n"
     ]
    },
    {
     "name": "stdout",
     "output_type": "stream",
     "text": [
      "[28.0, 0.0005806323425339155]\n"
     ]
    },
    {
     "name": "stdout",
     "output_type": "stream",
     "text": [
      "[29.0, 0.0004914044807220463]\n"
     ]
    },
    {
     "name": "stdout",
     "output_type": "stream",
     "text": [
      "[30.0, 0.00041074247583772205]\n"
     ]
    },
    {
     "name": "stdout",
     "output_type": "stream",
     "text": [
      "[31.0, 0.00033883863971984063]\n"
     ]
    },
    {
     "name": "stdout",
     "output_type": "stream",
     "text": [
      "[32.0, 0.0002755826899092373]\n"
     ]
    },
    {
     "name": "stdout",
     "output_type": "stream",
     "text": [
      "[33.0, 0.00022388023559427594]\n"
     ]
    },
    {
     "name": "stdout",
     "output_type": "stream",
     "text": [
      "[34.0, 0.00018081707957229298]\n"
     ]
    },
    {
     "name": "stdout",
     "output_type": "stream",
     "text": [
      "[35.0, 0.0001437372309016638]\n"
     ]
    },
    {
     "name": "stdout",
     "output_type": "stream",
     "text": [
      "[36.0, 0.00011222145471023737]\n"
     ]
    },
    {
     "name": "stdout",
     "output_type": "stream",
     "text": [
      "[37.0, 8.578679207937867e-5]\n"
     ]
    }
   ],
   "source": [
    "m = Model(alpha,beta,delta,gamma,Abar,gbar,kss,css,Rss,T);\n",
    "\n",
    "# imaginary states\n",
    "kvec0 = collect(range(k0,m.kss,m.T));\n",
    "kvec1 = copy(kvec0);\n",
    "\n",
    "tauc = zeros(m.T);\n",
    "tauc[10:T] .= 0.2; \n",
    "\n",
    "cvec = zeros(m.T);\n",
    "kvec = zeros(m.T);\n",
    "rvec = zeros(m.T);\n",
    "Rvec = zeros(m.T);\n",
    "\n",
    "damp = 0.9;\n",
    "diff = 1e+4;\n",
    "crit = 1e-4;\n",
    "iter = 0;\n",
    "\n",
    "while diff > crit\n",
    "\n",
    "    rvec = m.alpha .* m.Abar .* kvec0.^(m.alpha-1);\n",
    "    wvec = (1-m.alpha) .* m.Abar .* kvec0.^m.alpha;\n",
    "\n",
    "    cvec[m.T] = m.css;\n",
    "    for i in m.T-1:-1:1\n",
    "        cvec[i] = (1/m.beta/(1+rvec[i+1]-m.delta)*(1+tauc[i+1])/(1+tauc[i])*(cvec[i+1]^m.gamma))^(1/m.gamma);\n",
    "    end\n",
    "\n",
    "    kvec[1] = k0;\n",
    "    for j in 1:m.T-1\n",
    "        kvec[j+1] = rvec[j]*kvec0[j] + wvec[j] + (1-m.delta)*kvec[j] - m.gbar - cvec[j]; # k1,k2,...,kT\n",
    "    end\n",
    "\n",
    "    # update\n",
    "    kvec1 = damp*kvec0 + (1-damp)*kvec;\n",
    "\n",
    "    diff = maximum(abs.(kvec1-kvec0));\n",
    "    kvec0 = copy(kvec1);\n",
    "    iter += 1;\n",
    "\n",
    "    # use the terminal condition as the criterion\n",
    "    println([iter, diff])\n",
    "    flush(stdout)\n",
    "\n",
    "end\n",
    "\n",
    "for t in 1:m.T-1\n",
    "    Rvec[t] = ((1+tauc[t])/(1+tauc[t+1])) * (1-m.delta + m.alpha*m.Abar*kvec[t+1]^(m.alpha-1));\n",
    "end"
   ]
  },
  {
   "cell_type": "code",
   "execution_count": 7,
   "metadata": {},
   "outputs": [
    {
     "data": {
      "image/png": "[encoded data removed]",
      "image/svg+xml": "<?xml version=\"1.0\" encoding=\"utf-8\"?>\n<svg xmlns=\"http://www.w3.org/2000/svg\" xmlns:xlink=\"http://www.w3.org/1999/xlink\" width=\"600\" height=\"400\" viewBox=\"0 0 2400 1600\">\n<defs>\n  <clipPath id=\"clip3500\">\n    <rect x=\"0\" y=\"0\" width=\"2400\" height=\"1600\"/>\n  </clipPath>\n</defs>\n<path clip-path=\"url(#clip3500)\" d=\"\nM0 1600 L2400 1600 L2400 0 L0 0  Z\n  \" fill=\"#ffffff\" fill-rule=\"evenodd\" fill-opacity=\"1\"/>\n<defs>\n  <clipPath id=\"clip3501\">\n    <rect x=\"480\" y=\"0\" width=\"1681\" height=\"1600\"/>\n  </clipPath>\n</defs>\n<path clip-path=\"url(#clip3500)\" d=\"\nM180.66 1487.47 L552.756 1487.47 L552.756 113.292 L180.66 113.292  Z\n  \" fill=\"#ffffff\" fill-rule=\"evenodd\" fill-opacity=\"1\"/>\n<defs>\n  <clipPath id=\"clip3502\">\n    <rect x=\"180\" y=\"113\" width=\"373\" height=\"1375\"/>\n  </clipPath>\n</defs>\n<polyline clip-path=\"url(#clip3502)\" style=\"stroke:#000000; stroke-width:2; stroke-opacity:0.1; fill:none\" points=\"\n  266.529,1487.47 266.529,113.292 \n  \"/>\n<polyline clip-path=\"url(#clip3502)\" style=\"stroke:#000000; stroke-width:2; stroke-opacity:0.1; fill:none\" points=\"\n  361.938,1487.47 361.938,113.292 \n  \"/>\n<polyline clip-path=\"url(#clip3502)\" style=\"stroke:#000000; stroke-width:2; stroke-opacity:0.1; fill:none\" points=\"\n  457.347,1487.47 457.347,113.292 \n  \"/>\n<polyline clip-path=\"url(#clip3502)\" style=\"stroke:#000000; stroke-width:2; stroke-opacity:0.1; fill:none\" points=\"\n  552.756,1487.47 552.756,113.292 \n  \"/>\n<polyline clip-path=\"url(#clip3502)\" style=\"stroke:#000000; stroke-width:2; stroke-opacity:0.1; fill:none\" points=\"\n  180.66,1029.41 552.756,1029.41 \n  \"/>\n<polyline clip-path=\"url(#clip3502)\" style=\"stroke:#000000; stroke-width:2; stroke-opacity:0.1; fill:none\" points=\"\n  180.66,1029.41 552.756,1029.41 \n  \"/>\n<polyline clip-path=\"url(#clip3502)\" style=\"stroke:#000000; stroke-width:2; stroke-opacity:0.1; fill:none\" points=\"\n  180.66,571.353 552.756,571.353 \n  \"/>\n<polyline clip-path=\"url(#clip3502)\" style=\"stroke:#000000; stroke-width:2; stroke-opacity:0.1; fill:none\" points=\"\n  180.66,113.292 552.756,113.292 \n  \"/>\n<polyline clip-path=\"url(#clip3500)\" style=\"stroke:#000000; stroke-width:4; stroke-opacity:1; fill:none\" points=\"\n  180.66,1487.47 552.756,1487.47 \n  \"/>\n<polyline clip-path=\"url(#clip3500)\" style=\"stroke:#000000; stroke-width:4; stroke-opacity:1; fill:none\" points=\"\n  180.66,1487.47 180.66,113.292 \n  \"/>\n<polyline clip-path=\"url(#clip3500)\" style=\"stroke:#000000; stroke-width:4; stroke-opacity:1; fill:none\" points=\"\n  266.529,1487.47 266.529,1466.86 \n  \"/>\n<polyline clip-path=\"url(#clip3500)\" style=\"stroke:#000000; stroke-width:4; stroke-opacity:1; fill:none\" points=\"\n  361.938,1487.47 361.938,1466.86 \n  \"/>\n<polyline clip-path=\"url(#clip3500)\" style=\"stroke:#000000; stroke-width:4; stroke-opacity:1; fill:none\" points=\"\n  457.347,1487.47 457.347,1466.86 \n  \"/>\n<polyline clip-path=\"url(#clip3500)\" style=\"stroke:#000000; stroke-width:4; stroke-opacity:1; fill:none\" points=\"\n  552.756,1487.47 552.756,1466.86 \n  \"/>\n<polyline clip-path=\"url(#clip3500)\" style=\"stroke:#000000; stroke-width:4; stroke-opacity:1; fill:none\" points=\"\n  180.66,1029.41 186.242,1029.41 \n  \"/>\n<polyline clip-path=\"url(#clip3500)\" style=\"stroke:#000000; stroke-width:4; stroke-opacity:1; fill:none\" points=\"\n  180.66,1029.41 186.242,1029.41 \n  \"/>\n<polyline clip-path=\"url(#clip3500)\" style=\"stroke:#000000; stroke-width:4; stroke-opacity:1; fill:none\" points=\"\n  180.66,571.353 186.242,571.353 \n  \"/>\n<polyline clip-path=\"url(#clip3500)\" style=\"stroke:#000000; stroke-width:4; stroke-opacity:1; fill:none\" points=\"\n  180.66,113.292 186.242,113.292 \n  \"/>\n<g clip-path=\"url(#clip3500)\">\n<text style=\"fill:#000000; fill-opacity:1; font-family:Arial,Helvetica Neue,Helvetica,sans-serif; font-size:48px; text-anchor:middle;\" transform=\"rotate(0, 266.529, 1541.47)\" x=\"266.529\" y=\"1541.47\">10</text>\n</g>\n<g clip-path=\"url(#clip3500)\">\n<text style=\"fill:#000000; fill-opacity:1; font-family:Arial,Helvetica Neue,Helvetica,sans-serif; font-size:48px; text-anchor:middle;\" transform=\"rotate(0, 361.938, 1541.47)\" x=\"361.938\" y=\"1541.47\">20</text>\n</g>\n<g clip-path=\"url(#clip3500)\">\n<text style=\"fill:#000000; fill-opacity:1; font-family:Arial,Helvetica Neue,Helvetica,sans-serif; font-size:48px; text-anchor:middle;\" transform=\"rotate(0, 457.347, 1541.47)\" x=\"457.347\" y=\"1541.47\">30</text>\n</g>\n<g clip-path=\"url(#clip3500)\">\n<text style=\"fill:#000000; fill-opacity:1; font-family:Arial,Helvetica Neue,Helvetica,sans-serif; font-size:48px; text-anchor:middle;\" transform=\"rotate(0, 552.756, 1541.47)\" x=\"552.756\" y=\"1541.47\">40</text>\n</g>\n<g clip-path=\"url(#clip3500)\">\n<text style=\"fill:#000000; fill-opacity:1; font-family:Arial,Helvetica Neue,Helvetica,sans-serif; font-size:48px; text-anchor:end;\" transform=\"rotate(0, 156.66, 1046.91)\" x=\"156.66\" y=\"1046.91\">1.40</text>\n</g>\n<g clip-path=\"url(#clip3500)\">\n<text style=\"fill:#000000; fill-opacity:1; font-family:Arial,Helvetica Neue,Helvetica,sans-serif; font-size:48px; text-anchor:end;\" transform=\"rotate(0, 156.66, 1046.91)\" x=\"156.66\" y=\"1046.91\">1.40</text>\n</g>\n<g clip-path=\"url(#clip3500)\">\n<text style=\"fill:#000000; fill-opacity:1; font-family:Arial,Helvetica Neue,Helvetica,sans-serif; font-size:48px; text-anchor:end;\" transform=\"rotate(0, 156.66, 588.853)\" x=\"156.66\" y=\"588.853\">1.45</text>\n</g>\n<g clip-path=\"url(#clip3500)\">\n<text style=\"fill:#000000; fill-opacity:1; font-family:Arial,Helvetica Neue,Helvetica,sans-serif; font-size:48px; text-anchor:end;\" transform=\"rotate(0, 156.66, 130.792)\" x=\"156.66\" y=\"130.792\">1.50</text>\n</g>\n<g clip-path=\"url(#clip3500)\">\n<text style=\"fill:#000000; fill-opacity:1; font-family:Arial,Helvetica Neue,Helvetica,sans-serif; font-size:71px; text-anchor:middle;\" transform=\"rotate(0, 366.708, 62.4)\" x=\"366.708\" y=\"62.4\">k</text>\n</g>\n<polyline clip-path=\"url(#clip3502)\" style=\"stroke:#009af9; stroke-width:8; stroke-opacity:1; fill:none\" points=\"\n  180.66,205.303 190.201,281.216 199.742,362.61 209.283,453.237 218.824,557.506 228.365,680.672 237.906,829.069 247.447,1010.4 256.988,1234.16 266.529,1512.15 \n  276.069,1323.12 285.61,1160.87 295.151,1021.78 304.692,902.649 314.233,800.702 323.774,713.519 333.315,639.003 342.856,575.345 352.397,520.984 361.938,474.577 \n  371.479,434.972 381.019,401.179 390.56,372.351 400.101,347.762 409.642,326.79 419.183,308.906 428.724,293.655 438.265,280.651 447.806,269.562 457.347,260.108 \n  466.888,252.046 476.429,245.172 485.97,239.31 495.51,234.312 505.051,230.05 514.592,226.415 524.133,223.315 533.674,220.671 543.215,218.416 552.756,216.493 \n  562.297,214.852 571.838,213.452 581.379,212.258 590.92,211.239 600.46,210.37 610.001,209.628 619.542,208.995 629.083,208.455 638.624,207.994 648.165,207.6 \n  657.706,207.264 667.247,206.977 676.788,206.733 686.329,206.524 695.87,206.345 705.411,206.193 714.951,206.063 724.492,205.952 734.033,205.857 743.574,205.776 \n  753.115,205.707 762.656,205.648 772.197,205.597 781.738,205.554 791.279,205.517 800.82,205.486 810.361,205.459 819.901,205.436 829.442,205.417 838.983,205.4 \n  848.524,205.386 858.065,205.374 867.606,205.363 877.147,205.354 886.688,205.347 896.229,205.34 905.77,205.335 915.311,205.33 924.851,205.326 934.392,205.323 \n  943.933,205.32 953.474,205.317 963.015,205.315 972.556,205.313 982.097,205.312 991.638,205.31 1001.18,205.309 1010.72,205.308 1020.26,205.307 1029.8,205.307 \n  1039.34,205.306 1048.88,205.306 1058.42,205.305 1067.97,205.305 1077.51,205.305 1087.05,205.305 1096.59,205.304 1106.13,205.304 1115.67,205.304 1125.21,205.304 \n  \n  \"/>\n<path clip-path=\"url(#clip3500)\" d=\"\nM780.66 1487.47 L1152.76 1487.47 L1152.76 113.292 L780.66 113.292  Z\n  \" fill=\"#ffffff\" fill-rule=\"evenodd\" fill-opacity=\"1\"/>\n<defs>\n  <clipPath id=\"clip3503\">\n    <rect x=\"780\" y=\"113\" width=\"373\" height=\"1375\"/>\n  </clipPath>\n</defs>\n<polyline clip-path=\"url(#clip3503)\" style=\"stroke:#000000; stroke-width:2; stroke-opacity:0.1; fill:none\" points=\"\n  866.529,1487.47 866.529,113.292 \n  \"/>\n<polyline clip-path=\"url(#clip3503)\" style=\"stroke:#000000; stroke-width:2; stroke-opacity:0.1; fill:none\" points=\"\n  961.938,1487.47 961.938,113.292 \n  \"/>\n<polyline clip-path=\"url(#clip3503)\" style=\"stroke:#000000; stroke-width:2; stroke-opacity:0.1; fill:none\" points=\"\n  1057.35,1487.47 1057.35,113.292 \n  \"/>\n<polyline clip-path=\"url(#clip3503)\" style=\"stroke:#000000; stroke-width:2; stroke-opacity:0.1; fill:none\" points=\"\n  1152.76,1487.47 1152.76,113.292 \n  \"/>\n<polyline clip-path=\"url(#clip3503)\" style=\"stroke:#000000; stroke-width:2; stroke-opacity:0.1; fill:none\" points=\"\n  780.66,1487.47 1152.76,1487.47 \n  \"/>\n<polyline clip-path=\"url(#clip3503)\" style=\"stroke:#000000; stroke-width:2; stroke-opacity:0.1; fill:none\" points=\"\n  780.66,1258.44 1152.76,1258.44 \n  \"/>\n<polyline clip-path=\"url(#clip3503)\" style=\"stroke:#000000; stroke-width:2; stroke-opacity:0.1; fill:none\" points=\"\n  780.66,1029.41 1152.76,1029.41 \n  \"/>\n<polyline clip-path=\"url(#clip3503)\" style=\"stroke:#000000; stroke-width:2; stroke-opacity:0.1; fill:none\" points=\"\n  780.66,800.383 1152.76,800.383 \n  \"/>\n<polyline clip-path=\"url(#clip3503)\" style=\"stroke:#000000; stroke-width:2; stroke-opacity:0.1; fill:none\" points=\"\n  780.66,571.353 1152.76,571.353 \n  \"/>\n<polyline clip-path=\"url(#clip3503)\" style=\"stroke:#000000; stroke-width:2; stroke-opacity:0.1; fill:none\" points=\"\n  780.66,342.322 1152.76,342.322 \n  \"/>\n<polyline clip-path=\"url(#clip3503)\" style=\"stroke:#000000; stroke-width:2; stroke-opacity:0.1; fill:none\" points=\"\n  780.66,113.292 1152.76,113.292 \n  \"/>\n<polyline clip-path=\"url(#clip3500)\" style=\"stroke:#000000; stroke-width:4; stroke-opacity:1; fill:none\" points=\"\n  780.66,1487.47 1152.76,1487.47 \n  \"/>\n<polyline clip-path=\"url(#clip3500)\" style=\"stroke:#000000; stroke-width:4; stroke-opacity:1; fill:none\" points=\"\n  780.66,1487.47 780.66,113.292 \n  \"/>\n<polyline clip-path=\"url(#clip3500)\" style=\"stroke:#000000; stroke-width:4; stroke-opacity:1; fill:none\" points=\"\n  866.529,1487.47 866.529,1466.86 \n  \"/>\n<polyline clip-path=\"url(#clip3500)\" style=\"stroke:#000000; stroke-width:4; stroke-opacity:1; fill:none\" points=\"\n  961.938,1487.47 961.938,1466.86 \n  \"/>\n<polyline clip-path=\"url(#clip3500)\" style=\"stroke:#000000; stroke-width:4; stroke-opacity:1; fill:none\" points=\"\n  1057.35,1487.47 1057.35,1466.86 \n  \"/>\n<polyline clip-path=\"url(#clip3500)\" style=\"stroke:#000000; stroke-width:4; stroke-opacity:1; fill:none\" points=\"\n  1152.76,1487.47 1152.76,1466.86 \n  \"/>\n<polyline clip-path=\"url(#clip3500)\" style=\"stroke:#000000; stroke-width:4; stroke-opacity:1; fill:none\" points=\"\n  780.66,1487.47 786.242,1487.47 \n  \"/>\n<polyline clip-path=\"url(#clip3500)\" style=\"stroke:#000000; stroke-width:4; stroke-opacity:1; fill:none\" points=\"\n  780.66,1258.44 786.242,1258.44 \n  \"/>\n<polyline clip-path=\"url(#clip3500)\" style=\"stroke:#000000; stroke-width:4; stroke-opacity:1; fill:none\" points=\"\n  780.66,1029.41 786.242,1029.41 \n  \"/>\n<polyline clip-path=\"url(#clip3500)\" style=\"stroke:#000000; stroke-width:4; stroke-opacity:1; fill:none\" points=\"\n  780.66,800.383 786.242,800.383 \n  \"/>\n<polyline clip-path=\"url(#clip3500)\" style=\"stroke:#000000; stroke-width:4; stroke-opacity:1; fill:none\" points=\"\n  780.66,571.353 786.242,571.353 \n  \"/>\n<polyline clip-path=\"url(#clip3500)\" style=\"stroke:#000000; stroke-width:4; stroke-opacity:1; fill:none\" points=\"\n  780.66,342.322 786.242,342.322 \n  \"/>\n<polyline clip-path=\"url(#clip3500)\" style=\"stroke:#000000; stroke-width:4; stroke-opacity:1; fill:none\" points=\"\n  780.66,113.292 786.242,113.292 \n  \"/>\n<g clip-path=\"url(#clip3500)\">\n<text style=\"fill:#000000; fill-opacity:1; font-family:Arial,Helvetica Neue,Helvetica,sans-serif; font-size:48px; text-anchor:middle;\" transform=\"rotate(0, 866.529, 1541.47)\" x=\"866.529\" y=\"1541.47\">10</text>\n</g>\n<g clip-path=\"url(#clip3500)\">\n<text style=\"fill:#000000; fill-opacity:1; font-family:Arial,Helvetica Neue,Helvetica,sans-serif; font-size:48px; text-anchor:middle;\" transform=\"rotate(0, 961.938, 1541.47)\" x=\"961.938\" y=\"1541.47\">20</text>\n</g>\n<g clip-path=\"url(#clip3500)\">\n<text style=\"fill:#000000; fill-opacity:1; font-family:Arial,Helvetica Neue,Helvetica,sans-serif; font-size:48px; text-anchor:middle;\" transform=\"rotate(0, 1057.35, 1541.47)\" x=\"1057.35\" y=\"1541.47\">30</text>\n</g>\n<g clip-path=\"url(#clip3500)\">\n<text style=\"fill:#000000; fill-opacity:1; font-family:Arial,Helvetica Neue,Helvetica,sans-serif; font-size:48px; text-anchor:middle;\" transform=\"rotate(0, 1152.76, 1541.47)\" x=\"1152.76\" y=\"1541.47\">40</text>\n</g>\n<g clip-path=\"url(#clip3500)\">\n<text style=\"fill:#000000; fill-opacity:1; font-family:Arial,Helvetica Neue,Helvetica,sans-serif; font-size:48px; text-anchor:end;\" transform=\"rotate(0, 756.66, 1504.97)\" x=\"756.66\" y=\"1504.97\">0.61</text>\n</g>\n<g clip-path=\"url(#clip3500)\">\n<text style=\"fill:#000000; fill-opacity:1; font-family:Arial,Helvetica Neue,Helvetica,sans-serif; font-size:48px; text-anchor:end;\" transform=\"rotate(0, 756.66, 1275.94)\" x=\"756.66\" y=\"1275.94\">0.62</text>\n</g>\n<g clip-path=\"url(#clip3500)\">\n<text style=\"fill:#000000; fill-opacity:1; font-family:Arial,Helvetica Neue,Helvetica,sans-serif; font-size:48px; text-anchor:end;\" transform=\"rotate(0, 756.66, 1046.91)\" x=\"756.66\" y=\"1046.91\">0.63</text>\n</g>\n<g clip-path=\"url(#clip3500)\">\n<text style=\"fill:#000000; fill-opacity:1; font-family:Arial,Helvetica Neue,Helvetica,sans-serif; font-size:48px; text-anchor:end;\" transform=\"rotate(0, 756.66, 817.883)\" x=\"756.66\" y=\"817.883\">0.64</text>\n</g>\n<g clip-path=\"url(#clip3500)\">\n<text style=\"fill:#000000; fill-opacity:1; font-family:Arial,Helvetica Neue,Helvetica,sans-serif; font-size:48px; text-anchor:end;\" transform=\"rotate(0, 756.66, 588.853)\" x=\"756.66\" y=\"588.853\">0.65</text>\n</g>\n<g clip-path=\"url(#clip3500)\">\n<text style=\"fill:#000000; fill-opacity:1; font-family:Arial,Helvetica Neue,Helvetica,sans-serif; font-size:48px; text-anchor:end;\" transform=\"rotate(0, 756.66, 359.822)\" x=\"756.66\" y=\"359.822\">0.66</text>\n</g>\n<g clip-path=\"url(#clip3500)\">\n<text style=\"fill:#000000; fill-opacity:1; font-family:Arial,Helvetica Neue,Helvetica,sans-serif; font-size:48px; text-anchor:end;\" transform=\"rotate(0, 756.66, 130.792)\" x=\"756.66\" y=\"130.792\">0.67</text>\n</g>\n<g clip-path=\"url(#clip3500)\">\n<text style=\"fill:#000000; fill-opacity:1; font-family:Arial,Helvetica Neue,Helvetica,sans-serif; font-size:71px; text-anchor:middle;\" transform=\"rotate(0, 966.708, 62.4)\" x=\"966.708\" y=\"62.4\">c</text>\n</g>\n<polyline clip-path=\"url(#clip3503)\" style=\"stroke:#009af9; stroke-width:8; stroke-opacity:1; fill:none\" points=\"\n  780.66,550.016 790.201,543.697 799.742,530.312 809.283,508.753 818.824,477.474 828.365,434.406 837.906,376.815 847.447,301.112 856.988,202.579 866.529,1415.29 \n  876.069,1315.91 885.61,1231.15 895.151,1158.87 904.692,1097.21 914.233,1044.63 923.774,999.783 933.315,961.534 942.856,928.912 952.397,901.088 961.938,877.357 \n  971.479,857.117 981.019,839.854 990.56,825.13 1000.1,812.572 1009.64,801.86 1019.18,792.724 1028.72,784.932 1038.26,778.286 1047.81,772.618 1057.35,767.783 \n  1066.89,763.66 1076.43,760.143 1085.97,757.144 1095.51,754.586 1105.05,752.405 1114.59,750.545 1124.13,748.959 1133.67,747.606 1143.21,746.453 1152.76,745.47 \n  1162.3,744.631 1171.84,743.917 1181.38,743.307 1190.92,742.788 1200.46,742.345 1210,741.968 1219.54,741.646 1229.08,741.372 1238.62,741.139 1248.17,740.94 \n  1257.71,740.77 1267.25,740.626 1276.79,740.503 1286.33,740.398 1295.87,740.309 1305.41,740.233 1314.95,740.168 1324.49,740.113 1334.03,740.066 1343.57,740.026 \n  1353.12,739.992 1362.66,739.963 1372.2,739.939 1381.74,739.918 1391.28,739.9 1400.82,739.885 1410.36,739.872 1419.9,739.861 1429.44,739.852 1438.98,739.844 \n  1448.52,739.837 1458.07,739.831 1467.61,739.826 1477.15,739.822 1486.69,739.819 1496.23,739.816 1505.77,739.813 1515.31,739.811 1524.85,739.809 1534.39,739.808 \n  1543.93,739.806 1553.47,739.805 1563.02,739.804 1572.56,739.803 1582.1,739.803 1591.64,739.802 1601.18,739.802 1610.72,739.801 1620.26,739.801 1629.8,739.801 \n  1639.34,739.8 1648.88,739.8 1658.42,739.8 1667.97,739.8 1677.51,739.8 1687.05,739.799 1696.59,739.799 1706.13,739.799 1715.67,739.799 1725.21,739.799 \n  \n  \"/>\n<path clip-path=\"url(#clip3500)\" d=\"\nM1380.66 1487.47 L1752.76 1487.47 L1752.76 113.292 L1380.66 113.292  Z\n  \" fill=\"#ffffff\" fill-rule=\"evenodd\" fill-opacity=\"1\"/>\n<defs>\n  <clipPath id=\"clip3504\">\n    <rect x=\"1380\" y=\"113\" width=\"373\" height=\"1375\"/>\n  </clipPath>\n</defs>\n<polyline clip-path=\"url(#clip3504)\" style=\"stroke:#000000; stroke-width:2; stroke-opacity:0.1; fill:none\" points=\"\n  1466.53,1487.47 1466.53,113.292 \n  \"/>\n<polyline clip-path=\"url(#clip3504)\" style=\"stroke:#000000; stroke-width:2; stroke-opacity:0.1; fill:none\" points=\"\n  1561.94,1487.47 1561.94,113.292 \n  \"/>\n<polyline clip-path=\"url(#clip3504)\" style=\"stroke:#000000; stroke-width:2; stroke-opacity:0.1; fill:none\" points=\"\n  1657.35,1487.47 1657.35,113.292 \n  \"/>\n<polyline clip-path=\"url(#clip3504)\" style=\"stroke:#000000; stroke-width:2; stroke-opacity:0.1; fill:none\" points=\"\n  1752.76,1487.47 1752.76,113.292 \n  \"/>\n<polyline clip-path=\"url(#clip3504)\" style=\"stroke:#000000; stroke-width:2; stroke-opacity:0.1; fill:none\" points=\"\n  1380.66,1487.47 1752.76,1487.47 \n  \"/>\n<polyline clip-path=\"url(#clip3504)\" style=\"stroke:#000000; stroke-width:2; stroke-opacity:0.1; fill:none\" points=\"\n  1380.66,1212.64 1752.76,1212.64 \n  \"/>\n<polyline clip-path=\"url(#clip3504)\" style=\"stroke:#000000; stroke-width:2; stroke-opacity:0.1; fill:none\" points=\"\n  1380.66,937.802 1752.76,937.802 \n  \"/>\n<polyline clip-path=\"url(#clip3504)\" style=\"stroke:#000000; stroke-width:2; stroke-opacity:0.1; fill:none\" points=\"\n  1380.66,662.965 1752.76,662.965 \n  \"/>\n<polyline clip-path=\"url(#clip3504)\" style=\"stroke:#000000; stroke-width:2; stroke-opacity:0.1; fill:none\" points=\"\n  1380.66,388.128 1752.76,388.128 \n  \"/>\n<polyline clip-path=\"url(#clip3504)\" style=\"stroke:#000000; stroke-width:2; stroke-opacity:0.1; fill:none\" points=\"\n  1380.66,113.292 1752.76,113.292 \n  \"/>\n<polyline clip-path=\"url(#clip3500)\" style=\"stroke:#000000; stroke-width:4; stroke-opacity:1; fill:none\" points=\"\n  1380.66,1487.47 1752.76,1487.47 \n  \"/>\n<polyline clip-path=\"url(#clip3500)\" style=\"stroke:#000000; stroke-width:4; stroke-opacity:1; fill:none\" points=\"\n  1380.66,1487.47 1380.66,113.292 \n  \"/>\n<polyline clip-path=\"url(#clip3500)\" style=\"stroke:#000000; stroke-width:4; stroke-opacity:1; fill:none\" points=\"\n  1466.53,1487.47 1466.53,1466.86 \n  \"/>\n<polyline clip-path=\"url(#clip3500)\" style=\"stroke:#000000; stroke-width:4; stroke-opacity:1; fill:none\" points=\"\n  1561.94,1487.47 1561.94,1466.86 \n  \"/>\n<polyline clip-path=\"url(#clip3500)\" style=\"stroke:#000000; stroke-width:4; stroke-opacity:1; fill:none\" points=\"\n  1657.35,1487.47 1657.35,1466.86 \n  \"/>\n<polyline clip-path=\"url(#clip3500)\" style=\"stroke:#000000; stroke-width:4; stroke-opacity:1; fill:none\" points=\"\n  1752.76,1487.47 1752.76,1466.86 \n  \"/>\n<polyline clip-path=\"url(#clip3500)\" style=\"stroke:#000000; stroke-width:4; stroke-opacity:1; fill:none\" points=\"\n  1380.66,1487.47 1386.24,1487.47 \n  \"/>\n<polyline clip-path=\"url(#clip3500)\" style=\"stroke:#000000; stroke-width:4; stroke-opacity:1; fill:none\" points=\"\n  1380.66,1212.64 1386.24,1212.64 \n  \"/>\n<polyline clip-path=\"url(#clip3500)\" style=\"stroke:#000000; stroke-width:4; stroke-opacity:1; fill:none\" points=\"\n  1380.66,937.802 1386.24,937.802 \n  \"/>\n<polyline clip-path=\"url(#clip3500)\" style=\"stroke:#000000; stroke-width:4; stroke-opacity:1; fill:none\" points=\"\n  1380.66,662.965 1386.24,662.965 \n  \"/>\n<polyline clip-path=\"url(#clip3500)\" style=\"stroke:#000000; stroke-width:4; stroke-opacity:1; fill:none\" points=\"\n  1380.66,388.128 1386.24,388.128 \n  \"/>\n<polyline clip-path=\"url(#clip3500)\" style=\"stroke:#000000; stroke-width:4; stroke-opacity:1; fill:none\" points=\"\n  1380.66,113.292 1386.24,113.292 \n  \"/>\n<g clip-path=\"url(#clip3500)\">\n<text style=\"fill:#000000; fill-opacity:1; font-family:Arial,Helvetica Neue,Helvetica,sans-serif; font-size:48px; text-anchor:middle;\" transform=\"rotate(0, 1466.53, 1541.47)\" x=\"1466.53\" y=\"1541.47\">10</text>\n</g>\n<g clip-path=\"url(#clip3500)\">\n<text style=\"fill:#000000; fill-opacity:1; font-family:Arial,Helvetica Neue,Helvetica,sans-serif; font-size:48px; text-anchor:middle;\" transform=\"rotate(0, 1561.94, 1541.47)\" x=\"1561.94\" y=\"1541.47\">20</text>\n</g>\n<g clip-path=\"url(#clip3500)\">\n<text style=\"fill:#000000; fill-opacity:1; font-family:Arial,Helvetica Neue,Helvetica,sans-serif; font-size:48px; text-anchor:middle;\" transform=\"rotate(0, 1657.35, 1541.47)\" x=\"1657.35\" y=\"1541.47\">30</text>\n</g>\n<g clip-path=\"url(#clip3500)\">\n<text style=\"fill:#000000; fill-opacity:1; font-family:Arial,Helvetica Neue,Helvetica,sans-serif; font-size:48px; text-anchor:middle;\" transform=\"rotate(0, 1752.76, 1541.47)\" x=\"1752.76\" y=\"1541.47\">40</text>\n</g>\n<g clip-path=\"url(#clip3500)\">\n<text style=\"fill:#000000; fill-opacity:1; font-family:Arial,Helvetica Neue,Helvetica,sans-serif; font-size:48px; text-anchor:end;\" transform=\"rotate(0, 1356.66, 1504.97)\" x=\"1356.66\" y=\"1504.97\">0.85</text>\n</g>\n<g clip-path=\"url(#clip3500)\">\n<text style=\"fill:#000000; fill-opacity:1; font-family:Arial,Helvetica Neue,Helvetica,sans-serif; font-size:48px; text-anchor:end;\" transform=\"rotate(0, 1356.66, 1230.14)\" x=\"1356.66\" y=\"1230.14\">0.90</text>\n</g>\n<g clip-path=\"url(#clip3500)\">\n<text style=\"fill:#000000; fill-opacity:1; font-family:Arial,Helvetica Neue,Helvetica,sans-serif; font-size:48px; text-anchor:end;\" transform=\"rotate(0, 1356.66, 955.302)\" x=\"1356.66\" y=\"955.302\">0.95</text>\n</g>\n<g clip-path=\"url(#clip3500)\">\n<text style=\"fill:#000000; fill-opacity:1; font-family:Arial,Helvetica Neue,Helvetica,sans-serif; font-size:48px; text-anchor:end;\" transform=\"rotate(0, 1356.66, 680.465)\" x=\"1356.66\" y=\"680.465\">1.00</text>\n</g>\n<g clip-path=\"url(#clip3500)\">\n<text style=\"fill:#000000; fill-opacity:1; font-family:Arial,Helvetica Neue,Helvetica,sans-serif; font-size:48px; text-anchor:end;\" transform=\"rotate(0, 1356.66, 405.628)\" x=\"1356.66\" y=\"405.628\">1.05</text>\n</g>\n<g clip-path=\"url(#clip3500)\">\n<text style=\"fill:#000000; fill-opacity:1; font-family:Arial,Helvetica Neue,Helvetica,sans-serif; font-size:48px; text-anchor:end;\" transform=\"rotate(0, 1356.66, 130.792)\" x=\"1356.66\" y=\"130.792\">1.10</text>\n</g>\n<g clip-path=\"url(#clip3500)\">\n<text style=\"fill:#000000; fill-opacity:1; font-family:Arial,Helvetica Neue,Helvetica,sans-serif; font-size:71px; text-anchor:middle;\" transform=\"rotate(0, 1566.71, 62.4)\" x=\"1566.71\" y=\"62.4\">R</text>\n</g>\n<polyline clip-path=\"url(#clip3504)\" style=\"stroke:#009af9; stroke-width:8; stroke-opacity:1; fill:none\" points=\"\n  1380.66,368.465 1390.2,362.837 1399.74,356.503 1409.28,349.127 1418.82,340.289 1428.36,329.455 1437.91,315.934 1447.45,298.803 1456.99,1257.28 1466.53,291.851 \n  1476.07,304.469 1485.61,315.075 1495.15,324.007 1504.69,331.542 1514.23,337.909 1523.77,343.294 1533.31,347.856 1542.86,351.722 1552.4,355.001 1561.94,357.785 \n  1571.48,360.15 1581.02,362.159 1590.56,363.868 1600.1,365.321 1609.64,366.557 1619.18,367.608 1628.72,368.504 1638.26,369.266 1647.81,369.915 1657.35,370.468 \n  1666.89,370.939 1676.43,371.34 1685.97,371.682 1695.51,371.974 1705.05,372.222 1714.59,372.434 1724.13,372.615 1733.67,372.769 1743.21,372.9 1752.76,373.012 \n  1762.3,373.108 1771.84,373.189 1781.38,373.259 1790.92,373.318 1800.46,373.368 1810,373.412 1819.54,373.448 1829.08,373.48 1838.62,373.507 1848.17,373.53 \n  1857.71,373.549 1867.25,373.566 1876.79,373.58 1886.33,373.592 1895.87,373.603 1905.41,373.612 1914.95,373.619 1924.49,373.626 1934.03,373.631 1943.57,373.636 \n  1953.12,373.64 1962.66,373.643 1972.2,373.646 1981.74,373.649 1991.28,373.651 2000.82,373.653 2010.36,373.654 2019.9,373.656 2029.44,373.657 2038.98,373.658 \n  2048.52,373.659 2058.07,373.659 2067.61,373.66 2077.15,373.66 2086.69,373.661 2096.23,373.661 2105.77,373.661 2115.31,373.662 2124.85,373.662 2134.39,373.662 \n  2143.93,373.662 2153.47,373.662 2163.02,373.663 2172.56,373.663 2182.1,373.663 2191.64,373.663 2201.18,373.663 2210.72,373.663 2220.26,373.663 2229.8,373.663 \n  2239.34,373.663 2248.88,373.663 2258.42,373.663 2267.97,373.663 2277.51,373.663 2287.05,373.663 2296.59,373.663 2306.13,373.663 2315.67,373.663 2325.21,6159.7 \n  \n  \"/>\n<path clip-path=\"url(#clip3500)\" d=\"\nM1980.66 1487.47 L2352.76 1487.47 L2352.76 113.292 L1980.66 113.292  Z\n  \" fill=\"#ffffff\" fill-rule=\"evenodd\" fill-opacity=\"1\"/>\n<defs>\n  <clipPath id=\"clip3505\">\n    <rect x=\"1980\" y=\"113\" width=\"373\" height=\"1375\"/>\n  </clipPath>\n</defs>\n<polyline clip-path=\"url(#clip3505)\" style=\"stroke:#000000; stroke-width:2; stroke-opacity:0.1; fill:none\" points=\"\n  2066.53,1487.47 2066.53,113.292 \n  \"/>\n<polyline clip-path=\"url(#clip3505)\" style=\"stroke:#000000; stroke-width:2; stroke-opacity:0.1; fill:none\" points=\"\n  2161.94,1487.47 2161.94,113.292 \n  \"/>\n<polyline clip-path=\"url(#clip3505)\" style=\"stroke:#000000; stroke-width:2; stroke-opacity:0.1; fill:none\" points=\"\n  2257.35,1487.47 2257.35,113.292 \n  \"/>\n<polyline clip-path=\"url(#clip3505)\" style=\"stroke:#000000; stroke-width:2; stroke-opacity:0.1; fill:none\" points=\"\n  2352.76,1487.47 2352.76,113.292 \n  \"/>\n<polyline clip-path=\"url(#clip3505)\" style=\"stroke:#000000; stroke-width:2; stroke-opacity:0.1; fill:none\" points=\"\n  1980.66,1487.47 2352.76,1487.47 \n  \"/>\n<polyline clip-path=\"url(#clip3505)\" style=\"stroke:#000000; stroke-width:2; stroke-opacity:0.1; fill:none\" points=\"\n  1980.66,1143.93 2352.76,1143.93 \n  \"/>\n<polyline clip-path=\"url(#clip3505)\" style=\"stroke:#000000; stroke-width:2; stroke-opacity:0.1; fill:none\" points=\"\n  1980.66,800.383 2352.76,800.383 \n  \"/>\n<polyline clip-path=\"url(#clip3505)\" style=\"stroke:#000000; stroke-width:2; stroke-opacity:0.1; fill:none\" points=\"\n  1980.66,456.838 2352.76,456.838 \n  \"/>\n<polyline clip-path=\"url(#clip3505)\" style=\"stroke:#000000; stroke-width:2; stroke-opacity:0.1; fill:none\" points=\"\n  1980.66,113.292 2352.76,113.292 \n  \"/>\n<polyline clip-path=\"url(#clip3500)\" style=\"stroke:#000000; stroke-width:4; stroke-opacity:1; fill:none\" points=\"\n  1980.66,1487.47 2352.76,1487.47 \n  \"/>\n<polyline clip-path=\"url(#clip3500)\" style=\"stroke:#000000; stroke-width:4; stroke-opacity:1; fill:none\" points=\"\n  1980.66,1487.47 1980.66,113.292 \n  \"/>\n<polyline clip-path=\"url(#clip3500)\" style=\"stroke:#000000; stroke-width:4; stroke-opacity:1; fill:none\" points=\"\n  2066.53,1487.47 2066.53,1466.86 \n  \"/>\n<polyline clip-path=\"url(#clip3500)\" style=\"stroke:#000000; stroke-width:4; stroke-opacity:1; fill:none\" points=\"\n  2161.94,1487.47 2161.94,1466.86 \n  \"/>\n<polyline clip-path=\"url(#clip3500)\" style=\"stroke:#000000; stroke-width:4; stroke-opacity:1; fill:none\" points=\"\n  2257.35,1487.47 2257.35,1466.86 \n  \"/>\n<polyline clip-path=\"url(#clip3500)\" style=\"stroke:#000000; stroke-width:4; stroke-opacity:1; fill:none\" points=\"\n  2352.76,1487.47 2352.76,1466.86 \n  \"/>\n<polyline clip-path=\"url(#clip3500)\" style=\"stroke:#000000; stroke-width:4; stroke-opacity:1; fill:none\" points=\"\n  1980.66,1487.47 1986.24,1487.47 \n  \"/>\n<polyline clip-path=\"url(#clip3500)\" style=\"stroke:#000000; stroke-width:4; stroke-opacity:1; fill:none\" points=\"\n  1980.66,1143.93 1986.24,1143.93 \n  \"/>\n<polyline clip-path=\"url(#clip3500)\" style=\"stroke:#000000; stroke-width:4; stroke-opacity:1; fill:none\" points=\"\n  1980.66,800.383 1986.24,800.383 \n  \"/>\n<polyline clip-path=\"url(#clip3500)\" style=\"stroke:#000000; stroke-width:4; stroke-opacity:1; fill:none\" points=\"\n  1980.66,456.838 1986.24,456.838 \n  \"/>\n<polyline clip-path=\"url(#clip3500)\" style=\"stroke:#000000; stroke-width:4; stroke-opacity:1; fill:none\" points=\"\n  1980.66,113.292 1986.24,113.292 \n  \"/>\n<g clip-path=\"url(#clip3500)\">\n<text style=\"fill:#000000; fill-opacity:1; font-family:Arial,Helvetica Neue,Helvetica,sans-serif; font-size:48px; text-anchor:middle;\" transform=\"rotate(0, 2066.53, 1541.47)\" x=\"2066.53\" y=\"1541.47\">10</text>\n</g>\n<g clip-path=\"url(#clip3500)\">\n<text style=\"fill:#000000; fill-opacity:1; font-family:Arial,Helvetica Neue,Helvetica,sans-serif; font-size:48px; text-anchor:middle;\" transform=\"rotate(0, 2161.94, 1541.47)\" x=\"2161.94\" y=\"1541.47\">20</text>\n</g>\n<g clip-path=\"url(#clip3500)\">\n<text style=\"fill:#000000; fill-opacity:1; font-family:Arial,Helvetica Neue,Helvetica,sans-serif; font-size:48px; text-anchor:middle;\" transform=\"rotate(0, 2257.35, 1541.47)\" x=\"2257.35\" y=\"1541.47\">30</text>\n</g>\n<g clip-path=\"url(#clip3500)\">\n<text style=\"fill:#000000; fill-opacity:1; font-family:Arial,Helvetica Neue,Helvetica,sans-serif; font-size:48px; text-anchor:middle;\" transform=\"rotate(0, 2352.76, 1541.47)\" x=\"2352.76\" y=\"1541.47\">40</text>\n</g>\n<g clip-path=\"url(#clip3500)\">\n<text style=\"fill:#000000; fill-opacity:1; font-family:Arial,Helvetica Neue,Helvetica,sans-serif; font-size:48px; text-anchor:end;\" transform=\"rotate(0, 1956.66, 1504.97)\" x=\"1956.66\" y=\"1504.97\">0.00</text>\n</g>\n<g clip-path=\"url(#clip3500)\">\n<text style=\"fill:#000000; fill-opacity:1; font-family:Arial,Helvetica Neue,Helvetica,sans-serif; font-size:48px; text-anchor:end;\" transform=\"rotate(0, 1956.66, 1161.43)\" x=\"1956.66\" y=\"1161.43\">0.05</text>\n</g>\n<g clip-path=\"url(#clip3500)\">\n<text style=\"fill:#000000; fill-opacity:1; font-family:Arial,Helvetica Neue,Helvetica,sans-serif; font-size:48px; text-anchor:end;\" transform=\"rotate(0, 1956.66, 817.883)\" x=\"1956.66\" y=\"817.883\">0.10</text>\n</g>\n<g clip-path=\"url(#clip3500)\">\n<text style=\"fill:#000000; fill-opacity:1; font-family:Arial,Helvetica Neue,Helvetica,sans-serif; font-size:48px; text-anchor:end;\" transform=\"rotate(0, 1956.66, 474.338)\" x=\"1956.66\" y=\"474.338\">0.15</text>\n</g>\n<g clip-path=\"url(#clip3500)\">\n<text style=\"fill:#000000; fill-opacity:1; font-family:Arial,Helvetica Neue,Helvetica,sans-serif; font-size:48px; text-anchor:end;\" transform=\"rotate(0, 1956.66, 130.792)\" x=\"1956.66\" y=\"130.792\">0.20</text>\n</g>\n<g clip-path=\"url(#clip3500)\">\n<image width=\"55\" height=\"41\" xlink:href=\"data:image/png;base64,\niVBORw0KGgoAAAANSUhEUgAAADcAAAApCAYAAACRB7GtAAADBUlEQVRogd1Z7W3rIBQ9feoAJCN4\nBJoRyAbMYHUCsoLVCayMQDuBs4LjCdyOQLrBfT/6jHjkCzAkUa90JUcxhgOXwz0XEBEu+TiOpJQi\nzjkBKOJVVVHTNHRtLLF+8c+6rosB8p0xdhtwxhiqqupmwAAQ57w8uHsB6/s+O7hneCaEwNfXl/0t\npYQQAkIILJdL/3UAQNM0eHt7g5QS2+325DvnbLFYPEU1iLFze0xKScaYoNmcyKYEKWQJy67rLLC2\nbYMHaYyx7UqE1mxwxhhijEUDIyK0bWvB3RvMSXBTONZ1HT1AKaU9q+4N5iQ4zKBid4/eG4zvzwDQ\n9z2qqoomo91uR9PzarVKZ7VC9gwALy8vSXT88fFhnznnmYaUz57+hVaSLRYL+v7+BgAQUbnzKtH+\npDbc7/cWWEpI38KSwWmt7fMjhiQwA5y73x6RTIBEcJ+fn+Tmn79q5dxVAx535ZIOR1eV3zIz0VqT\nlJI45zZdZIwR55yapjlK9KM7cBNl3CgzUUod9amUorZtSSlFQgj7n9bajie6IzdRRmGZo7W2KwSA\nlFJnZdg4jlZkd11HSeDcWXI/lNtdbckYuyqn3PeFEGngXGAAggXtnAm8BswP20kERHXqCtppRkuu\nWGhk+DWfSbrN6jg3mfj7eQqv2JUexzEenLu5c5OJWw0IDUd/YvzjILjzvu+PSnI5ycSPitBVu+TB\nL/qbNjeZ+N+OreXMAuffFeQkE611kYkLzi0n7TZZXdehTa+aK5+An0Q8S7E2dBa6riPGGDHGkqpk\nMVGR6/tH5fRztl6vnw6Hw+zJPGWufALySahksVrScpUtHgKcf8Hyq8AJIf777ZNXrG02GzocDvlI\nYY77OauryVLJqeu6+wOb3E1+U3JWY4y9t09KnEu6n95NyW+Iu6JWKWXb3R2U664qCBGoWmu7Woyx\no3CeVU4vYbvdjl5fX+3ZJ4QA59wy6DAM6PsewzAA+GHWuq6x2WyOMpqHAzfZ+/s7aa0xDIMFyhjD\ncrlEVVX2nv7SJc5fXDuKMYz47/4AAAAASUVORK5CYII=\n\" transform=\"translate(2139, -1)\"/>\n</g>\n<polyline clip-path=\"url(#clip3505)\" style=\"stroke:#ff0000; stroke-width:8; stroke-opacity:1; fill:none\" points=\"\n  1980.66,1487.47 1990.2,1487.47 1999.74,1487.47 2009.28,1487.47 2018.82,1487.47 2028.36,1487.47 2037.91,1487.47 2047.45,1487.47 2056.99,1487.47 2066.53,113.292 \n  2076.07,113.292 2085.61,113.292 2095.15,113.292 2104.69,113.292 2114.23,113.292 2123.77,113.292 2133.31,113.292 2142.86,113.292 2152.4,113.292 2161.94,113.292 \n  2171.48,113.292 2181.02,113.292 2190.56,113.292 2200.1,113.292 2209.64,113.292 2219.18,113.292 2228.72,113.292 2238.26,113.292 2247.81,113.292 2257.35,113.292 \n  2266.89,113.292 2276.43,113.292 2285.97,113.292 2295.51,113.292 2305.05,113.292 2314.59,113.292 2324.13,113.292 2333.67,113.292 2343.21,113.292 2352.76,113.292 \n  2362.3,113.292 2371.84,113.292 2381.38,113.292 2390.92,113.292 2400.46,113.292 2410,113.292 2419.54,113.292 2429.08,113.292 2438.62,113.292 2448.17,113.292 \n  2457.71,113.292 2467.25,113.292 2476.79,113.292 2486.33,113.292 2495.87,113.292 2505.41,113.292 2514.95,113.292 2524.49,113.292 2534.03,113.292 2543.57,113.292 \n  2553.12,113.292 2562.66,113.292 2572.2,113.292 2581.74,113.292 2591.28,113.292 2600.82,113.292 2610.36,113.292 2619.9,113.292 2629.44,113.292 2638.98,113.292 \n  2648.52,113.292 2658.07,113.292 2667.61,113.292 2677.15,113.292 2686.69,113.292 2696.23,113.292 2705.77,113.292 2715.31,113.292 2724.85,113.292 2734.39,113.292 \n  2743.93,113.292 2753.47,113.292 2763.02,113.292 2772.56,113.292 2782.1,113.292 2791.64,113.292 2801.18,113.292 2810.72,113.292 2820.26,113.292 2829.8,113.292 \n  2839.34,113.292 2848.88,113.292 2858.42,113.292 2867.97,113.292 2877.51,113.292 2887.05,113.292 2896.59,113.292 2906.13,113.292 2915.67,113.292 2925.21,113.292 \n  \n  \"/>\n</svg>\n",
      "text/html": [
       "<?xml version=\"1.0\" encoding=\"utf-8\"?>\n",
       "<svg xmlns=\"http://www.w3.org/2000/svg\" xmlns:xlink=\"http://www.w3.org/1999/xlink\" width=\"600\" height=\"400\" viewBox=\"0 0 2400 1600\">\n",
       "<defs>\n",
       "  <clipPath id=\"clip3800\">\n",
       "    <rect x=\"0\" y=\"0\" width=\"2400\" height=\"1600\"/>\n",
       "  </clipPath>\n",
       "</defs>\n",
       "<path clip-path=\"url(#clip3800)\" d=\"\n",
       "M0 1600 L2400 1600 L2400 0 L0 0  Z\n",
       "  \" fill=\"#ffffff\" fill-rule=\"evenodd\" fill-opacity=\"1\"/>\n",
       "<defs>\n",
       "  <clipPath id=\"clip3801\">\n",
       "    <rect x=\"480\" y=\"0\" width=\"1681\" height=\"1600\"/>\n",
       "  </clipPath>\n",
       "</defs>\n",
       "<path clip-path=\"url(#clip3800)\" d=\"\n",
       "M180.66 1487.47 L552.756 1487.47 L552.756 113.292 L180.66 113.292  Z\n",
       "  \" fill=\"#ffffff\" fill-rule=\"evenodd\" fill-opacity=\"1\"/>\n",
       "<defs>\n",
       "  <clipPath id=\"clip3802\">\n",
       "    <rect x=\"180\" y=\"113\" width=\"373\" height=\"1375\"/>\n",
       "  </clipPath>\n",
       "</defs>\n",
       "<polyline clip-path=\"url(#clip3802)\" style=\"stroke:#000000; stroke-width:2; stroke-opacity:0.1; fill:none\" points=\"\n",
       "  266.529,1487.47 266.529,113.292 \n",
       "  \"/>\n",
       "<polyline clip-path=\"url(#clip3802)\" style=\"stroke:#000000; stroke-width:2; stroke-opacity:0.1; fill:none\" points=\"\n",
       "  361.938,1487.47 361.938,113.292 \n",
       "  \"/>\n",
       "<polyline clip-path=\"url(#clip3802)\" style=\"stroke:#000000; stroke-width:2; stroke-opacity:0.1; fill:none\" points=\"\n",
       "  457.347,1487.47 457.347,113.292 \n",
       "  \"/>\n",
       "<polyline clip-path=\"url(#clip3802)\" style=\"stroke:#000000; stroke-width:2; stroke-opacity:0.1; fill:none\" points=\"\n",
       "  552.756,1487.47 552.756,113.292 \n",
       "  \"/>\n",
       "<polyline clip-path=\"url(#clip3802)\" style=\"stroke:#000000; stroke-width:2; stroke-opacity:0.1; fill:none\" points=\"\n",
       "  180.66,1029.41 552.756,1029.41 \n",
       "  \"/>\n",
       "<polyline clip-path=\"url(#clip3802)\" style=\"stroke:#000000; stroke-width:2; stroke-opacity:0.1; fill:none\" points=\"\n",
       "  180.66,1029.41 552.756,1029.41 \n",
       "  \"/>\n",
       "<polyline clip-path=\"url(#clip3802)\" style=\"stroke:#000000; stroke-width:2; stroke-opacity:0.1; fill:none\" points=\"\n",
       "  180.66,571.353 552.756,571.353 \n",
       "  \"/>\n",
       "<polyline clip-path=\"url(#clip3802)\" style=\"stroke:#000000; stroke-width:2; stroke-opacity:0.1; fill:none\" points=\"\n",
       "  180.66,113.292 552.756,113.292 \n",
       "  \"/>\n",
       "<polyline clip-path=\"url(#clip3800)\" style=\"stroke:#000000; stroke-width:4; stroke-opacity:1; fill:none\" points=\"\n",
       "  180.66,1487.47 552.756,1487.47 \n",
       "  \"/>\n",
       "<polyline clip-path=\"url(#clip3800)\" style=\"stroke:#000000; stroke-width:4; stroke-opacity:1; fill:none\" points=\"\n",
       "  180.66,1487.47 180.66,113.292 \n",
       "  \"/>\n",
       "<polyline clip-path=\"url(#clip3800)\" style=\"stroke:#000000; stroke-width:4; stroke-opacity:1; fill:none\" points=\"\n",
       "  266.529,1487.47 266.529,1466.86 \n",
       "  \"/>\n",
       "<polyline clip-path=\"url(#clip3800)\" style=\"stroke:#000000; stroke-width:4; stroke-opacity:1; fill:none\" points=\"\n",
       "  361.938,1487.47 361.938,1466.86 \n",
       "  \"/>\n",
       "<polyline clip-path=\"url(#clip3800)\" style=\"stroke:#000000; stroke-width:4; stroke-opacity:1; fill:none\" points=\"\n",
       "  457.347,1487.47 457.347,1466.86 \n",
       "  \"/>\n",
       "<polyline clip-path=\"url(#clip3800)\" style=\"stroke:#000000; stroke-width:4; stroke-opacity:1; fill:none\" points=\"\n",
       "  552.756,1487.47 552.756,1466.86 \n",
       "  \"/>\n",
       "<polyline clip-path=\"url(#clip3800)\" style=\"stroke:#000000; stroke-width:4; stroke-opacity:1; fill:none\" points=\"\n",
       "  180.66,1029.41 186.242,1029.41 \n",
       "  \"/>\n",
       "<polyline clip-path=\"url(#clip3800)\" style=\"stroke:#000000; stroke-width:4; stroke-opacity:1; fill:none\" points=\"\n",
       "  180.66,1029.41 186.242,1029.41 \n",
       "  \"/>\n",
       "<polyline clip-path=\"url(#clip3800)\" style=\"stroke:#000000; stroke-width:4; stroke-opacity:1; fill:none\" points=\"\n",
       "  180.66,571.353 186.242,571.353 \n",
       "  \"/>\n",
       "<polyline clip-path=\"url(#clip3800)\" style=\"stroke:#000000; stroke-width:4; stroke-opacity:1; fill:none\" points=\"\n",
       "  180.66,113.292 186.242,113.292 \n",
       "  \"/>\n",
       "<g clip-path=\"url(#clip3800)\">\n",
       "<text style=\"fill:#000000; fill-opacity:1; font-family:Arial,Helvetica Neue,Helvetica,sans-serif; font-size:48px; text-anchor:middle;\" transform=\"rotate(0, 266.529, 1541.47)\" x=\"266.529\" y=\"1541.47\">10</text>\n",
       "</g>\n",
       "<g clip-path=\"url(#clip3800)\">\n",
       "<text style=\"fill:#000000; fill-opacity:1; font-family:Arial,Helvetica Neue,Helvetica,sans-serif; font-size:48px; text-anchor:middle;\" transform=\"rotate(0, 361.938, 1541.47)\" x=\"361.938\" y=\"1541.47\">20</text>\n",
       "</g>\n",
       "<g clip-path=\"url(#clip3800)\">\n",
       "<text style=\"fill:#000000; fill-opacity:1; font-family:Arial,Helvetica Neue,Helvetica,sans-serif; font-size:48px; text-anchor:middle;\" transform=\"rotate(0, 457.347, 1541.47)\" x=\"457.347\" y=\"1541.47\">30</text>\n",
       "</g>\n",
       "<g clip-path=\"url(#clip3800)\">\n",
       "<text style=\"fill:#000000; fill-opacity:1; font-family:Arial,Helvetica Neue,Helvetica,sans-serif; font-size:48px; text-anchor:middle;\" transform=\"rotate(0, 552.756, 1541.47)\" x=\"552.756\" y=\"1541.47\">40</text>\n",
       "</g>\n",
       "<g clip-path=\"url(#clip3800)\">\n",
       "<text style=\"fill:#000000; fill-opacity:1; font-family:Arial,Helvetica Neue,Helvetica,sans-serif; font-size:48px; text-anchor:end;\" transform=\"rotate(0, 156.66, 1046.91)\" x=\"156.66\" y=\"1046.91\">1.40</text>\n",
       "</g>\n",
       "<g clip-path=\"url(#clip3800)\">\n",
       "<text style=\"fill:#000000; fill-opacity:1; font-family:Arial,Helvetica Neue,Helvetica,sans-serif; font-size:48px; text-anchor:end;\" transform=\"rotate(0, 156.66, 1046.91)\" x=\"156.66\" y=\"1046.91\">1.40</text>\n",
       "</g>\n",
       "<g clip-path=\"url(#clip3800)\">\n",
       "<text style=\"fill:#000000; fill-opacity:1; font-family:Arial,Helvetica Neue,Helvetica,sans-serif; font-size:48px; text-anchor:end;\" transform=\"rotate(0, 156.66, 588.853)\" x=\"156.66\" y=\"588.853\">1.45</text>\n",
       "</g>\n",
       "<g clip-path=\"url(#clip3800)\">\n",
       "<text style=\"fill:#000000; fill-opacity:1; font-family:Arial,Helvetica Neue,Helvetica,sans-serif; font-size:48px; text-anchor:end;\" transform=\"rotate(0, 156.66, 130.792)\" x=\"156.66\" y=\"130.792\">1.50</text>\n",
       "</g>\n",
       "<g clip-path=\"url(#clip3800)\">\n",
       "<text style=\"fill:#000000; fill-opacity:1; font-family:Arial,Helvetica Neue,Helvetica,sans-serif; font-size:71px; text-anchor:middle;\" transform=\"rotate(0, 366.708, 62.4)\" x=\"366.708\" y=\"62.4\">k</text>\n",
       "</g>\n",
       "<polyline clip-path=\"url(#clip3802)\" style=\"stroke:#009af9; stroke-width:8; stroke-opacity:1; fill:none\" points=\"\n",
       "  180.66,205.303 190.201,281.216 199.742,362.61 209.283,453.237 218.824,557.506 228.365,680.672 237.906,829.069 247.447,1010.4 256.988,1234.16 266.529,1512.15 \n",
       "  276.069,1323.12 285.61,1160.87 295.151,1021.78 304.692,902.649 314.233,800.702 323.774,713.519 333.315,639.003 342.856,575.345 352.397,520.984 361.938,474.577 \n",
       "  371.479,434.972 381.019,401.179 390.56,372.351 400.101,347.762 409.642,326.79 419.183,308.906 428.724,293.655 438.265,280.651 447.806,269.562 457.347,260.108 \n",
       "  466.888,252.046 476.429,245.172 485.97,239.31 495.51,234.312 505.051,230.05 514.592,226.415 524.133,223.315 533.674,220.671 543.215,218.416 552.756,216.493 \n",
       "  562.297,214.852 571.838,213.452 581.379,212.258 590.92,211.239 600.46,210.37 610.001,209.628 619.542,208.995 629.083,208.455 638.624,207.994 648.165,207.6 \n",
       "  657.706,207.264 667.247,206.977 676.788,206.733 686.329,206.524 695.87,206.345 705.411,206.193 714.951,206.063 724.492,205.952 734.033,205.857 743.574,205.776 \n",
       "  753.115,205.707 762.656,205.648 772.197,205.597 781.738,205.554 791.279,205.517 800.82,205.486 810.361,205.459 819.901,205.436 829.442,205.417 838.983,205.4 \n",
       "  848.524,205.386 858.065,205.374 867.606,205.363 877.147,205.354 886.688,205.347 896.229,205.34 905.77,205.335 915.311,205.33 924.851,205.326 934.392,205.323 \n",
       "  943.933,205.32 953.474,205.317 963.015,205.315 972.556,205.313 982.097,205.312 991.638,205.31 1001.18,205.309 1010.72,205.308 1020.26,205.307 1029.8,205.307 \n",
       "  1039.34,205.306 1048.88,205.306 1058.42,205.305 1067.97,205.305 1077.51,205.305 1087.05,205.305 1096.59,205.304 1106.13,205.304 1115.67,205.304 1125.21,205.304 \n",
       "  \n",
       "  \"/>\n",
       "<path clip-path=\"url(#clip3800)\" d=\"\n",
       "M780.66 1487.47 L1152.76 1487.47 L1152.76 113.292 L780.66 113.292  Z\n",
       "  \" fill=\"#ffffff\" fill-rule=\"evenodd\" fill-opacity=\"1\"/>\n",
       "<defs>\n",
       "  <clipPath id=\"clip3803\">\n",
       "    <rect x=\"780\" y=\"113\" width=\"373\" height=\"1375\"/>\n",
       "  </clipPath>\n",
       "</defs>\n",
       "<polyline clip-path=\"url(#clip3803)\" style=\"stroke:#000000; stroke-width:2; stroke-opacity:0.1; fill:none\" points=\"\n",
       "  866.529,1487.47 866.529,113.292 \n",
       "  \"/>\n",
       "<polyline clip-path=\"url(#clip3803)\" style=\"stroke:#000000; stroke-width:2; stroke-opacity:0.1; fill:none\" points=\"\n",
       "  961.938,1487.47 961.938,113.292 \n",
       "  \"/>\n",
       "<polyline clip-path=\"url(#clip3803)\" style=\"stroke:#000000; stroke-width:2; stroke-opacity:0.1; fill:none\" points=\"\n",
       "  1057.35,1487.47 1057.35,113.292 \n",
       "  \"/>\n",
       "<polyline clip-path=\"url(#clip3803)\" style=\"stroke:#000000; stroke-width:2; stroke-opacity:0.1; fill:none\" points=\"\n",
       "  1152.76,1487.47 1152.76,113.292 \n",
       "  \"/>\n",
       "<polyline clip-path=\"url(#clip3803)\" style=\"stroke:#000000; stroke-width:2; stroke-opacity:0.1; fill:none\" points=\"\n",
       "  780.66,1487.47 1152.76,1487.47 \n",
       "  \"/>\n",
       "<polyline clip-path=\"url(#clip3803)\" style=\"stroke:#000000; stroke-width:2; stroke-opacity:0.1; fill:none\" points=\"\n",
       "  780.66,1258.44 1152.76,1258.44 \n",
       "  \"/>\n",
       "<polyline clip-path=\"url(#clip3803)\" style=\"stroke:#000000; stroke-width:2; stroke-opacity:0.1; fill:none\" points=\"\n",
       "  780.66,1029.41 1152.76,1029.41 \n",
       "  \"/>\n",
       "<polyline clip-path=\"url(#clip3803)\" style=\"stroke:#000000; stroke-width:2; stroke-opacity:0.1; fill:none\" points=\"\n",
       "  780.66,800.383 1152.76,800.383 \n",
       "  \"/>\n",
       "<polyline clip-path=\"url(#clip3803)\" style=\"stroke:#000000; stroke-width:2; stroke-opacity:0.1; fill:none\" points=\"\n",
       "  780.66,571.353 1152.76,571.353 \n",
       "  \"/>\n",
       "<polyline clip-path=\"url(#clip3803)\" style=\"stroke:#000000; stroke-width:2; stroke-opacity:0.1; fill:none\" points=\"\n",
       "  780.66,342.322 1152.76,342.322 \n",
       "  \"/>\n",
       "<polyline clip-path=\"url(#clip3803)\" style=\"stroke:#000000; stroke-width:2; stroke-opacity:0.1; fill:none\" points=\"\n",
       "  780.66,113.292 1152.76,113.292 \n",
       "  \"/>\n",
       "<polyline clip-path=\"url(#clip3800)\" style=\"stroke:#000000; stroke-width:4; stroke-opacity:1; fill:none\" points=\"\n",
       "  780.66,1487.47 1152.76,1487.47 \n",
       "  \"/>\n",
       "<polyline clip-path=\"url(#clip3800)\" style=\"stroke:#000000; stroke-width:4; stroke-opacity:1; fill:none\" points=\"\n",
       "  780.66,1487.47 780.66,113.292 \n",
       "  \"/>\n",
       "<polyline clip-path=\"url(#clip3800)\" style=\"stroke:#000000; stroke-width:4; stroke-opacity:1; fill:none\" points=\"\n",
       "  866.529,1487.47 866.529,1466.86 \n",
       "  \"/>\n",
       "<polyline clip-path=\"url(#clip3800)\" style=\"stroke:#000000; stroke-width:4; stroke-opacity:1; fill:none\" points=\"\n",
       "  961.938,1487.47 961.938,1466.86 \n",
       "  \"/>\n",
       "<polyline clip-path=\"url(#clip3800)\" style=\"stroke:#000000; stroke-width:4; stroke-opacity:1; fill:none\" points=\"\n",
       "  1057.35,1487.47 1057.35,1466.86 \n",
       "  \"/>\n",
       "<polyline clip-path=\"url(#clip3800)\" style=\"stroke:#000000; stroke-width:4; stroke-opacity:1; fill:none\" points=\"\n",
       "  1152.76,1487.47 1152.76,1466.86 \n",
       "  \"/>\n",
       "<polyline clip-path=\"url(#clip3800)\" style=\"stroke:#000000; stroke-width:4; stroke-opacity:1; fill:none\" points=\"\n",
       "  780.66,1487.47 786.242,1487.47 \n",
       "  \"/>\n",
       "<polyline clip-path=\"url(#clip3800)\" style=\"stroke:#000000; stroke-width:4; stroke-opacity:1; fill:none\" points=\"\n",
       "  780.66,1258.44 786.242,1258.44 \n",
       "  \"/>\n",
       "<polyline clip-path=\"url(#clip3800)\" style=\"stroke:#000000; stroke-width:4; stroke-opacity:1; fill:none\" points=\"\n",
       "  780.66,1029.41 786.242,1029.41 \n",
       "  \"/>\n",
       "<polyline clip-path=\"url(#clip3800)\" style=\"stroke:#000000; stroke-width:4; stroke-opacity:1; fill:none\" points=\"\n",
       "  780.66,800.383 786.242,800.383 \n",
       "  \"/>\n",
       "<polyline clip-path=\"url(#clip3800)\" style=\"stroke:#000000; stroke-width:4; stroke-opacity:1; fill:none\" points=\"\n",
       "  780.66,571.353 786.242,571.353 \n",
       "  \"/>\n",
       "<polyline clip-path=\"url(#clip3800)\" style=\"stroke:#000000; stroke-width:4; stroke-opacity:1; fill:none\" points=\"\n",
       "  780.66,342.322 786.242,342.322 \n",
       "  \"/>\n",
       "<polyline clip-path=\"url(#clip3800)\" style=\"stroke:#000000; stroke-width:4; stroke-opacity:1; fill:none\" points=\"\n",
       "  780.66,113.292 786.242,113.292 \n",
       "  \"/>\n",
       "<g clip-path=\"url(#clip3800)\">\n",
       "<text style=\"fill:#000000; fill-opacity:1; font-family:Arial,Helvetica Neue,Helvetica,sans-serif; font-size:48px; text-anchor:middle;\" transform=\"rotate(0, 866.529, 1541.47)\" x=\"866.529\" y=\"1541.47\">10</text>\n",
       "</g>\n",
       "<g clip-path=\"url(#clip3800)\">\n",
       "<text style=\"fill:#000000; fill-opacity:1; font-family:Arial,Helvetica Neue,Helvetica,sans-serif; font-size:48px; text-anchor:middle;\" transform=\"rotate(0, 961.938, 1541.47)\" x=\"961.938\" y=\"1541.47\">20</text>\n",
       "</g>\n",
       "<g clip-path=\"url(#clip3800)\">\n",
       "<text style=\"fill:#000000; fill-opacity:1; font-family:Arial,Helvetica Neue,Helvetica,sans-serif; font-size:48px; text-anchor:middle;\" transform=\"rotate(0, 1057.35, 1541.47)\" x=\"1057.35\" y=\"1541.47\">30</text>\n",
       "</g>\n",
       "<g clip-path=\"url(#clip3800)\">\n",
       "<text style=\"fill:#000000; fill-opacity:1; font-family:Arial,Helvetica Neue,Helvetica,sans-serif; font-size:48px; text-anchor:middle;\" transform=\"rotate(0, 1152.76, 1541.47)\" x=\"1152.76\" y=\"1541.47\">40</text>\n",
       "</g>\n",
       "<g clip-path=\"url(#clip3800)\">\n",
       "<text style=\"fill:#000000; fill-opacity:1; font-family:Arial,Helvetica Neue,Helvetica,sans-serif; font-size:48px; text-anchor:end;\" transform=\"rotate(0, 756.66, 1504.97)\" x=\"756.66\" y=\"1504.97\">0.61</text>\n",
       "</g>\n",
       "<g clip-path=\"url(#clip3800)\">\n",
       "<text style=\"fill:#000000; fill-opacity:1; font-family:Arial,Helvetica Neue,Helvetica,sans-serif; font-size:48px; text-anchor:end;\" transform=\"rotate(0, 756.66, 1275.94)\" x=\"756.66\" y=\"1275.94\">0.62</text>\n",
       "</g>\n",
       "<g clip-path=\"url(#clip3800)\">\n",
       "<text style=\"fill:#000000; fill-opacity:1; font-family:Arial,Helvetica Neue,Helvetica,sans-serif; font-size:48px; text-anchor:end;\" transform=\"rotate(0, 756.66, 1046.91)\" x=\"756.66\" y=\"1046.91\">0.63</text>\n",
       "</g>\n",
       "<g clip-path=\"url(#clip3800)\">\n",
       "<text style=\"fill:#000000; fill-opacity:1; font-family:Arial,Helvetica Neue,Helvetica,sans-serif; font-size:48px; text-anchor:end;\" transform=\"rotate(0, 756.66, 817.883)\" x=\"756.66\" y=\"817.883\">0.64</text>\n",
       "</g>\n",
       "<g clip-path=\"url(#clip3800)\">\n",
       "<text style=\"fill:#000000; fill-opacity:1; font-family:Arial,Helvetica Neue,Helvetica,sans-serif; font-size:48px; text-anchor:end;\" transform=\"rotate(0, 756.66, 588.853)\" x=\"756.66\" y=\"588.853\">0.65</text>\n",
       "</g>\n",
       "<g clip-path=\"url(#clip3800)\">\n",
       "<text style=\"fill:#000000; fill-opacity:1; font-family:Arial,Helvetica Neue,Helvetica,sans-serif; font-size:48px; text-anchor:end;\" transform=\"rotate(0, 756.66, 359.822)\" x=\"756.66\" y=\"359.822\">0.66</text>\n",
       "</g>\n",
       "<g clip-path=\"url(#clip3800)\">\n",
       "<text style=\"fill:#000000; fill-opacity:1; font-family:Arial,Helvetica Neue,Helvetica,sans-serif; font-size:48px; text-anchor:end;\" transform=\"rotate(0, 756.66, 130.792)\" x=\"756.66\" y=\"130.792\">0.67</text>\n",
       "</g>\n",
       "<g clip-path=\"url(#clip3800)\">\n",
       "<text style=\"fill:#000000; fill-opacity:1; font-family:Arial,Helvetica Neue,Helvetica,sans-serif; font-size:71px; text-anchor:middle;\" transform=\"rotate(0, 966.708, 62.4)\" x=\"966.708\" y=\"62.4\">c</text>\n",
       "</g>\n",
       "<polyline clip-path=\"url(#clip3803)\" style=\"stroke:#009af9; stroke-width:8; stroke-opacity:1; fill:none\" points=\"\n",
       "  780.66,550.016 790.201,543.697 799.742,530.312 809.283,508.753 818.824,477.474 828.365,434.406 837.906,376.815 847.447,301.112 856.988,202.579 866.529,1415.29 \n",
       "  876.069,1315.91 885.61,1231.15 895.151,1158.87 904.692,1097.21 914.233,1044.63 923.774,999.783 933.315,961.534 942.856,928.912 952.397,901.088 961.938,877.357 \n",
       "  971.479,857.117 981.019,839.854 990.56,825.13 1000.1,812.572 1009.64,801.86 1019.18,792.724 1028.72,784.932 1038.26,778.286 1047.81,772.618 1057.35,767.783 \n",
       "  1066.89,763.66 1076.43,760.143 1085.97,757.144 1095.51,754.586 1105.05,752.405 1114.59,750.545 1124.13,748.959 1133.67,747.606 1143.21,746.453 1152.76,745.47 \n",
       "  1162.3,744.631 1171.84,743.917 1181.38,743.307 1190.92,742.788 1200.46,742.345 1210,741.968 1219.54,741.646 1229.08,741.372 1238.62,741.139 1248.17,740.94 \n",
       "  1257.71,740.77 1267.25,740.626 1276.79,740.503 1286.33,740.398 1295.87,740.309 1305.41,740.233 1314.95,740.168 1324.49,740.113 1334.03,740.066 1343.57,740.026 \n",
       "  1353.12,739.992 1362.66,739.963 1372.2,739.939 1381.74,739.918 1391.28,739.9 1400.82,739.885 1410.36,739.872 1419.9,739.861 1429.44,739.852 1438.98,739.844 \n",
       "  1448.52,739.837 1458.07,739.831 1467.61,739.826 1477.15,739.822 1486.69,739.819 1496.23,739.816 1505.77,739.813 1515.31,739.811 1524.85,739.809 1534.39,739.808 \n",
       "  1543.93,739.806 1553.47,739.805 1563.02,739.804 1572.56,739.803 1582.1,739.803 1591.64,739.802 1601.18,739.802 1610.72,739.801 1620.26,739.801 1629.8,739.801 \n",
       "  1639.34,739.8 1648.88,739.8 1658.42,739.8 1667.97,739.8 1677.51,739.8 1687.05,739.799 1696.59,739.799 1706.13,739.799 1715.67,739.799 1725.21,739.799 \n",
       "  \n",
       "  \"/>\n",
       "<path clip-path=\"url(#clip3800)\" d=\"\n",
       "M1380.66 1487.47 L1752.76 1487.47 L1752.76 113.292 L1380.66 113.292  Z\n",
       "  \" fill=\"#ffffff\" fill-rule=\"evenodd\" fill-opacity=\"1\"/>\n",
       "<defs>\n",
       "  <clipPath id=\"clip3804\">\n",
       "    <rect x=\"1380\" y=\"113\" width=\"373\" height=\"1375\"/>\n",
       "  </clipPath>\n",
       "</defs>\n",
       "<polyline clip-path=\"url(#clip3804)\" style=\"stroke:#000000; stroke-width:2; stroke-opacity:0.1; fill:none\" points=\"\n",
       "  1466.53,1487.47 1466.53,113.292 \n",
       "  \"/>\n",
       "<polyline clip-path=\"url(#clip3804)\" style=\"stroke:#000000; stroke-width:2; stroke-opacity:0.1; fill:none\" points=\"\n",
       "  1561.94,1487.47 1561.94,113.292 \n",
       "  \"/>\n",
       "<polyline clip-path=\"url(#clip3804)\" style=\"stroke:#000000; stroke-width:2; stroke-opacity:0.1; fill:none\" points=\"\n",
       "  1657.35,1487.47 1657.35,113.292 \n",
       "  \"/>\n",
       "<polyline clip-path=\"url(#clip3804)\" style=\"stroke:#000000; stroke-width:2; stroke-opacity:0.1; fill:none\" points=\"\n",
       "  1752.76,1487.47 1752.76,113.292 \n",
       "  \"/>\n",
       "<polyline clip-path=\"url(#clip3804)\" style=\"stroke:#000000; stroke-width:2; stroke-opacity:0.1; fill:none\" points=\"\n",
       "  1380.66,1487.47 1752.76,1487.47 \n",
       "  \"/>\n",
       "<polyline clip-path=\"url(#clip3804)\" style=\"stroke:#000000; stroke-width:2; stroke-opacity:0.1; fill:none\" points=\"\n",
       "  1380.66,1212.64 1752.76,1212.64 \n",
       "  \"/>\n",
       "<polyline clip-path=\"url(#clip3804)\" style=\"stroke:#000000; stroke-width:2; stroke-opacity:0.1; fill:none\" points=\"\n",
       "  1380.66,937.802 1752.76,937.802 \n",
       "  \"/>\n",
       "<polyline clip-path=\"url(#clip3804)\" style=\"stroke:#000000; stroke-width:2; stroke-opacity:0.1; fill:none\" points=\"\n",
       "  1380.66,662.965 1752.76,662.965 \n",
       "  \"/>\n",
       "<polyline clip-path=\"url(#clip3804)\" style=\"stroke:#000000; stroke-width:2; stroke-opacity:0.1; fill:none\" points=\"\n",
       "  1380.66,388.128 1752.76,388.128 \n",
       "  \"/>\n",
       "<polyline clip-path=\"url(#clip3804)\" style=\"stroke:#000000; stroke-width:2; stroke-opacity:0.1; fill:none\" points=\"\n",
       "  1380.66,113.292 1752.76,113.292 \n",
       "  \"/>\n",
       "<polyline clip-path=\"url(#clip3800)\" style=\"stroke:#000000; stroke-width:4; stroke-opacity:1; fill:none\" points=\"\n",
       "  1380.66,1487.47 1752.76,1487.47 \n",
       "  \"/>\n",
       "<polyline clip-path=\"url(#clip3800)\" style=\"stroke:#000000; stroke-width:4; stroke-opacity:1; fill:none\" points=\"\n",
       "  1380.66,1487.47 1380.66,113.292 \n",
       "  \"/>\n",
       "<polyline clip-path=\"url(#clip3800)\" style=\"stroke:#000000; stroke-width:4; stroke-opacity:1; fill:none\" points=\"\n",
       "  1466.53,1487.47 1466.53,1466.86 \n",
       "  \"/>\n",
       "<polyline clip-path=\"url(#clip3800)\" style=\"stroke:#000000; stroke-width:4; stroke-opacity:1; fill:none\" points=\"\n",
       "  1561.94,1487.47 1561.94,1466.86 \n",
       "  \"/>\n",
       "<polyline clip-path=\"url(#clip3800)\" style=\"stroke:#000000; stroke-width:4; stroke-opacity:1; fill:none\" points=\"\n",
       "  1657.35,1487.47 1657.35,1466.86 \n",
       "  \"/>\n",
       "<polyline clip-path=\"url(#clip3800)\" style=\"stroke:#000000; stroke-width:4; stroke-opacity:1; fill:none\" points=\"\n",
       "  1752.76,1487.47 1752.76,1466.86 \n",
       "  \"/>\n",
       "<polyline clip-path=\"url(#clip3800)\" style=\"stroke:#000000; stroke-width:4; stroke-opacity:1; fill:none\" points=\"\n",
       "  1380.66,1487.47 1386.24,1487.47 \n",
       "  \"/>\n",
       "<polyline clip-path=\"url(#clip3800)\" style=\"stroke:#000000; stroke-width:4; stroke-opacity:1; fill:none\" points=\"\n",
       "  1380.66,1212.64 1386.24,1212.64 \n",
       "  \"/>\n",
       "<polyline clip-path=\"url(#clip3800)\" style=\"stroke:#000000; stroke-width:4; stroke-opacity:1; fill:none\" points=\"\n",
       "  1380.66,937.802 1386.24,937.802 \n",
       "  \"/>\n",
       "<polyline clip-path=\"url(#clip3800)\" style=\"stroke:#000000; stroke-width:4; stroke-opacity:1; fill:none\" points=\"\n",
       "  1380.66,662.965 1386.24,662.965 \n",
       "  \"/>\n",
       "<polyline clip-path=\"url(#clip3800)\" style=\"stroke:#000000; stroke-width:4; stroke-opacity:1; fill:none\" points=\"\n",
       "  1380.66,388.128 1386.24,388.128 \n",
       "  \"/>\n",
       "<polyline clip-path=\"url(#clip3800)\" style=\"stroke:#000000; stroke-width:4; stroke-opacity:1; fill:none\" points=\"\n",
       "  1380.66,113.292 1386.24,113.292 \n",
       "  \"/>\n",
       "<g clip-path=\"url(#clip3800)\">\n",
       "<text style=\"fill:#000000; fill-opacity:1; font-family:Arial,Helvetica Neue,Helvetica,sans-serif; font-size:48px; text-anchor:middle;\" transform=\"rotate(0, 1466.53, 1541.47)\" x=\"1466.53\" y=\"1541.47\">10</text>\n",
       "</g>\n",
       "<g clip-path=\"url(#clip3800)\">\n",
       "<text style=\"fill:#000000; fill-opacity:1; font-family:Arial,Helvetica Neue,Helvetica,sans-serif; font-size:48px; text-anchor:middle;\" transform=\"rotate(0, 1561.94, 1541.47)\" x=\"1561.94\" y=\"1541.47\">20</text>\n",
       "</g>\n",
       "<g clip-path=\"url(#clip3800)\">\n",
       "<text style=\"fill:#000000; fill-opacity:1; font-family:Arial,Helvetica Neue,Helvetica,sans-serif; font-size:48px; text-anchor:middle;\" transform=\"rotate(0, 1657.35, 1541.47)\" x=\"1657.35\" y=\"1541.47\">30</text>\n",
       "</g>\n",
       "<g clip-path=\"url(#clip3800)\">\n",
       "<text style=\"fill:#000000; fill-opacity:1; font-family:Arial,Helvetica Neue,Helvetica,sans-serif; font-size:48px; text-anchor:middle;\" transform=\"rotate(0, 1752.76, 1541.47)\" x=\"1752.76\" y=\"1541.47\">40</text>\n",
       "</g>\n",
       "<g clip-path=\"url(#clip3800)\">\n",
       "<text style=\"fill:#000000; fill-opacity:1; font-family:Arial,Helvetica Neue,Helvetica,sans-serif; font-size:48px; text-anchor:end;\" transform=\"rotate(0, 1356.66, 1504.97)\" x=\"1356.66\" y=\"1504.97\">0.85</text>\n",
       "</g>\n",
       "<g clip-path=\"url(#clip3800)\">\n",
       "<text style=\"fill:#000000; fill-opacity:1; font-family:Arial,Helvetica Neue,Helvetica,sans-serif; font-size:48px; text-anchor:end;\" transform=\"rotate(0, 1356.66, 1230.14)\" x=\"1356.66\" y=\"1230.14\">0.90</text>\n",
       "</g>\n",
       "<g clip-path=\"url(#clip3800)\">\n",
       "<text style=\"fill:#000000; fill-opacity:1; font-family:Arial,Helvetica Neue,Helvetica,sans-serif; font-size:48px; text-anchor:end;\" transform=\"rotate(0, 1356.66, 955.302)\" x=\"1356.66\" y=\"955.302\">0.95</text>\n",
       "</g>\n",
       "<g clip-path=\"url(#clip3800)\">\n",
       "<text style=\"fill:#000000; fill-opacity:1; font-family:Arial,Helvetica Neue,Helvetica,sans-serif; font-size:48px; text-anchor:end;\" transform=\"rotate(0, 1356.66, 680.465)\" x=\"1356.66\" y=\"680.465\">1.00</text>\n",
       "</g>\n",
       "<g clip-path=\"url(#clip3800)\">\n",
       "<text style=\"fill:#000000; fill-opacity:1; font-family:Arial,Helvetica Neue,Helvetica,sans-serif; font-size:48px; text-anchor:end;\" transform=\"rotate(0, 1356.66, 405.628)\" x=\"1356.66\" y=\"405.628\">1.05</text>\n",
       "</g>\n",
       "<g clip-path=\"url(#clip3800)\">\n",
       "<text style=\"fill:#000000; fill-opacity:1; font-family:Arial,Helvetica Neue,Helvetica,sans-serif; font-size:48px; text-anchor:end;\" transform=\"rotate(0, 1356.66, 130.792)\" x=\"1356.66\" y=\"130.792\">1.10</text>\n",
       "</g>\n",
       "<g clip-path=\"url(#clip3800)\">\n",
       "<text style=\"fill:#000000; fill-opacity:1; font-family:Arial,Helvetica Neue,Helvetica,sans-serif; font-size:71px; text-anchor:middle;\" transform=\"rotate(0, 1566.71, 62.4)\" x=\"1566.71\" y=\"62.4\">R</text>\n",
       "</g>\n",
       "<polyline clip-path=\"url(#clip3804)\" style=\"stroke:#009af9; stroke-width:8; stroke-opacity:1; fill:none\" points=\"\n",
       "  1380.66,368.465 1390.2,362.837 1399.74,356.503 1409.28,349.127 1418.82,340.289 1428.36,329.455 1437.91,315.934 1447.45,298.803 1456.99,1257.28 1466.53,291.851 \n",
       "  1476.07,304.469 1485.61,315.075 1495.15,324.007 1504.69,331.542 1514.23,337.909 1523.77,343.294 1533.31,347.856 1542.86,351.722 1552.4,355.001 1561.94,357.785 \n",
       "  1571.48,360.15 1581.02,362.159 1590.56,363.868 1600.1,365.321 1609.64,366.557 1619.18,367.608 1628.72,368.504 1638.26,369.266 1647.81,369.915 1657.35,370.468 \n",
       "  1666.89,370.939 1676.43,371.34 1685.97,371.682 1695.51,371.974 1705.05,372.222 1714.59,372.434 1724.13,372.615 1733.67,372.769 1743.21,372.9 1752.76,373.012 \n",
       "  1762.3,373.108 1771.84,373.189 1781.38,373.259 1790.92,373.318 1800.46,373.368 1810,373.412 1819.54,373.448 1829.08,373.48 1838.62,373.507 1848.17,373.53 \n",
       "  1857.71,373.549 1867.25,373.566 1876.79,373.58 1886.33,373.592 1895.87,373.603 1905.41,373.612 1914.95,373.619 1924.49,373.626 1934.03,373.631 1943.57,373.636 \n",
       "  1953.12,373.64 1962.66,373.643 1972.2,373.646 1981.74,373.649 1991.28,373.651 2000.82,373.653 2010.36,373.654 2019.9,373.656 2029.44,373.657 2038.98,373.658 \n",
       "  2048.52,373.659 2058.07,373.659 2067.61,373.66 2077.15,373.66 2086.69,373.661 2096.23,373.661 2105.77,373.661 2115.31,373.662 2124.85,373.662 2134.39,373.662 \n",
       "  2143.93,373.662 2153.47,373.662 2163.02,373.663 2172.56,373.663 2182.1,373.663 2191.64,373.663 2201.18,373.663 2210.72,373.663 2220.26,373.663 2229.8,373.663 \n",
       "  2239.34,373.663 2248.88,373.663 2258.42,373.663 2267.97,373.663 2277.51,373.663 2287.05,373.663 2296.59,373.663 2306.13,373.663 2315.67,373.663 2325.21,6159.7 \n",
       "  \n",
       "  \"/>\n",
       "<path clip-path=\"url(#clip3800)\" d=\"\n",
       "M1980.66 1487.47 L2352.76 1487.47 L2352.76 113.292 L1980.66 113.292  Z\n",
       "  \" fill=\"#ffffff\" fill-rule=\"evenodd\" fill-opacity=\"1\"/>\n",
       "<defs>\n",
       "  <clipPath id=\"clip3805\">\n",
       "    <rect x=\"1980\" y=\"113\" width=\"373\" height=\"1375\"/>\n",
       "  </clipPath>\n",
       "</defs>\n",
       "<polyline clip-path=\"url(#clip3805)\" style=\"stroke:#000000; stroke-width:2; stroke-opacity:0.1; fill:none\" points=\"\n",
       "  2066.53,1487.47 2066.53,113.292 \n",
       "  \"/>\n",
       "<polyline clip-path=\"url(#clip3805)\" style=\"stroke:#000000; stroke-width:2; stroke-opacity:0.1; fill:none\" points=\"\n",
       "  2161.94,1487.47 2161.94,113.292 \n",
       "  \"/>\n",
       "<polyline clip-path=\"url(#clip3805)\" style=\"stroke:#000000; stroke-width:2; stroke-opacity:0.1; fill:none\" points=\"\n",
       "  2257.35,1487.47 2257.35,113.292 \n",
       "  \"/>\n",
       "<polyline clip-path=\"url(#clip3805)\" style=\"stroke:#000000; stroke-width:2; stroke-opacity:0.1; fill:none\" points=\"\n",
       "  2352.76,1487.47 2352.76,113.292 \n",
       "  \"/>\n",
       "<polyline clip-path=\"url(#clip3805)\" style=\"stroke:#000000; stroke-width:2; stroke-opacity:0.1; fill:none\" points=\"\n",
       "  1980.66,1487.47 2352.76,1487.47 \n",
       "  \"/>\n",
       "<polyline clip-path=\"url(#clip3805)\" style=\"stroke:#000000; stroke-width:2; stroke-opacity:0.1; fill:none\" points=\"\n",
       "  1980.66,1143.93 2352.76,1143.93 \n",
       "  \"/>\n",
       "<polyline clip-path=\"url(#clip3805)\" style=\"stroke:#000000; stroke-width:2; stroke-opacity:0.1; fill:none\" points=\"\n",
       "  1980.66,800.383 2352.76,800.383 \n",
       "  \"/>\n",
       "<polyline clip-path=\"url(#clip3805)\" style=\"stroke:#000000; stroke-width:2; stroke-opacity:0.1; fill:none\" points=\"\n",
       "  1980.66,456.838 2352.76,456.838 \n",
       "  \"/>\n",
       "<polyline clip-path=\"url(#clip3805)\" style=\"stroke:#000000; stroke-width:2; stroke-opacity:0.1; fill:none\" points=\"\n",
       "  1980.66,113.292 2352.76,113.292 \n",
       "  \"/>\n",
       "<polyline clip-path=\"url(#clip3800)\" style=\"stroke:#000000; stroke-width:4; stroke-opacity:1; fill:none\" points=\"\n",
       "  1980.66,1487.47 2352.76,1487.47 \n",
       "  \"/>\n",
       "<polyline clip-path=\"url(#clip3800)\" style=\"stroke:#000000; stroke-width:4; stroke-opacity:1; fill:none\" points=\"\n",
       "  1980.66,1487.47 1980.66,113.292 \n",
       "  \"/>\n",
       "<polyline clip-path=\"url(#clip3800)\" style=\"stroke:#000000; stroke-width:4; stroke-opacity:1; fill:none\" points=\"\n",
       "  2066.53,1487.47 2066.53,1466.86 \n",
       "  \"/>\n",
       "<polyline clip-path=\"url(#clip3800)\" style=\"stroke:#000000; stroke-width:4; stroke-opacity:1; fill:none\" points=\"\n",
       "  2161.94,1487.47 2161.94,1466.86 \n",
       "  \"/>\n",
       "<polyline clip-path=\"url(#clip3800)\" style=\"stroke:#000000; stroke-width:4; stroke-opacity:1; fill:none\" points=\"\n",
       "  2257.35,1487.47 2257.35,1466.86 \n",
       "  \"/>\n",
       "<polyline clip-path=\"url(#clip3800)\" style=\"stroke:#000000; stroke-width:4; stroke-opacity:1; fill:none\" points=\"\n",
       "  2352.76,1487.47 2352.76,1466.86 \n",
       "  \"/>\n",
       "<polyline clip-path=\"url(#clip3800)\" style=\"stroke:#000000; stroke-width:4; stroke-opacity:1; fill:none\" points=\"\n",
       "  1980.66,1487.47 1986.24,1487.47 \n",
       "  \"/>\n",
       "<polyline clip-path=\"url(#clip3800)\" style=\"stroke:#000000; stroke-width:4; stroke-opacity:1; fill:none\" points=\"\n",
       "  1980.66,1143.93 1986.24,1143.93 \n",
       "  \"/>\n",
       "<polyline clip-path=\"url(#clip3800)\" style=\"stroke:#000000; stroke-width:4; stroke-opacity:1; fill:none\" points=\"\n",
       "  1980.66,800.383 1986.24,800.383 \n",
       "  \"/>\n",
       "<polyline clip-path=\"url(#clip3800)\" style=\"stroke:#000000; stroke-width:4; stroke-opacity:1; fill:none\" points=\"\n",
       "  1980.66,456.838 1986.24,456.838 \n",
       "  \"/>\n",
       "<polyline clip-path=\"url(#clip3800)\" style=\"stroke:#000000; stroke-width:4; stroke-opacity:1; fill:none\" points=\"\n",
       "  1980.66,113.292 1986.24,113.292 \n",
       "  \"/>\n",
       "<g clip-path=\"url(#clip3800)\">\n",
       "<text style=\"fill:#000000; fill-opacity:1; font-family:Arial,Helvetica Neue,Helvetica,sans-serif; font-size:48px; text-anchor:middle;\" transform=\"rotate(0, 2066.53, 1541.47)\" x=\"2066.53\" y=\"1541.47\">10</text>\n",
       "</g>\n",
       "<g clip-path=\"url(#clip3800)\">\n",
       "<text style=\"fill:#000000; fill-opacity:1; font-family:Arial,Helvetica Neue,Helvetica,sans-serif; font-size:48px; text-anchor:middle;\" transform=\"rotate(0, 2161.94, 1541.47)\" x=\"2161.94\" y=\"1541.47\">20</text>\n",
       "</g>\n",
       "<g clip-path=\"url(#clip3800)\">\n",
       "<text style=\"fill:#000000; fill-opacity:1; font-family:Arial,Helvetica Neue,Helvetica,sans-serif; font-size:48px; text-anchor:middle;\" transform=\"rotate(0, 2257.35, 1541.47)\" x=\"2257.35\" y=\"1541.47\">30</text>\n",
       "</g>\n",
       "<g clip-path=\"url(#clip3800)\">\n",
       "<text style=\"fill:#000000; fill-opacity:1; font-family:Arial,Helvetica Neue,Helvetica,sans-serif; font-size:48px; text-anchor:middle;\" transform=\"rotate(0, 2352.76, 1541.47)\" x=\"2352.76\" y=\"1541.47\">40</text>\n",
       "</g>\n",
       "<g clip-path=\"url(#clip3800)\">\n",
       "<text style=\"fill:#000000; fill-opacity:1; font-family:Arial,Helvetica Neue,Helvetica,sans-serif; font-size:48px; text-anchor:end;\" transform=\"rotate(0, 1956.66, 1504.97)\" x=\"1956.66\" y=\"1504.97\">0.00</text>\n",
       "</g>\n",
       "<g clip-path=\"url(#clip3800)\">\n",
       "<text style=\"fill:#000000; fill-opacity:1; font-family:Arial,Helvetica Neue,Helvetica,sans-serif; font-size:48px; text-anchor:end;\" transform=\"rotate(0, 1956.66, 1161.43)\" x=\"1956.66\" y=\"1161.43\">0.05</text>\n",
       "</g>\n",
       "<g clip-path=\"url(#clip3800)\">\n",
       "<text style=\"fill:#000000; fill-opacity:1; font-family:Arial,Helvetica Neue,Helvetica,sans-serif; font-size:48px; text-anchor:end;\" transform=\"rotate(0, 1956.66, 817.883)\" x=\"1956.66\" y=\"817.883\">0.10</text>\n",
       "</g>\n",
       "<g clip-path=\"url(#clip3800)\">\n",
       "<text style=\"fill:#000000; fill-opacity:1; font-family:Arial,Helvetica Neue,Helvetica,sans-serif; font-size:48px; text-anchor:end;\" transform=\"rotate(0, 1956.66, 474.338)\" x=\"1956.66\" y=\"474.338\">0.15</text>\n",
       "</g>\n",
       "<g clip-path=\"url(#clip3800)\">\n",
       "<text style=\"fill:#000000; fill-opacity:1; font-family:Arial,Helvetica Neue,Helvetica,sans-serif; font-size:48px; text-anchor:end;\" transform=\"rotate(0, 1956.66, 130.792)\" x=\"1956.66\" y=\"130.792\">0.20</text>\n",
       "</g>\n",
       "<g clip-path=\"url(#clip3800)\">\n",
       "<image width=\"55\" height=\"41\" xlink:href=\"data:image/png;base64,\n",
       "iVBORw0KGgoAAAANSUhEUgAAADcAAAApCAYAAACRB7GtAAADBUlEQVRogd1Z7W3rIBQ9feoAJCN4\n",
       "BJoRyAbMYHUCsoLVCayMQDuBs4LjCdyOQLrBfT/6jHjkCzAkUa90JUcxhgOXwz0XEBEu+TiOpJQi\n",
       "zjkBKOJVVVHTNHRtLLF+8c+6rosB8p0xdhtwxhiqqupmwAAQ57w8uHsB6/s+O7hneCaEwNfXl/0t\n",
       "pYQQAkIILJdL/3UAQNM0eHt7g5QS2+325DvnbLFYPEU1iLFze0xKScaYoNmcyKYEKWQJy67rLLC2\n",
       "bYMHaYyx7UqE1mxwxhhijEUDIyK0bWvB3RvMSXBTONZ1HT1AKaU9q+4N5iQ4zKBid4/eG4zvzwDQ\n",
       "9z2qqoomo91uR9PzarVKZ7VC9gwALy8vSXT88fFhnznnmYaUz57+hVaSLRYL+v7+BgAQUbnzKtH+\n",
       "pDbc7/cWWEpI38KSwWmt7fMjhiQwA5y73x6RTIBEcJ+fn+Tmn79q5dxVAx535ZIOR1eV3zIz0VqT\n",
       "lJI45zZdZIwR55yapjlK9KM7cBNl3CgzUUod9amUorZtSSlFQgj7n9bajie6IzdRRmGZo7W2KwSA\n",
       "lFJnZdg4jlZkd11HSeDcWXI/lNtdbckYuyqn3PeFEGngXGAAggXtnAm8BswP20kERHXqCtppRkuu\n",
       "WGhk+DWfSbrN6jg3mfj7eQqv2JUexzEenLu5c5OJWw0IDUd/YvzjILjzvu+PSnI5ycSPitBVu+TB\n",
       "L/qbNjeZ+N+OreXMAuffFeQkE611kYkLzi0n7TZZXdehTa+aK5+An0Q8S7E2dBa6riPGGDHGkqpk\n",
       "MVGR6/tH5fRztl6vnw6Hw+zJPGWufALySahksVrScpUtHgKcf8Hyq8AJIf777ZNXrG02GzocDvlI\n",
       "YY77OauryVLJqeu6+wOb3E1+U3JWY4y9t09KnEu6n95NyW+Iu6JWKWXb3R2U664qCBGoWmu7Woyx\n",
       "o3CeVU4vYbvdjl5fX+3ZJ4QA59wy6DAM6PsewzAA+GHWuq6x2WyOMpqHAzfZ+/s7aa0xDIMFyhjD\n",
       "crlEVVX2nv7SJc5fXDuKMYz47/4AAAAASUVORK5CYII=\n",
       "\" transform=\"translate(2139, -1)\"/>\n",
       "</g>\n",
       "<polyline clip-path=\"url(#clip3805)\" style=\"stroke:#ff0000; stroke-width:8; stroke-opacity:1; fill:none\" points=\"\n",
       "  1980.66,1487.47 1990.2,1487.47 1999.74,1487.47 2009.28,1487.47 2018.82,1487.47 2028.36,1487.47 2037.91,1487.47 2047.45,1487.47 2056.99,1487.47 2066.53,113.292 \n",
       "  2076.07,113.292 2085.61,113.292 2095.15,113.292 2104.69,113.292 2114.23,113.292 2123.77,113.292 2133.31,113.292 2142.86,113.292 2152.4,113.292 2161.94,113.292 \n",
       "  2171.48,113.292 2181.02,113.292 2190.56,113.292 2200.1,113.292 2209.64,113.292 2219.18,113.292 2228.72,113.292 2238.26,113.292 2247.81,113.292 2257.35,113.292 \n",
       "  2266.89,113.292 2276.43,113.292 2285.97,113.292 2295.51,113.292 2305.05,113.292 2314.59,113.292 2324.13,113.292 2333.67,113.292 2343.21,113.292 2352.76,113.292 \n",
       "  2362.3,113.292 2371.84,113.292 2381.38,113.292 2390.92,113.292 2400.46,113.292 2410,113.292 2419.54,113.292 2429.08,113.292 2438.62,113.292 2448.17,113.292 \n",
       "  2457.71,113.292 2467.25,113.292 2476.79,113.292 2486.33,113.292 2495.87,113.292 2505.41,113.292 2514.95,113.292 2524.49,113.292 2534.03,113.292 2543.57,113.292 \n",
       "  2553.12,113.292 2562.66,113.292 2572.2,113.292 2581.74,113.292 2591.28,113.292 2600.82,113.292 2610.36,113.292 2619.9,113.292 2629.44,113.292 2638.98,113.292 \n",
       "  2648.52,113.292 2658.07,113.292 2667.61,113.292 2677.15,113.292 2686.69,113.292 2696.23,113.292 2705.77,113.292 2715.31,113.292 2724.85,113.292 2734.39,113.292 \n",
       "  2743.93,113.292 2753.47,113.292 2763.02,113.292 2772.56,113.292 2782.1,113.292 2791.64,113.292 2801.18,113.292 2810.72,113.292 2820.26,113.292 2829.8,113.292 \n",
       "  2839.34,113.292 2848.88,113.292 2858.42,113.292 2867.97,113.292 2877.51,113.292 2887.05,113.292 2896.59,113.292 2906.13,113.292 2915.67,113.292 2925.21,113.292 \n",
       "  \n",
       "  \"/>\n",
       "</svg>\n"
      ],
      "text/plain": [
       "Plot{Plots.GRBackend() n=4}"
      ]
     },
     "metadata": {},
     "output_type": "display_data"
    }
   ],
   "source": [
    "p1 = plot(kvec,title=\"k\",ylims=(1.35,1.5),lw=2,legend=false);\n",
    "p2 = plot(cvec,title=\"c\",ylims=(0.61,0.67),lw=2,legend=false);\n",
    "#p3 = plot(rvec.+1 .-m.delta,title=\"r\",ylims=(1.05,1.07),lw=2,legend=false);\n",
    "p3 = plot(Rvec,title=\"R\",ylims=(0.85,1.1),lw=2,legend=false);\n",
    "p4 = plot(tauc,title=L\"\\tau_{c}\",ylims=(0,0.2),c=:red,lw=2,legend=false);\n",
    "\n",
    "plot(p1,p2,p3,p4,xlims=(1,40),layout=(1,4),titlefontsize=12)"
   ]
  }
 ],
 "metadata": {
  "kernelspec": {
   "display_name": "Julia 1.7.2",
   "language": "julia",
   "name": "julia-1.7"
  },
  "language_info": {
   "file_extension": ".jl",
   "mimetype": "application/julia",
   "name": "julia",
   "version": "1.7.2"
  },
  "orig_nbformat": 4,
  "vscode": {
   "interpreter": {
    "hash": "118d60771441099b56b467b851d37c7b4e7834dcd040d98bc56db739d7ee75f3"
   }
  }
 },
 "nbformat": 4,
 "nbformat_minor": 2
}
