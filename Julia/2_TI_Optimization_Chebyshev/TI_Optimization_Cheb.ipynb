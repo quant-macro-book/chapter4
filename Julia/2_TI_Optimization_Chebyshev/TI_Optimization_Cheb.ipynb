{
 "cells": [
  {
   "cell_type": "code",
   "execution_count": 60,
   "metadata": {},
   "outputs": [],
   "source": [
    "# 必要なパッケージを呼び出す\n",
    "using LinearAlgebra\n",
    "using NLsolve\n",
    "using Statistics\n",
    "using Printf\n",
    "using BenchmarkTools"
   ]
  },
  {
   "cell_type": "code",
   "execution_count": 61,
   "metadata": {},
   "outputs": [],
   "source": [
    "# MATLABではグローバル変数を使って関数への変数受け渡しを行う\n",
    "# Julia/Pythonではコンストラクタを用いる\n",
    "\n",
    "# ギリシャ文字の使用は不可とする\n",
    "struct Model{TI<:Integer, TF<:AbstractFloat, TV<:Vector}\n",
    "\n",
    "    # カリブレーション\n",
    "    beta::TF          # 割引因子\n",
    "    gamma::TF         # 相対的危険回避度(異時点間の代替の弾力性の逆数)\n",
    "    alpha::TF         # 資本分配率\n",
    "    delta::TF         # 固定資本減耗(delta=1.0のときは解析解が存在)  \n",
    "    #定常状態の値\n",
    "    ykss::TF\n",
    "    kss::TF\n",
    "    yss::TF\n",
    "    css::TF    \n",
    "    #グリッドに関するパラメータ\n",
    "    nk::TI            # グリッドの数\n",
    "    kmax::TF          # 資本グリッドの最大値\n",
    "    kmin::TF          # 資本グリッドの最小値\n",
    "    kgrid::TV         # 資本グリッド\n",
    "    #補間に関するパラメータ\n",
    "    T::Array{TF,2}    # 基底行列\n",
    "    invT::Array{TF,2} # 基底行列の逆関数\n",
    "    #時間反復法に関するパラメータ\n",
    "    maxiter::TI       # 繰り返し計算の最大値\n",
    "    tol::TF           # 許容誤差\n",
    "\n",
    "end"
   ]
  },
  {
   "cell_type": "code",
   "execution_count": 62,
   "metadata": {},
   "outputs": [
    {
     "data": {
      "text/plain": [
       "polybas (generic function with 1 method)"
      ]
     },
     "metadata": {},
     "output_type": "display_data"
    }
   ],
   "source": [
    "function polybas(kmin,kmax,Np,kgrid)\n",
    "    \"\"\"\n",
    "    ----------------------------------------\n",
    "    === 基底関数の行列を再帰的に求める関数 ===\n",
    "    ----------------------------------------\n",
    "    <input>\n",
    "    ・kmin: 状態変数のグリッドの最小値\n",
    "    ・kmax: 状態変数のグリッドの最大値\n",
    "    ・Np: 多項式の次数-1   \n",
    "    ・kgrid: 状態変数のグリッド(Ng個)\n",
    "    <output>\n",
    "    ・T: 基底関数の行列(NgxNp)\n",
    "    (Ng個の評価点でNp-1次のチェビシェフ多項式で近似する)\n",
    "    \"\"\"\n",
    "    Ng = length(kgrid) #グリッドの数\n",
    "    x = (2/(kmax-kmin))*(kgrid .- kmin) .- 1 # グリッドを[-1,1]の範囲に変換\n",
    "\n",
    "    # 基底関数の行列(NgxNp)を再帰的に求める\n",
    "    T = zeros(Ng,Np)\n",
    "    T0 = ones(Ng)\n",
    "    T1 = x\n",
    "    T2 = 2 .* x .* T1 .- T0\n",
    "    T[:,1] = T1\n",
    "    T[:,2] = T2\n",
    "    \n",
    "    for i in 3:Np-1\n",
    "        T[:,i] = 2 .* x .* T[:,i-1] .- T[:,i-2]\n",
    "    end\n",
    "\n",
    "    T = [T0 T[:,1:(Np-1)]]\n",
    "\n",
    "    return T\n",
    "\n",
    "end"
   ]
  },
  {
   "cell_type": "code",
   "execution_count": 63,
   "metadata": {},
   "outputs": [
    {
     "data": {
      "text/plain": [
       "polygrid (generic function with 1 method)"
      ]
     },
     "metadata": {},
     "output_type": "display_data"
    }
   ],
   "source": [
    "function polygrid(kmin,kmax,N)\n",
    "    \"\"\"\n",
    "    -----------------------------------------------\n",
    "    === チェビシェフ多項式における評価点を返す関数 ===\n",
    "    -----------------------------------------------\n",
    "    <input>\n",
    "    ・kmin: 状態変数のグリッドの最小値\n",
    "    ・kmax: 状態変数のグリッドの最大値\n",
    "    ・N: 状態変数のグリッド数\n",
    "    <output>\n",
    "    ・k: 状態変数のグリッド\n",
    "    \"\"\"\n",
    "    # チェビシェフ極値点\n",
    "    temp = collect(range(0,N-1,length=N))\n",
    "    x = -cos.((pi/(N-1)).*temp)\n",
    "    \n",
    "    # チェビシェフゼロ点\n",
    "    #x = -cos.((pi/2/(N-1) .* (2*temp.-1)))\n",
    "    #x[1] = 0.0\n",
    "\n",
    "    #x([-1,1])からk([kmin,kmax])に変換\n",
    "    k = 0.5.*(kmax-kmin).*(x.+1) .+ kmin\n",
    "\n",
    "    return k\n",
    "\n",
    "end"
   ]
  },
  {
   "cell_type": "code",
   "execution_count": 64,
   "metadata": {},
   "outputs": [
    {
     "data": {
      "text/plain": [
       "EulerEq_cheb (generic function with 1 method)"
      ]
     },
     "metadata": {},
     "output_type": "display_data"
    }
   ],
   "source": [
    "function EulerEq_cheb(x,m,capital,theta)\n",
    "    \"\"\"\n",
    "    ----------------------------------------------\n",
    "    === オイラー方程式に代入した際の残差を返す関数 ===\n",
    "    ----------------------------------------------\n",
    "    <input>\n",
    "    ・x: 今期の消費水準\n",
    "    ・m: パラメータ等を格納したコンストラクタ\n",
    "    (※Matlabコードではglobal変数を用いているが、Python/Juliaコード上ではコンストラクタにパラメータを格納しているので、\n",
    "    コンストラクタを明示的に関数の引数にして、パラメータを関数内で呼び出している。)\n",
    "    ・capital: 今期の資本保有量\n",
    "    ・theta: チェビシェフ補間した際のパラメータの値\n",
    "    <output>\n",
    "    ・res: オイラー方程式に代入した際の残差\n",
    "    \"\"\"\n",
    "    cons = x[1] # 最適化問題を解くために引数をベクトルにする必要がある。\n",
    "    wealth = (capital^m.alpha) + (1-m.delta)*capital\n",
    "    kprime = wealth - cons\n",
    "    kprime = max(m.kgrid[1],kprime) # トリック: k'は正の値しか取らない\n",
    "\n",
    "    # 次期の政策関数を多項式補間する\n",
    "    # Tはk=kprimeで評価した基底関数\n",
    "    T = polybas(m.kmin,m.kmax,m.nk,[kprime]) # 次期の資本グリッドにおける基底関数の行列を求める\n",
    "    # 多項式の係数thetaを基底関数に掛けて近似値を求める\n",
    "    cnext = (T*theta)[1]\n",
    "\n",
    "    # オイラー方程式の残差を求める（u'(c)をmu_CRRA関数を用いて計算している）\n",
    "    res = mu_CRRA(cons,m.gamma) .- m.beta*mu_CRRA(cnext,m.gamma)*(m.alpha*kprime.^(m.alpha-1).+(1-m.delta))\n",
    "\n",
    "    return res\n",
    "\n",
    "end"
   ]
  },
  {
   "cell_type": "code",
   "execution_count": 65,
   "metadata": {},
   "outputs": [
    {
     "data": {
      "text/plain": [
       "CRRA (generic function with 1 method)"
      ]
     },
     "metadata": {},
     "output_type": "display_data"
    }
   ],
   "source": [
    "function CRRA(cons,gamma)\n",
    "    \"\"\"\n",
    "    -----------------------\n",
    "    === CRRA型効用関数 ===\n",
    "    -----------------------\n",
    "    <inputs>\n",
    "    ・cons: 消費量\n",
    "    ・gamma: 相対的リスク回避度(異時点間の代替弾力性の逆数)\n",
    "    <output>\n",
    "    ・utility: consとgamma の下での効用水準\n",
    "    \"\"\"\n",
    "\n",
    "    if gamma != 1\n",
    "        utility = (cons^(1-gamma)) / (1-gamma)\n",
    "    else\n",
    "        utility = log(cos)\n",
    "    end\n",
    "\n",
    "    return utility\n",
    "\n",
    "end"
   ]
  },
  {
   "cell_type": "code",
   "execution_count": 66,
   "metadata": {},
   "outputs": [
    {
     "data": {
      "text/plain": [
       "mu_CRRA (generic function with 1 method)"
      ]
     },
     "metadata": {},
     "output_type": "display_data"
    }
   ],
   "source": [
    "function mu_CRRA(cons,gamma)\n",
    "    \"\"\"\n",
    "    --------------------------\n",
    "    === CRRA型限界効用関数 ===\n",
    "    --------------------------\n",
    "    <inputs>\n",
    "    ・cons: 消費量\n",
    "    ・gamma: 相対的リスク回避度(異時点間の代替弾力性の逆数)\n",
    "    <output>\n",
    "    ・consとgamma の下での限界効用水準\n",
    "    \"\"\"\n",
    "\n",
    "    mu = cons^(-gamma)\n",
    "\n",
    "    return mu\n",
    "    \n",
    "end"
   ]
  },
  {
   "cell_type": "code",
   "execution_count": 67,
   "metadata": {},
   "outputs": [
    {
     "data": {
      "text/plain": [
       "nti_cheb (generic function with 1 method)"
      ]
     },
     "metadata": {},
     "output_type": "display_data"
    }
   ],
   "source": [
    "function nti_cheb(m)\n",
    "    \"\"\"\n",
    "    ---------------------\n",
    "    === TI を解く関数 ===\n",
    "    ---------------------\n",
    "    <input>\n",
    "    ・m: パラメータ等を含む構造体\n",
    "    <output>\n",
    "    ・cfcn0: 政策関数\n",
    "    ・dif: 繰り返し誤差\n",
    "    \"\"\"\n",
    "    \n",
    "    # 収束の基準\n",
    "    it = 1;         # ループ・カウンター\n",
    "    dif2 = 1.0;     # 政策関数の繰り返し誤差\n",
    "    tolfun = 1e-10; # nlsolveのオプション(最適化の許容誤差)  \n",
    "\n",
    "    # STEP 1(b): 政策関数の初期値を当て推量\n",
    "    # 解析解 (for k'=g(k))\n",
    "    p_true = m.beta*m.alpha*(m.kgrid.^m.alpha);\n",
    "\n",
    "    # 政策関数の初期化\n",
    "    cfcn0 = copy(m.kgrid);\n",
    "    cfcn1 = zeros(m.nk);\n",
    "\n",
    "    # 繰り返し誤差を保存する変数を設定 \n",
    "    dif = zeros(2,m.maxiter);\n",
    "\n",
    "    # STEP 4: 政策関数を繰り返し計算\n",
    "    while (it<m.maxiter) && (dif2>m.tol)\n",
    "\n",
    "        # 補間はあらかじめグリッド上で計算した基底関数invTにより行う\n",
    "        # thetaは多項式の係数\n",
    "        theta = m.invT * cfcn0\n",
    "\n",
    "        for i in 1:m.nk\n",
    "\n",
    "            capital = m.kgrid[i]\n",
    "            wealth = (capital^m.alpha) + (1.0-m.delta)*capital\n",
    "\n",
    "            # Juliaの最適化関数(nlsolve)を使って各グリッド上の政策関数の値を探す\n",
    "            # オイラー方程式の誤差をゼロにするようなcの値を求める\n",
    "            Euler = x-> EulerEq_cheb(x,m,capital,theta);\n",
    "            # 最適化の初期値は古い政策関数の値\n",
    "            res = nlsolve(Euler,[cfcn0[i]],ftol=tolfun);\n",
    "            cons = res.zero[1];\n",
    "            cfcn1[i] = cons;\n",
    "            kprime = wealth - cons;\n",
    "    \n",
    "        end\n",
    "\n",
    "        # 繰り返し計算誤差を確認\n",
    "        dif2 = maximum(abs.(cfcn1-cfcn0));\n",
    "\n",
    "        # 収束途中の繰り返し計算誤差を保存\n",
    "        dif[2,it] = dif2;\n",
    "\n",
    "        # 政策関数をアップデート\n",
    "        cfcn0 = copy(cfcn1);\n",
    "\n",
    "        @printf \"iteration index: %1d \\n\" it  \n",
    "        @printf \"policy function iteration error: %1.6f \\n\" dif2 \n",
    "        flush(stdout)\n",
    "\n",
    "        it += 1\n",
    "\n",
    "    end\n",
    "\n",
    "    return cfcn0, dif\n",
    "end"
   ]
  },
  {
   "cell_type": "code",
   "execution_count": 68,
   "metadata": {},
   "outputs": [
    {
     "data": {
      "text/plain": [
       "calcerr (generic function with 1 method)"
      ]
     },
     "metadata": {},
     "output_type": "display_data"
    }
   ],
   "source": [
    "function calcerr(m,cfcn0)\n",
    "    \"\"\"\n",
    "    --------------------------------------\n",
    "    === オイラー方程式誤差を測定する関数 ===\n",
    "    --------------------------------------\n",
    "    <input>\n",
    "    ・m: パラメータ等を格納したコンストラクタ\n",
    "    (※Matlabコードではglobal変数を用いているが、Python/Juliaコード上ではコンストラクタにパラメータを格納しているので、\n",
    "    コンストラクタを明示的に関数の引数にして、パラメータを関数内で呼び出している。)\n",
    "    ・cfcn0: (収束した)政策関数\n",
    "    <output>\n",
    "    ・err: オイラー方程式誤差\n",
    "    \"\"\"\n",
    "\n",
    "    theta = m.invT*cfcn0\n",
    "    # 元のグリッドではオイラー方程式の誤差はゼロになるため、グリッドを細かくとる\n",
    "    kgrid_err = collect(range(m.kmin,m.kmax,length=(m.nk-1)*10+1))\n",
    "    T = polybas(m.kmin,m.kmax,m.nk,kgrid_err)\n",
    "    cons = T*theta\n",
    "    LHS = mu_CRRA.(cons,m.gamma)\n",
    "\n",
    "    kp = (kgrid_err.^m.alpha) .+ (1.0-m.delta).*kgrid_err .- cons\n",
    "    T = polybas(m.kmin,m.kmax,m.nk,kp)\n",
    "    cnext = T*theta\n",
    "    rent = m.alpha.*(kp.^(m.alpha-1.0)) .- m.delta\n",
    "    RHS = m.beta .* (1.0.+rent) .* mu_CRRA.(cnext,m.gamma)\n",
    "\n",
    "    err = (RHS./LHS) .- 1.0\n",
    "\n",
    "    return err\n",
    "\n",
    "end"
   ]
  },
  {
   "cell_type": "code",
   "execution_count": 69,
   "metadata": {},
   "outputs": [],
   "source": [
    "# メインファイル\n",
    "\n",
    "# カリブレーション\n",
    "beta = 0.96;  # 割引因子\n",
    "gamma = 1.0;  # 相対的リスク回避度(異時点間の代替の弾力性の逆数)\n",
    "alpha = 0.40; # 資本分配率\n",
    "delta = 1.0;  # 固定資本減耗(delta=1.0のときは解析解が存在)\n",
    "\n",
    "# 定常状態の値\n",
    "ykss = (1.0/beta-1.0+delta)/alpha;\n",
    "kss = ykss^(1.0/(alpha-1.0));\n",
    "yss = ykss*kss;\n",
    "css = yss-delta*kss;\n",
    "\n",
    "# グリッドに関するパラメータ\n",
    "nk = 9;         # グリッドの数\n",
    "kmax = 1.2*kss; # 資本グリッドの最大値\n",
    "kmin = 0.8*kss; # 資本グリッドの最小値\n",
    "kgrid = polygrid(kmin,kmax,nk); # チェビシェフ評価点\n",
    "\n",
    "# 補間に関するパラメータ\n",
    "T = polybas(kmin,kmax,nk,kgrid); # 基底行列\n",
    "invT = inv(T);                   # 基底行列の逆関数\n",
    "\n",
    "# 時間反復法に関するパラメータ\n",
    "maxiter = 1000; # 繰り返し計算の最大値\n",
    "tol = 1e-8;     # 許容誤差\n",
    "\n",
    "# 収束の基準に関するパラメータ\n",
    "it = 1;         # ループ・カウンター\n",
    "dif2 = 1.0;     # 政策関数の繰り返し誤差\n",
    "tolfun = 1e-10; # newtonのオプション(最適化の許容誤差)"
   ]
  },
  {
   "cell_type": "code",
   "execution_count": 70,
   "metadata": {},
   "outputs": [
    {
     "data": {
      "text/plain": [
       "\"Euler equation errors\""
      ]
     },
     "metadata": {},
     "output_type": "display_data"
    },
    {
     "data": {
      "text/plain": [
       "3×2 Matrix{Float64}:\n",
       " -3.5   -3.23\n",
       " -5.8   -5.49\n",
       " -7.68  -7.68"
      ]
     },
     "metadata": {},
     "output_type": "display_data"
    },
    {
     "data": {
      "text/plain": [
       "\"Elapsed time\""
      ]
     },
     "metadata": {},
     "output_type": "display_data"
    },
    {
     "data": {
      "text/plain": [
       "3×2 Matrix{Float64}:\n",
       " 0.0  1.0\n",
       " 0.0  2.07\n",
       " 0.0  5.07"
      ]
     },
     "metadata": {},
     "output_type": "display_data"
    }
   ],
   "source": [
    "norms = zeros(3,2);\n",
    "times = zeros(3,2);\n",
    "\n",
    "nkvec = [3,5,9];\n",
    "\n",
    "for i in 1:3\n",
    "\n",
    "    # STEP 1(a): グリッド生成\n",
    "    nk = nkvec[i];\n",
    "    kgrid = polygrid(kmin,kmax,nk);\n",
    "    T = polybas(kmin,kmax,nk,kgrid);\n",
    "    invT = inv(T);\n",
    "    \n",
    "    m = Model(beta,gamma,alpha,delta,ykss,kss,yss,css,nk,kmax,kmin,kgrid,T,invT,maxiter,tol);\n",
    "\n",
    "    # time iteration\n",
    "    cfcn0, dif = nti_cheb(m);\n",
    "    times[i,1] = @elapsed nti_cheb(m); # 非効率・2重計算/ tik toc みたいなのないのか\n",
    "\n",
    "    err = calcerr(m,cfcn0);\n",
    "    norms[i,:] = log10.([mean(abs.(err)), maximum(abs.(err))]')\n",
    "\n",
    "end\n",
    "\n",
    "times[:,2] = times[:,1]./times[1,1]\n",
    "\n",
    "\n",
    "display(\"Euler equation errors\")\n",
    "display(round.(norms,digits=2))\n",
    "\n",
    "display(\"Elapsed time\")\n",
    "display(round.(times,digits=2))"
   ]
  }
 ],
 "metadata": {
  "kernelspec": {
   "display_name": "Julia 1.7.2",
   "language": "julia",
   "name": "julia-1.7"
  },
  "language_info": {
   "file_extension": ".jl",
   "mimetype": "application/julia",
   "name": "julia",
   "version": "1.7.2"
  },
  "orig_nbformat": 4
 },
 "nbformat": 4,
 "nbformat_minor": 2
}
