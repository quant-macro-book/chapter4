{
 "cells": [
  {
   "cell_type": "code",
   "execution_count": 2,
   "metadata": {},
   "outputs": [
    {
     "name": "stdout",
     "output_type": "stream",
     "text": [
      "Created file 'C:\\Users\\takeki\\Documents\\keizai-seminar\\chapter4\\Matlab\\3_TI_Optimization_Chebyshev\\polybas.m'.\n"
     ]
    }
   ],
   "source": [
    "%%file polybas.m\n",
    "function T = polybas(kmin,kmax,Np,kgrid)\n",
    "\n",
    "    % Np: 多項式の次数-1\n",
    "    % Ng: グリッドの数\n",
    "    Ng = size(kgrid,1);\n",
    "    x = (2/(kmax-kmin))*(kgrid-kmin) - 1;\n",
    "    \n",
    "    % 基底関数の行列(NgxNp)を再帰的に求める\n",
    "    T = zeros(Ng,Np);\n",
    "    T0 = ones(Ng,1);\n",
    "    T1 = x;\n",
    "    T2 = 2*x.*T1 - T0;\n",
    "    T(:,1) = T1;\n",
    "    T(:,2) = T2;\n",
    "    \n",
    "    for i=3:Np-1\n",
    "        T(:,i) = 2*x.*T(:,i-1) - T(:,i-2);\n",
    "    end\n",
    "    \n",
    "    T = [T0 T(:,1:(Np-1))];"
   ]
  },
  {
   "cell_type": "code",
   "execution_count": 3,
   "metadata": {},
   "outputs": [
    {
     "name": "stdout",
     "output_type": "stream",
     "text": [
      "Created file 'C:\\Users\\takeki\\Documents\\keizai-seminar\\chapter4\\Matlab\\3_TI_Optimization_Chebyshev\\polygrid.m'.\n"
     ]
    }
   ],
   "source": [
    "%%file polygrid.m\n",
    "function k = polygrid(kmin,kmax,N)\n",
    "\n",
    "    temp = linspace(0,N-1,N)'; %[0:N-1:1]'; % チェビシェフ極値点\n",
    "    x = -cos((pi/(N-1))*temp);\n",
    "%    temp = linspace(0,N-1,N)'; %[0:N-1:1]'; % チェビシェフゼロ点\n",
    "%    x = [0; -cos((pi/2/(N-1))*(2*temp - 1))]\n",
    "    \n",
    "    % xからkに変換\n",
    "    k = 0.5*(kmax-kmin)*(x+1) + kmin;"
   ]
  },
  {
   "cell_type": "code",
   "execution_count": 4,
   "metadata": {},
   "outputs": [
    {
     "name": "stdout",
     "output_type": "stream",
     "text": [
      "Created file 'C:\\Users\\takeki\\Documents\\keizai-seminar\\chapter4\\Matlab\\3_TI_Optimization_Chebyshev\\EulerEq_cheb.m'.\n"
     ]
    }
   ],
   "source": [
    "%%file EulerEq_cheb.m\n",
    "function  res = EulerEq_cheb(cons,m,capital,theta)\n",
    "% cを与えたときのオイラー方程式の残差を返す関数\n",
    "\n",
    "wealth = capital.^m.alpha + (1.-m.delta).*capital;\n",
    "\n",
    "kprime = wealth - cons;\n",
    "% トリック: k'は正の値しか取らない\n",
    "kprime = max(m.kgrid(1),kprime);\n",
    "\n",
    "% 次期の政策関数を線形補間: m.nk=21のときは政策関数の形がおかしい???\n",
    "%cnext = interp1(m.kgrid,cfcn,kprime,'linear','extrap');\n",
    "% 次期の価値関数をスプライン補間\n",
    "%cnext = interp1(m.kgrid,cfcn,kprime,'spline');\n",
    "% 次期の価値関数を多項式補間\n",
    "T = polybas(m.kmin,m.kmax,m.nk,kprime);\n",
    "cnext = T*theta;\n",
    "\n",
    "% オイラー方程式\n",
    "res = (1/cons) - m.beta*(1/cnext)*(m.alpha*kprime.^(m.alpha-1) + (1.-m.delta));\n",
    " \n",
    "return"
   ]
  },
  {
   "cell_type": "code",
   "execution_count": 5,
   "metadata": {
    "scrolled": true
   },
   "outputs": [
    {
     "name": "stdout",
     "output_type": "stream",
     "text": [
      "Created file 'C:\\Users\\takeki\\Documents\\keizai-seminar\\chapter4\\Matlab\\3_TI_Optimization_Chebyshev\\CRRA.m'.\n"
     ]
    }
   ],
   "source": [
    "%%file CRRA.m\n",
    "function util = CRRA(cons,gamma)\n",
    "% Function CRRA\n",
    "%  utility = CRRA( consumption, gamma )\n",
    "%\n",
    "% Purpose:\n",
    "%  Compute CRRA utility function\n",
    "%\n",
    "%  Record of revisions:\n",
    "%     Date     Programmer  Description of change\n",
    "%  ==========  ==========  =====================\n",
    "%  10/05/2002  T. Yamada   Original code\n",
    "\n",
    "if gamma ~= 1;\n",
    "    util = cons.^(1-gamma)./(1-gamma);\n",
    "else\n",
    "    util = log(cons);\n",
    "end\n",
    "\n",
    "return"
   ]
  },
  {
   "cell_type": "code",
   "execution_count": 6,
   "metadata": {},
   "outputs": [
    {
     "name": "stdout",
     "output_type": "stream",
     "text": [
      "Created file 'C:\\Users\\takeki\\Documents\\keizai-seminar\\chapter4\\Matlab\\3_TI_Optimization_Chebyshev\\mu_CRRA.m'.\n"
     ]
    }
   ],
   "source": [
    "%%file mu_CRRA.m\n",
    "function mu = mu_CRRA( cons, gamma )\n",
    "% Function mu_CRRA\n",
    "%  marginal_utility = mu_CRRA( consumption, gamma )\n",
    "%\n",
    "% Purpose:\n",
    "%  Compute marginal utility of CRRA-type function\n",
    "%\n",
    "%  Record of revisions:\n",
    "%     Date     Programmer  Description of change\n",
    "%  ==========  ==========  =====================\n",
    "%  02/22/2016  T. Yamada   Original code\n",
    "\n",
    "mu = cons.^-gamma;\n",
    "\n",
    "return"
   ]
  },
  {
   "cell_type": "code",
   "execution_count": 7,
   "metadata": {},
   "outputs": [
    {
     "name": "stdout",
     "output_type": "stream",
     "text": [
      "Created file 'C:\\Users\\takeki\\Documents\\keizai-seminar\\chapter4\\Matlab\\3_TI_Optimization_Chebyshev\\nti_cheb.m'.\n"
     ]
    }
   ],
   "source": [
    "%%file nti_cheb.m\n",
    "function [cfcn0 dif] = nti_cheb(m)\n",
    "\n",
    "options = optimoptions('fsolve','Display','none'); % fsolveのオプション(最適化の結果を非表示にする)\n",
    "\n",
    "% *** 収束の基準 ***\n",
    "it = 1;          % ループ・カウンター\n",
    "dif2 = 1.0;      % 政策関数の繰り返し誤差\n",
    "options.TolFun = 1.0e-10; % fsolveのオプション(最適化の許容誤差)\n",
    "\n",
    "% disp(' ')\n",
    "% disp('-+- Solve a neoclassical growth model with time iteration -+-');\n",
    "% disp(' ')\n",
    "\n",
    "%% STEP 1(b): 政策関数の初期値を当て推量\n",
    "% 解析解 (for k'=g(k))\n",
    "p_true = m.beta*m.alpha*(m.kgrid.^m.alpha);\n",
    "\n",
    "% 政策関数の初期化\n",
    "cfcn0 = m.kgrid;\n",
    "%cfcn0 = m.css/m.kss*m.kgrid;\n",
    "%cfcn0 = m.kgrid.^m.alpha - p_true;\n",
    "%cfcn0 = m.css*ones(nk,1);\n",
    "cfcn1 = zeros(m.nk,1);\n",
    "\n",
    "% 繰り返し誤差を保存する変数を設定 \n",
    "dif = zeros(2,m.maxiter);\n",
    "\n",
    "%% STEP 4: 政策関数を繰り返し計算\n",
    "while (it < m.maxiter && dif2 > m.tol)\n",
    "\n",
    "%     fprintf('iteration index: %i \\n', it);\n",
    "%     fprintf('policy function iteration error: %e\\n', dif2);\n",
    "\n",
    "    theta = m.invT*cfcn0;\n",
    "\n",
    "    for i = 1:m.nk\n",
    "\n",
    "        capital = m.kgrid(i);\n",
    "        wealth = capital.^m.alpha + (1.-m.delta).*capital;\n",
    "\n",
    "        % MATLABの最適化関数(fsolve)を使って各グリッド上の政策関数の値を探す\n",
    "        % 最適化の初期値は古い政策関数の値\n",
    "        cons = fsolve(@EulerEq_cheb,cfcn0(i,1),options,m,capital,theta);\n",
    "        % 最適化の初期値は定常状態の値: これでは解けない\n",
    "        % cons = fsolve(@EulerEq2,css,options,m,capital,cfcn0);\n",
    "        cfcn1(i,1) = cons;\n",
    "        kprime = wealth-cons;\n",
    "        % グリッドごとに最適化の結果を確認\n",
    "        %disp([cons capital wealth kprime]);\n",
    "        %pause\n",
    "\n",
    "    end\n",
    "\n",
    "    % 繰り返し計算誤差を確認\n",
    "    dif2 = max(abs(cfcn1-cfcn0));\n",
    "    \n",
    "    % 収束途中の繰り返し計算誤差を保存\n",
    "    dif(2,it) = dif2;\n",
    "\n",
    "    % 政策関数をアップデート\n",
    "    cfcn0 = cfcn1;\n",
    "\n",
    "    it = it + 1;\n",
    "\n",
    "end"
   ]
  },
  {
   "cell_type": "code",
   "execution_count": 8,
   "metadata": {},
   "outputs": [
    {
     "name": "stdout",
     "output_type": "stream",
     "text": [
      "Created file 'C:\\Users\\takeki\\Documents\\keizai-seminar\\chapter4\\Matlab\\3_TI_Optimization_Chebyshev\\calcerr.m'.\n"
     ]
    }
   ],
   "source": [
    "%%file calcerr.m\n",
    "function err = calcerr(m,cfcn0)\n",
    "%% オイラー方程式から誤差を測定\n",
    "% 元のグリッドではオイラー方程式の誤差はゼロになるため、グリッドを細かくとる\n",
    "theta = m.invT*cfcn0;\n",
    "kgrid_err = linspace(m.kmin,m.kmax,(m.nk-1)*10+1)';\n",
    "T = polybas(m.kmin,m.kmax,m.nk,kgrid_err);\n",
    "cons = T*theta;\n",
    "%cons = interp1(m.kgrid,cfcn0(:,1),kgrid_err);\n",
    "LHS  = mu_CRRA(cons, m.gamma);\n",
    "\n",
    "kp   = kgrid_err.^m.alpha + (1-m.delta)*kgrid_err - cons;\n",
    "T = polybas(m.kmin,m.kmax,m.nk,kp);\n",
    "cnext = T*theta;\n",
    "%cnext = interp1(m.kgrid, cfcn0(:,1), kp);\n",
    "rent = m.alpha.*kp.^(m.alpha-1.0) - m.delta;\n",
    "RHS  = m.beta.*(1.+rent).*mu_CRRA(cnext,m.gamma);\n",
    "\n",
    "err  = RHS./LHS-1.0;"
   ]
  },
  {
   "cell_type": "code",
   "execution_count": 9,
   "metadata": {
    "scrolled": true
   },
   "outputs": [
    {
     "name": "stdout",
     "output_type": "stream",
     "text": [
      "\n"
     ]
    }
   ],
   "source": [
    "% カリブレーション\n",
    "m.beta  = 0.96; % 割引因子\n",
    "m.gamma = 1.0;  % 相対的危険回避度(異時点間の代替の弾力性の逆数)\n",
    "m.alpha = 0.40; % 資本分配率\n",
    "m.delta = 1.00; % 固定資本減耗(delta=1.0のときは解析解が存在)\n",
    "\n",
    "% 定常状態の値\n",
    "m.ykss = (1/m.beta-1+m.delta)/m.alpha;\n",
    "m.kss = m.ykss^(1/(m.alpha-1));\n",
    "m.yss = m.ykss*m.kss;\n",
    "m.css = m.yss-m.delta*m.kss;\n",
    "\n",
    "% m.kmax = 0.5;   % 資本グリッドの最大値\n",
    "% m.kmin = 0.05;  % 資本グリッドの最小値 (0にすると生産が出来なくなる)\n",
    "m.kmax = 1.2*m.kss;  % 資本グリッドの最大値\n",
    "m.kmin = 0.8*m.kss;  % 資本グリッドの最小値 (0にすると生産が出来なくなる)\n",
    "\n",
    "m.maxiter = 1000; % 繰り返し計算の最大値\n",
    "m.tol  = 1.0e-8;  % 許容誤差(STEP 2)"
   ]
  },
  {
   "cell_type": "code",
   "execution_count": 15,
   "metadata": {},
   "outputs": [
    {
     "name": "stdout",
     "output_type": "stream",
     "text": [
      " Euler equation errors\n",
      "   -3.5000   -3.2300\n",
      "   -5.8000   -5.4900\n",
      "   -7.6800   -7.6800\n",
      "\n",
      " Elasped time\n",
      "    0.0800    1.0000\n",
      "    0.1300    1.5400\n",
      "    0.2000    2.3500\n",
      "\n",
      "\n"
     ]
    }
   ],
   "source": [
    "norms = zeros(3,2);\n",
    "times = zeros(3,2);\n",
    "\n",
    "nkvec = [3 5 9]';\n",
    "\n",
    "for i=1:3\n",
    "\n",
    "    %% STEP 1(a): グリッド生成\n",
    "    m.nk = nkvec(i);\n",
    "    m.kgrid = polygrid(m.kmin,m.kmax,m.nk);\n",
    "    m.T = polybas(m.kmin,m.kmax,m.nk,m.kgrid);\n",
    "    m.invT = inv(m.T);\n",
    "\n",
    "    % time iteration\n",
    "    tic;\n",
    "    [cfcn0 dif] = nti_cheb(m);\n",
    "    times(i,1) = toc;\n",
    "\n",
    "    err = calcerr(m,cfcn0);\n",
    "    norms(i,:) = log10([mean(abs(err)) max(abs(err))]);\n",
    "    \n",
    "end\n",
    "\n",
    "times(:,2) = times(:,1)/times(1,1);\n",
    "\n",
    "disp(\" Euler equation errors\");\n",
    "disp([round(norms,2)]);\n",
    "disp(\" Elasped time\");\n",
    "disp([round(times,2)]);"
   ]
  },
  {
   "cell_type": "code",
   "execution_count": 11,
   "metadata": {},
   "outputs": [
    {
     "name": "stdout",
     "output_type": "stream",
     "text": [
      "\n"
     ]
    }
   ],
   "source": [
    "%% 最終的な政策関数が得られてから貯蓄関数を計算\n",
    "% pfcn0 = m.kgrid.^m.alpha + (1-m.delta)*m.kgrid - cfcn0;"
   ]
  },
  {
   "cell_type": "code",
   "execution_count": 12,
   "metadata": {},
   "outputs": [
    {
     "name": "stdout",
     "output_type": "stream",
     "text": [
      "\n"
     ]
    }
   ],
   "source": [
    "%% 解析的解\n",
    "% p_true = m.beta*m.alpha*(m.kgrid.^m.alpha);"
   ]
  },
  {
   "cell_type": "code",
   "execution_count": 13,
   "metadata": {},
   "outputs": [
    {
     "name": "stdout",
     "output_type": "stream",
     "text": [
      "\n"
     ]
    }
   ],
   "source": [
    "% figure;\n",
    "% plot(m.kgrid, pfcn0, '-', 'color', 'blue', 'linewidth', 3); hold('on');\n",
    "% plot(m.kgrid, p_true, '--', 'color', 'red', 'linewidth', 3);\n",
    "% plot(m.kgrid, m.kgrid, ':', 'color', 'black', 'linewidth', 2); hold('off');\n",
    "% xlabel('今期の資本保有量：k', 'Fontsize', 16);\n",
    "% ylabel(\"次期の資本保有量：k'\", 'Fontsize', 16);\n",
    "% xlim([0, m.kmax]);\n",
    "% legend('近似解', '解析的解', '45度線', 'Location', 'NorthWest');\n",
    "% grid on;\n",
    "% set(gca,'Fontsize', 16);"
   ]
  },
  {
   "cell_type": "code",
   "execution_count": 14,
   "metadata": {},
   "outputs": [
    {
     "name": "stdout",
     "output_type": "stream",
     "text": [
      "\n"
     ]
    }
   ],
   "source": [
    "% %err2 = csvread(\"err_ndp.csv\");\n",
    "% %figure;\n",
    "% plot(kgrid_err, abs(err), '-', 'color', 'blue', 'linewidth', 3); hold('on');\n",
    "% %plot(kgrid_err, abs(err2), '--', 'color', 'red', 'linewidth', 3); hold('off');\n",
    "% xlabel('資本保有量：k', 'Fontsize', 16);\n",
    "% ylabel('オイラー方程式誤差(絶対値)', 'Fontsize', 16);\n",
    "% %legend('TI', 'VFI', 'Location', 'NorthEast');\n",
    "% grid on;\n",
    "% set(gca,'Fontsize', 16);"
   ]
  },
  {
   "cell_type": "code",
   "execution_count": null,
   "metadata": {},
   "outputs": [],
   "source": []
  }
 ],
 "metadata": {
  "@webio": {
   "lastCommId": null,
   "lastKernelId": null
  },
  "kernelspec": {
   "display_name": "Matlab",
   "language": "matlab",
   "name": "matlab"
  },
  "language_info": {
   "codemirror_mode": "octave",
   "file_extension": ".m",
   "help_links": [
    {
     "text": "MetaKernel Magics",
     "url": "https://github.com/calysto/metakernel/blob/master/metakernel/magics/README.md"
    }
   ],
   "mimetype": "text/x-octave",
   "name": "matlab",
   "version": "0.16.2"
  }
 },
 "nbformat": 4,
 "nbformat_minor": 2
}
